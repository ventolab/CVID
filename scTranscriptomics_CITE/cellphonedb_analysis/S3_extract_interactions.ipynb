{
 "cells": [
  {
   "cell_type": "markdown",
   "metadata": {},
   "source": [
    "# Extract database - run cellphone without statistical analysis to get all the L/R interactions"
   ]
  },
  {
   "cell_type": "code",
   "execution_count": 1,
   "metadata": {},
   "outputs": [],
   "source": [
    "%%bash\n",
    "\n",
    "source ~/notebooks/Vento_Lab/CVID/202009_new_analysis_revision/CITE_all_samples_analysis/CVID/scTranscriptomics_CITE/cellphonedb_analysis/cpdb-venv/bin/activate"
   ]
  },
  {
   "cell_type": "code",
   "execution_count": 3,
   "metadata": {},
   "outputs": [
    {
     "name": "stdout",
     "output_type": "stream",
     "text": [
      "/home/jovyan/notebooks/Vento_Lab/CVID/202009_new_analysis_revision/CITE_all_samples_analysis/CVID/scTranscriptomics_CITE/cellphonedb_analysis\n"
     ]
    }
   ],
   "source": [
    "%%bash\n",
    "\n",
    "pwd"
   ]
  },
  {
   "cell_type": "code",
   "execution_count": 8,
   "metadata": {},
   "outputs": [
    {
     "name": "stdout",
     "output_type": "stream",
     "text": [
      "[ ][APP][18/02/21-18:52:17][WARNING] User selected database `/home/jovyan/notebooks/Vento_Lab/CVID/202009_new_analysis_revision/CITE_all_samples_analysis/CVID/scTranscriptomics_CITE/cellphonedb_analysis/database_20210218/cellphonedb_user_2021-02-18-14_26.db` is available, using it\n",
      "[ ][CORE][18/02/21-18:52:17][INFO] Initializing SqlAlchemy CellPhoneDB Core\n",
      "[ ][CORE][18/02/21-18:52:17][INFO] Using custom database at /home/jovyan/notebooks/Vento_Lab/CVID/202009_new_analysis_revision/CITE_all_samples_analysis/CVID/scTranscriptomics_CITE/cellphonedb_analysis/database_20210218/cellphonedb_user_2021-02-18-14_26.db\n",
      "[ ][APP][18/02/21-18:52:17][INFO] Launching Method cpdb_analysis_local_method_launcher\n",
      "[ ][APP][18/02/21-18:52:17][INFO] Launching Method _set_paths\n",
      "[ ][APP][18/02/21-18:52:17][INFO] Launching Method _load_meta_counts\n",
      "[ ][CORE][18/02/21-20:17:14][INFO] Launching Method cpdb_method_analysis_launcher\n",
      "[ ][CORE][18/02/21-20:17:14][INFO] Launching Method _counts_validations\n",
      "[ ][CORE][18/02/21-20:21:45][INFO] [Non Statistical Method] Threshold:0.0 Precision:3\n",
      "[ ][CORE][18/02/21-20:22:33][INFO] Running Real Analysis\n",
      "[ ][CORE][18/02/21-20:24:24][INFO] Building results\n"
     ]
    },
    {
     "name": "stderr",
     "output_type": "stream",
     "text": [
      "/opt/conda/lib/python3.7/site-packages/cellphonedb/src/core/methods/cpdb_statistical_analysis_helper.py:88: SettingWithCopyWarning: \n",
      "A value is trying to be set on a copy of a slice from a DataFrame.\n",
      "Try using .loc[row_indexer,col_indexer] = value instead\n",
      "\n",
      "See the caveats in the documentation: http://pandas.pydata.org/pandas-docs/stable/user_guide/indexing.html#returning-a-view-versus-a-copy\n",
      "  lambda protein: clusters['means'].at[protein, cluster_name])\n"
     ]
    }
   ],
   "source": [
    "%%bash\n",
    "\n",
    "# takes about 2 hours on 100K cells, needs about 40-50 Gb of RAM\n",
    "\n",
    "cellphonedb method analysis \\\n",
    "    /lustre/scratch117/cellgen/team292/aa22/adata_objects/202009_CVID_revision/20210218_cellphonedb_meta.tsv \\\n",
    "    /lustre/scratch117/cellgen/team292/aa22/adata_objects/202009_CVID_revision/20210218_cellphonedb_counts.csv \\\n",
    "    --database /home/jovyan/notebooks/Vento_Lab/CVID/202009_new_analysis_revision/CITE_all_samples_analysis/CVID/scTranscriptomics_CITE/cellphonedb_analysis/database_20210218/cellphonedb_user_2021-02-18-14_26.db \\\n",
    "    --counts-data hgnc_symbol \\\n",
    "    --output-path /home/jovyan/notebooks/Vento_Lab/CVID/202009_new_analysis_revision/CITE_all_samples_analysis/CVID/scTranscriptomics_CITE/cellphonedb_analysis/out/ \\\n",
    "    --threshold 0"
   ]
  },
  {
   "cell_type": "code",
   "execution_count": null,
   "metadata": {},
   "outputs": [],
   "source": []
  }
 ],
 "metadata": {
  "kernelspec": {
   "display_name": "Python 3",
   "language": "python",
   "name": "python3"
  },
  "language_info": {
   "codemirror_mode": {
    "name": "ipython",
    "version": 3
   },
   "file_extension": ".py",
   "mimetype": "text/x-python",
   "name": "python",
   "nbconvert_exporter": "python",
   "pygments_lexer": "ipython3",
   "version": "3.8.8"
  }
 },
 "nbformat": 4,
 "nbformat_minor": 4
}
