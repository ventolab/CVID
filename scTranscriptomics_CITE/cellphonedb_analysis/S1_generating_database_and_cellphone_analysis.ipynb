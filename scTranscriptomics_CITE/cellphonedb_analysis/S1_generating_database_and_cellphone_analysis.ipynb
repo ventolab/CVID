{
 "cells": [
  {
   "cell_type": "markdown",
   "metadata": {},
   "source": [
    "# Generating CellPhone database"
   ]
  },
  {
   "cell_type": "markdown",
   "metadata": {},
   "source": [
    "## Activate cellphoneDB conda environment"
   ]
  },
  {
   "cell_type": "markdown",
   "metadata": {},
   "source": [
    "Prior to doing this, please see https://github.com/Teichlab/cellphonedb for instructions on how to create a cellphonedb conda environment"
   ]
  },
  {
   "cell_type": "code",
   "execution_count": 5,
   "metadata": {},
   "outputs": [],
   "source": [
    "%%bash \n",
    "\n",
    "source ~/notebooks/Vento_Lab/CVID/202009_new_analysis_revision/CITE_all_samples_analysis/CVID/scTranscriptomics_CITE/cellphonedb_analysis/cpdb-venv/bin/activate"
   ]
  },
  {
   "cell_type": "code",
   "execution_count": 11,
   "metadata": {},
   "outputs": [
    {
     "name": "stdout",
     "output_type": "stream",
     "text": [
      "read local uniprot file\n",
      "[ ][APP][18/02/21-14:22:35][WARNING] Output directory (database_20210218) exist and is not empty. Result can overwrite old results\n",
      "read local ensembl file\n",
      "read local uniprot file\n",
      "[ ][APP][18/02/21-14:22:50][WARNING] Output directory (database_20210218) exist and is not empty. Result can overwrite old results\n",
      "[ ][APP][18/02/21-14:22:50][WARNING] There are differences between merged files: logged to database_20210218/log.txt\n",
      "[ ][APP][18/02/21-14:22:50][WARNING] Output directory (database_20210218) exist and is not empty. Result can overwrite old results\n",
      "[ ][APP][18/02/21-14:22:50][WARNING] Output directory (database_20210218) exist and is not empty. Result can overwrite old results\n",
      "[ ][APP][18/02/21-14:22:50][WARNING] Output directory (database_20210218) exist and is not empty. Result can overwrite old results\n",
      "Using local version for source InnateDB\n",
      "Using local version for source InnateDB-All\n",
      "Using local version for source IMEx\n",
      "Using local version for source IntAct\n",
      "Using local version for source bhf-ucl\n",
      "Using local version for source MatrixDB\n",
      "Using local version for source MINT\n",
      "Using local version for source I2D\n",
      "Using local version for source UniProt\n",
      "Using local version for source MBInfo\n",
      "\n",
      "Parsing IMEX file\n",
      "Getting iuphar data\n",
      "[ ][APP][18/02/21-14:26:30][WARNING] Using local version for iuphar\n",
      "Generating iuphar interactions\n",
      "WARNING: 1 GENE NAMES IN GUIDETOPHARMACOLOGY DATABASE DIDNT EXIST IN CELLPHONEDB DATABASE\n",
      "['MT-RNR2']\n",
      "Merging iuphar/imex\n",
      "Removing complex interactions\n",
      "Removing selected interactions\n",
      "Adding curated interaction\n",
      "[ ][APP][18/02/21-14:26:35][WARNING] Output directory (database_20210218) exist and is not empty. Result can overwrite old results\n",
      "[ ][APP][18/02/21-14:26:35][WARNING] There are some proteins or complexes not interacting properly: `ACVR_1B2A_receptor, Glycoprotein_Ib_complex, reactome`\n",
      "[ ][CORE][18/02/21-14:26:35][INFO] Initializing SqlAlchemy CellPhoneDB Core\n",
      "[ ][CORE][18/02/21-14:26:35][INFO] Using custom database at /home/jovyan/notebooks/Vento_Lab/CVID/202009_new_analysis_revision/CITE_all_samples_analysis/CVID/scTranscriptomics_CITE/cellphonedb_analysis/database_20210218/cellphonedb_user_2021-02-18-14_26.db\n",
      "[ ][APP][18/02/21-14:26:35][INFO] Collecting protein\n",
      "[ ][CORE][18/02/21-14:26:35][INFO] Initializing SqlAlchemy CellPhoneDB Core\n",
      "[ ][CORE][18/02/21-14:26:35][INFO] Using custom database at /home/jovyan/notebooks/Vento_Lab/CVID/202009_new_analysis_revision/CITE_all_samples_analysis/CVID/scTranscriptomics_CITE/cellphonedb_analysis/database_20210218/cellphonedb_user_2021-02-18-14_26.db\n",
      "[ ][CORE][18/02/21-14:26:35][INFO] Collecting protein\n",
      "[ ][APP][18/02/21-14:26:36][INFO] Collecting gene\n",
      "[ ][CORE][18/02/21-14:26:36][INFO] Initializing SqlAlchemy CellPhoneDB Core\n",
      "[ ][CORE][18/02/21-14:26:36][INFO] Using custom database at /home/jovyan/notebooks/Vento_Lab/CVID/202009_new_analysis_revision/CITE_all_samples_analysis/CVID/scTranscriptomics_CITE/cellphonedb_analysis/database_20210218/cellphonedb_user_2021-02-18-14_26.db\n",
      "[ ][CORE][18/02/21-14:26:36][INFO] Collecting gene\n",
      "[ ][APP][18/02/21-14:26:36][INFO] Collecting complex\n",
      "[ ][CORE][18/02/21-14:26:36][INFO] Initializing SqlAlchemy CellPhoneDB Core\n",
      "[ ][CORE][18/02/21-14:26:36][INFO] Using custom database at /home/jovyan/notebooks/Vento_Lab/CVID/202009_new_analysis_revision/CITE_all_samples_analysis/CVID/scTranscriptomics_CITE/cellphonedb_analysis/database_20210218/cellphonedb_user_2021-02-18-14_26.db\n",
      "[ ][CORE][18/02/21-14:26:36][INFO] Collecting complex\n",
      "[ ][APP][18/02/21-14:26:36][INFO] Collecting interaction\n",
      "[ ][CORE][18/02/21-14:26:36][INFO] Initializing SqlAlchemy CellPhoneDB Core\n",
      "[ ][CORE][18/02/21-14:26:36][INFO] Using custom database at /home/jovyan/notebooks/Vento_Lab/CVID/202009_new_analysis_revision/CITE_all_samples_analysis/CVID/scTranscriptomics_CITE/cellphonedb_analysis/database_20210218/cellphonedb_user_2021-02-18-14_26.db\n",
      "[ ][CORE][18/02/21-14:26:36][INFO] Collecting interaction\n"
     ]
    },
    {
     "name": "stderr",
     "output_type": "stream",
     "text": [
      "/opt/conda/lib/python3.7/site-packages/cellphonedb/src/core/generators/gene_generator.py:31: SettingWithCopyWarning: \n",
      "A value is trying to be set on a copy of a slice from a DataFrame\n",
      "\n",
      "See the caveats in the documentation: http://pandas.pydata.org/pandas-docs/stable/user_guide/indexing.html#returning-a-view-versus-a-copy\n",
      "  ensembl_db_filtered.dropna(inplace=True)\n",
      "Fetching sources    : 100%|██████████| 10/10 [00:05<00:00,  1.92it/s]\n",
      "/opt/conda/lib/python3.7/site-packages/pandas/core/frame.py:4238: SettingWithCopyWarning: \n",
      "A value is trying to be set on a copy of a slice from a DataFrame\n",
      "\n",
      "See the caveats in the documentation: http://pandas.pydata.org/pandas-docs/stable/user_guide/indexing.html#returning-a-view-versus-a-copy\n",
      "  return super().rename(**kwargs)\n",
      "/opt/conda/lib/python3.7/site-packages/pandas/core/frame.py:7138: FutureWarning: Sorting because non-concatenation axis is not aligned. A future version\n",
      "of pandas will change to not sort by default.\n",
      "\n",
      "To accept the future behavior, pass 'sort=False'.\n",
      "\n",
      "To retain the current behavior and silence the warning, pass 'sort=True'.\n",
      "\n",
      "  sort=sort,\n"
     ]
    }
   ],
   "source": [
    "%%bash\n",
    "\n",
    "cd /home/jovyan/notebooks/Vento_Lab/CVID/202009_new_analysis_revision/CITE_all_samples_analysis/CVID/scTranscriptomics_CITE/cellphonedb_analysis/\n",
    "\n",
    "cellphonedb database generate \\\n",
    "    --result-path database_20210218 \\\n",
    "    --user-gene ./gene_input.csv \\\n",
    "    --user-complex ./complex_curated.tsv \\\n",
    "    --user-interactions ./interactions_curated_subset_notLuz.tsv"
   ]
  },
  {
   "cell_type": "code",
   "execution_count": null,
   "metadata": {},
   "outputs": [],
   "source": []
  },
  {
   "cell_type": "code",
   "execution_count": null,
   "metadata": {},
   "outputs": [],
   "source": []
  },
  {
   "cell_type": "code",
   "execution_count": null,
   "metadata": {},
   "outputs": [],
   "source": []
  }
 ],
 "metadata": {
  "kernelspec": {
   "display_name": "Python 3",
   "language": "python",
   "name": "python3"
  },
  "language_info": {
   "codemirror_mode": {
    "name": "ipython",
    "version": 3
   },
   "file_extension": ".py",
   "mimetype": "text/x-python",
   "name": "python",
   "nbconvert_exporter": "python",
   "pygments_lexer": "ipython3",
   "version": "3.8.8"
  }
 },
 "nbformat": 4,
 "nbformat_minor": 4
}
