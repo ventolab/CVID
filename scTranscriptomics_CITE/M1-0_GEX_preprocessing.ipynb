{
 "cells": [
  {
   "cell_type": "markdown",
   "metadata": {},
   "source": [
    "# New CVID data\n",
    "\n",
    "All samples (batch 1 + batch 2)\n",
    "\n",
    "14.12.2020\n",
    "\n",
    "09.02.2021: reanalysis without twins"
   ]
  },
  {
   "cell_type": "markdown",
   "metadata": {},
   "source": [
    "This is a preprocessing notebook, so this happens here:\n",
    "\n",
    "Step-by-step workflow - **different to the scRNA-seq integration in doublet calling**:\n",
    "\n",
    "- load\n",
    "- filter genes, cells, add info\n",
    "- perform **step 1** of calling doublets using Krzysztof's bertie doublet caller:\n",
    "    - see bertie_doublet_caller.ipynb in /home/jovyan/ and read comments\n",
    "- concatenate\n",
    "- add doublet scores from saved tables (bertie)\n",
    "- filter MT-high cells\n",
    "- make cells (obs) and var (genes) unique\n",
    "- parsing souporcell deconvolution results\n",
    "- save preprocessed object"
   ]
  },
  {
   "cell_type": "code",
   "execution_count": 1,
   "metadata": {},
   "outputs": [],
   "source": [
    "%matplotlib inline\n",
    "%config InlineBackend.figure_format = 'retina'\n",
    "\n",
    "import numpy as np\n",
    "import pandas as pd\n",
    "import scrublet as scr\n",
    "import seaborn as sns\n",
    "import scanpy as sc\n",
    "from glob import iglob\n",
    "import anndata\n",
    "import bbknn\n",
    "#import scrublet as scr # requires 'pip install scrublet'\n",
    "import os\n",
    "import sklearn\n",
    "from sklearn.linear_model import LogisticRegression\n",
    "import matplotlib as mpl\n",
    "import scipy\n",
    "import matplotlib.pyplot as plt\n",
    "import pickle"
   ]
  },
  {
   "cell_type": "code",
   "execution_count": 2,
   "metadata": {},
   "outputs": [],
   "source": [
    "np.random.seed(0)"
   ]
  },
  {
   "cell_type": "code",
   "execution_count": 3,
   "metadata": {},
   "outputs": [
    {
     "name": "stdout",
     "output_type": "stream",
     "text": [
      "scanpy==1.4.4.post1 anndata==0.6.22.post1 umap==0.3.10 numpy==1.17.4 scipy==1.3.2 pandas==0.25.3 scikit-learn==0.21.3 statsmodels==0.10.1 python-igraph==0.7.1 louvain==0.6.1\n"
     ]
    }
   ],
   "source": [
    "sc.settings.verbosity = 3  # verbosity: errors (0), warnings (1), info (2), hints (3)\n",
    "sc.logging.print_versions()\n",
    "sc.settings.set_figure_params(dpi=80)  # low dpi (dots per inch) yields small inline figures"
   ]
  },
  {
   "cell_type": "code",
   "execution_count": 4,
   "metadata": {},
   "outputs": [],
   "source": [
    "save_path = '/lustre/scratch117/cellgen/team292/aa22/adata_objects/202009_CVID_revision/'"
   ]
  },
  {
   "cell_type": "markdown",
   "metadata": {},
   "source": [
    "A Benjamini-Hochberg function for later. Running FDR is surprisingly inconvenient using built-in Python options."
   ]
  },
  {
   "cell_type": "code",
   "execution_count": 5,
   "metadata": {},
   "outputs": [],
   "source": [
    "def bh(pvalues):\n",
    "    '''\n",
    "    Computes the Benjamini-Hochberg FDR correction.\n",
    "    \n",
    "    Input:\n",
    "        * pvals - vector of p-values to correct\n",
    "    '''\n",
    "    n = int(pvalues.shape[0])\n",
    "    new_pvalues = np.empty(n)\n",
    "    values = [ (pvalue, i) for i, pvalue in enumerate(pvalues) ]\n",
    "    values.sort()\n",
    "    values.reverse()\n",
    "    new_values = []\n",
    "    for i, vals in enumerate(values):\n",
    "        rank = n - i\n",
    "        pvalue, index = vals\n",
    "        new_values.append((n/rank) * pvalue)\n",
    "    for i in range(0, int(n)-1):\n",
    "        if new_values[i] < new_values[i+1]:\n",
    "            new_values[i+1] = new_values[i]\n",
    "    for i, vals in enumerate(values):\n",
    "        pvalue, index = vals\n",
    "        new_pvalues[index] = new_values[i]\n",
    "    return new_pvalues"
   ]
  },
  {
   "cell_type": "code",
   "execution_count": 6,
   "metadata": {},
   "outputs": [],
   "source": [
    "###################\n",
    "# doublet calling #\n",
    "###################\n",
    "\n",
    "def bertie(adata_sample, sample):\n",
    "    \n",
    "    scorenames = ['scrublet_score','scrublet_cluster_score','bh_pval']\n",
    "    \n",
    "    adata_sample_copy = adata_sample.copy()\n",
    "    # set up and run Scrublet\n",
    "    scrub = scr.Scrublet(adata_sample_copy.X)\n",
    "    doublet_scores, predicted_doublets = scrub.scrub_doublets(verbose=False)\n",
    "    adata_sample_copy.obs['scrublet_score'] = doublet_scores\n",
    "    \n",
    "    # overcluster prep. run turbo basic scanpy pipeline\n",
    "    sc.pp.normalize_per_cell(adata_sample_copy, counts_per_cell_after=1e4)\n",
    "    sc.pp.log1p(adata_sample_copy)\n",
    "    sc.pp.highly_variable_genes(adata_sample_copy, min_mean=0.0125, max_mean=3, min_disp=0.5)\n",
    "    adata_sample_copy = adata_sample_copy[:, adata_sample_copy.var['highly_variable']]\n",
    "    adata_sample_copy = adata_sample_copy.copy()\n",
    "    sc.pp.scale(adata_sample_copy, max_value=10)\n",
    "    sc.tl.pca(adata_sample_copy, svd_solver='arpack')\n",
    "    sc.pp.neighbors(adata_sample_copy)\n",
    "    \n",
    "    # overclustering proper - do basic clustering first, then cluster each cluster\n",
    "    sc.tl.louvain(adata_sample_copy)\n",
    "    for clus in np.unique(adata_sample_copy.obs['louvain']):\n",
    "        sc.tl.louvain(adata_sample_copy, restrict_to=('louvain',[clus]))\n",
    "        adata_sample_copy.obs['louvain'] = adata_sample_copy.obs['louvain_R']\n",
    "        \n",
    "    # compute the cluster scores - the median of Scrublet scores per overclustered cluster\n",
    "    for clus in np.unique(adata_sample_copy.obs['louvain']):\n",
    "        adata_sample_copy.obs.loc[adata_sample_copy.obs['louvain']==clus, 'scrublet_cluster_score'] = \\\n",
    "            np.median(adata_sample_copy.obs.loc[adata_sample_copy.obs['louvain']==clus, 'scrublet_score'])\n",
    "        \n",
    "    # now compute doublet p-values. figure out the median and mad (from above-median values) for the distribution\n",
    "    med = np.median(adata_sample_copy.obs['scrublet_cluster_score'])\n",
    "    mask = adata_sample_copy.obs['scrublet_cluster_score']>med\n",
    "    mad = np.median(adata_sample_copy.obs['scrublet_cluster_score'][mask]-med)\n",
    "    \n",
    "    #let's do a one-sided test. the Bertie write-up does not address this but it makes sense\n",
    "    pvals = 1-scipy.stats.norm.cdf(adata_sample_copy.obs['scrublet_cluster_score'], loc=med, scale=1.4826*mad)\n",
    "    adata_sample_copy.obs['bh_pval'] = bh(pvals)\n",
    "    \n",
    "    # getting calculated values to the initial object with raw count values\n",
    "    for col in scorenames:\n",
    "        adata_sample.obs[col] = adata_sample_copy.obs[col]\n",
    "    \n",
    "    return adata_sample.obs[scorenames]"
   ]
  },
  {
   "cell_type": "markdown",
   "metadata": {},
   "source": [
    "### Reading and preprocessing"
   ]
  },
  {
   "cell_type": "code",
   "execution_count": 7,
   "metadata": {},
   "outputs": [],
   "source": [
    "# sample ID GEX + sample ID CITE (coupled)\n",
    "samples = [\n",
    "           # batch 1 samples\n",
    "           '35008_CV005_RV9039258_and_35008_CV005_RV9039282',\n",
    "           '35008_CV005_RV9039259_and_35008_CV005_RV9039283',\n",
    "           '35008_CV005_RV9039260_and_35008_CV005_RV9039284',\n",
    "           '35008_CV005_RV9039261_and_35008_CV005_RV9039285',\n",
    "           '35008_CV005_RV9039262_and_35008_CV005_RV9039286',\n",
    "           '35008_CV005_RV9039263_and_35008_CV005_RV9039287',\n",
    "           #'35008_CV005_RV9039264_and_35008_CV005_RV9039288',\n",
    "           #'35008_CV005_RV9039265_and_35008_CV005_RV9039289',\n",
    "          \n",
    "          # batch 2 samples\n",
    "          '35171_CV005_RV9039361', # CV005_RV9039361 + CV005_RV9039386, unstim\n",
    "          '35171_CV005_RV9039362', # CV005_RV9039362 + CV005_RV9039387, CD40L\n",
    "          '35171_CV005_RV9039363', # CV005_RV9039363 + CV005_RV9039388, CD3\n",
    "          #'35171_CV005_RV9039364', # CV005_RV9039364 + CV005_RV9039389, BCR (a-IgM)\n",
    "          ]\n"
   ]
  },
  {
   "cell_type": "code",
   "execution_count": 8,
   "metadata": {},
   "outputs": [],
   "source": [
    "sample2activation = {}\n",
    "\n",
    "sample2activation['35008_CV005_RV9039258_and_35008_CV005_RV9039282'] = 'unstim'\n",
    "sample2activation['35008_CV005_RV9039259_and_35008_CV005_RV9039283'] = 'unstim'\n",
    "\n",
    "sample2activation['35008_CV005_RV9039260_and_35008_CV005_RV9039284'] = 'CD40L'\n",
    "sample2activation['35008_CV005_RV9039261_and_35008_CV005_RV9039285'] = 'CD40L'\n",
    "\n",
    "sample2activation['35008_CV005_RV9039262_and_35008_CV005_RV9039286'] = 'CD3'\n",
    "sample2activation['35008_CV005_RV9039263_and_35008_CV005_RV9039287'] = 'CD3'\n",
    "\n",
    "#sample2activation['35008_CV005_RV9039264_and_35008_CV005_RV9039288'] = 'BCR' # TO EXCLUDE!!!\n",
    "#sample2activation['35008_CV005_RV9039265_and_35008_CV005_RV9039289'] = 'BCR' # TO EXCLUDE!!!\n",
    "\n",
    "\n",
    "sample2activation['35171_CV005_RV9039361'] = 'unstim'\n",
    "\n",
    "sample2activation['35171_CV005_RV9039362'] = 'CD40L'\n",
    "\n",
    "sample2activation['35171_CV005_RV9039363'] = 'CD3'\n",
    "\n",
    "#sample2activation['35171_CV005_RV9039364'] = 'BCR' # TO EXCLUDE!!!\n"
   ]
  },
  {
   "cell_type": "code",
   "execution_count": 10,
   "metadata": {},
   "outputs": [
    {
     "name": "stdout",
     "output_type": "stream",
     "text": [
      "sample 35008_CV005_RV9039258_and_35008_CV005_RV9039282 from scRNA-seq samples 1 out of 9\n",
      "reading /lustre/scratch117/cellgen/team292/aa22/data/202009_CVID_revision/cellranger302_count_35008_CV005_RV9039258_and_35008_CV005_RV9039282_GRCh38-1_2_0/filtered_feature_bc_matrix.h5\n"
     ]
    },
    {
     "name": "stderr",
     "output_type": "stream",
     "text": [
      "Variable names are not unique. To make them unique, call `.var_names_make_unique`.\n"
     ]
    },
    {
     "name": "stdout",
     "output_type": "stream",
     "text": [
      " (0:00:00)\n",
      "sample 35008_CV005_RV9039259_and_35008_CV005_RV9039283 from scRNA-seq samples 2 out of 9\n",
      "reading /lustre/scratch117/cellgen/team292/aa22/data/202009_CVID_revision/cellranger302_count_35008_CV005_RV9039259_and_35008_CV005_RV9039283_GRCh38-1_2_0/filtered_feature_bc_matrix.h5\n"
     ]
    },
    {
     "name": "stderr",
     "output_type": "stream",
     "text": [
      "Variable names are not unique. To make them unique, call `.var_names_make_unique`.\n"
     ]
    },
    {
     "name": "stdout",
     "output_type": "stream",
     "text": [
      " (0:00:00)\n",
      "sample 35008_CV005_RV9039260_and_35008_CV005_RV9039284 from scRNA-seq samples 3 out of 9\n",
      "reading /lustre/scratch117/cellgen/team292/aa22/data/202009_CVID_revision/cellranger302_count_35008_CV005_RV9039260_and_35008_CV005_RV9039284_GRCh38-1_2_0/filtered_feature_bc_matrix.h5\n"
     ]
    },
    {
     "name": "stderr",
     "output_type": "stream",
     "text": [
      "Variable names are not unique. To make them unique, call `.var_names_make_unique`.\n"
     ]
    },
    {
     "name": "stdout",
     "output_type": "stream",
     "text": [
      " (0:00:00)\n",
      "sample 35008_CV005_RV9039261_and_35008_CV005_RV9039285 from scRNA-seq samples 4 out of 9\n",
      "reading /lustre/scratch117/cellgen/team292/aa22/data/202009_CVID_revision/cellranger302_count_35008_CV005_RV9039261_and_35008_CV005_RV9039285_GRCh38-1_2_0/filtered_feature_bc_matrix.h5\n"
     ]
    },
    {
     "name": "stderr",
     "output_type": "stream",
     "text": [
      "Variable names are not unique. To make them unique, call `.var_names_make_unique`.\n"
     ]
    },
    {
     "name": "stdout",
     "output_type": "stream",
     "text": [
      " (0:00:01)\n",
      "sample 35008_CV005_RV9039262_and_35008_CV005_RV9039286 from scRNA-seq samples 5 out of 9\n",
      "reading /lustre/scratch117/cellgen/team292/aa22/data/202009_CVID_revision/cellranger302_count_35008_CV005_RV9039262_and_35008_CV005_RV9039286_GRCh38-1_2_0/filtered_feature_bc_matrix.h5\n"
     ]
    },
    {
     "name": "stderr",
     "output_type": "stream",
     "text": [
      "Variable names are not unique. To make them unique, call `.var_names_make_unique`.\n"
     ]
    },
    {
     "name": "stdout",
     "output_type": "stream",
     "text": [
      " (0:00:01)\n",
      "sample 35008_CV005_RV9039263_and_35008_CV005_RV9039287 from scRNA-seq samples 6 out of 9\n",
      "reading /lustre/scratch117/cellgen/team292/aa22/data/202009_CVID_revision/cellranger302_count_35008_CV005_RV9039263_and_35008_CV005_RV9039287_GRCh38-1_2_0/filtered_feature_bc_matrix.h5\n"
     ]
    },
    {
     "name": "stderr",
     "output_type": "stream",
     "text": [
      "Variable names are not unique. To make them unique, call `.var_names_make_unique`.\n"
     ]
    },
    {
     "name": "stdout",
     "output_type": "stream",
     "text": [
      " (0:00:01)\n",
      "sample 35171_CV005_RV9039361 from scRNA-seq samples 7 out of 9\n",
      "reading /lustre/scratch117/cellgen/team292/aa22/data/202009_CVID_revision/cellranger302_count_35171_CV005_RV9039361_GRCh38-1_2_0/filtered_feature_bc_matrix.h5\n"
     ]
    },
    {
     "name": "stderr",
     "output_type": "stream",
     "text": [
      "Variable names are not unique. To make them unique, call `.var_names_make_unique`.\n"
     ]
    },
    {
     "name": "stdout",
     "output_type": "stream",
     "text": [
      " (0:00:02)\n",
      "sample 35171_CV005_RV9039362 from scRNA-seq samples 8 out of 9\n",
      "reading /lustre/scratch117/cellgen/team292/aa22/data/202009_CVID_revision/cellranger302_count_35171_CV005_RV9039362_GRCh38-1_2_0/filtered_feature_bc_matrix.h5\n"
     ]
    },
    {
     "name": "stderr",
     "output_type": "stream",
     "text": [
      "Variable names are not unique. To make them unique, call `.var_names_make_unique`.\n"
     ]
    },
    {
     "name": "stdout",
     "output_type": "stream",
     "text": [
      " (0:00:05)\n",
      "sample 35171_CV005_RV9039363 from scRNA-seq samples 9 out of 9\n",
      "reading /lustre/scratch117/cellgen/team292/aa22/data/202009_CVID_revision/cellranger302_count_35171_CV005_RV9039363_GRCh38-1_2_0/filtered_feature_bc_matrix.h5\n"
     ]
    },
    {
     "name": "stderr",
     "output_type": "stream",
     "text": [
      "Variable names are not unique. To make them unique, call `.var_names_make_unique`.\n"
     ]
    },
    {
     "name": "stdout",
     "output_type": "stream",
     "text": [
      " (0:00:06)\n"
     ]
    },
    {
     "name": "stderr",
     "output_type": "stream",
     "text": [
      "layers concatenation is not yet available for 'outer' intersection and will be ignored.\n",
      "Observation names are not unique. To make them unique, call `.obs_names_make_unique`.\n",
      "Or pass `index_unique!=None` to `.concatenate`.\n"
     ]
    },
    {
     "name": "stdout",
     "output_type": "stream",
     "text": [
      "CPU times: user 6min 24s, sys: 58.8 s, total: 7min 23s\n",
      "Wall time: 7min 22s\n"
     ]
    }
   ],
   "source": [
    "%%time\n",
    "\n",
    "# reading data just to see how many cells cellranger called and also to add donor information\n",
    "\n",
    "holder = []\n",
    "\n",
    "\n",
    "for sample in samples:\n",
    "    print('sample', sample,\n",
    "          \"from scRNA-seq samples\", list(samples).index(sample)+1,\n",
    "          'out of', len(samples))\n",
    "    \n",
    "    path = '/lustre/scratch117/cellgen/team292/aa22/data/202009_CVID_revision/cellranger302_count_'+sample+'_GRCh38-1_2_0/'\n",
    "    \n",
    "    \n",
    "    path_complete = path+'filtered_feature_bc_matrix.h5'\n",
    "    holder.append(sc.read_10x_h5(path_complete,\n",
    "                                gex_only=False))\n",
    "    \n",
    "    holder[-1].var_names_make_unique()\n",
    "    \n",
    "    # Adding metadata\n",
    "    \n",
    "    curr_info = sample2activation[sample]\n",
    "    \n",
    "    holder[-1].obs['stimulation'] = curr_info\n",
    "    holder[-1].layers['counts'] = holder[-1].X.copy()\n",
    "    #print('this was tissue block', block, 'sample:', sample)\n",
    "    \n",
    "    # Sample information\n",
    "    holder[-1].obs['sample'] = sample\n",
    "    # In cell_id we save barcode+sample index, to be unique in the future\n",
    "    holder[-1].obs['cell_id'] = [i+'_'+j for i,j in zip(holder[-1].obs.index, holder[-1].obs['sample'])]\n",
    "    \n",
    "    # Extract mitochondial genes\n",
    "    mito_genes = [name for name in holder[-1].var_names if name.startswith('MT-')]\n",
    "    #for each cell compute fraction of counts in mito genes vs. all genes\n",
    "    #the `.A1` is only necessary, as X is sparse - it transform to a dense array after summing\n",
    "    holder[-1].obs['percent_mito'] = np.sum(\n",
    "        holder[-1][:, mito_genes].X, axis=1).A1 / np.sum(holder[-1].X, axis=1).A1\n",
    "    \n",
    "    #add the total counts per cell as observations-annotation to adata\n",
    "    holder[-1].obs['n_counts'] = holder[-1].X.sum(axis=1).A1\n",
    "    \n",
    "    holder[-1].obs['dataset'] = 'GEX+CITE-seq'\n",
    "    holder[-1].obs['technique'] = '10X'\n",
    "\n",
    "\n",
    "adata = holder[0].concatenate(holder[1:],join='outer',index_unique=None)"
   ]
  },
  {
   "cell_type": "code",
   "execution_count": 34,
   "metadata": {},
   "outputs": [],
   "source": [
    "adata.var_names_make_unique()\n",
    "adata.obs_names_make_unique()"
   ]
  },
  {
   "cell_type": "markdown",
   "metadata": {},
   "source": [
    "# Adding donor information"
   ]
  },
  {
   "cell_type": "markdown",
   "metadata": {},
   "source": [
    "## Adding souporcell results"
   ]
  },
  {
   "cell_type": "code",
   "execution_count": 35,
   "metadata": {},
   "outputs": [
    {
     "data": {
      "text/plain": [
       "(array(['35008_CV005_RV9039258_and_35008_CV005_RV9039282',\n",
       "        '35008_CV005_RV9039259_and_35008_CV005_RV9039283',\n",
       "        '35008_CV005_RV9039260_and_35008_CV005_RV9039284',\n",
       "        '35008_CV005_RV9039261_and_35008_CV005_RV9039285',\n",
       "        '35008_CV005_RV9039262_and_35008_CV005_RV9039286',\n",
       "        '35008_CV005_RV9039263_and_35008_CV005_RV9039287',\n",
       "        '35171_CV005_RV9039361', '35171_CV005_RV9039362',\n",
       "        '35171_CV005_RV9039363'], dtype=object),\n",
       " array([17720, 19435, 12415, 19832, 22268, 20522, 21465, 23553, 29947]))"
      ]
     },
     "execution_count": 35,
     "metadata": {},
     "output_type": "execute_result"
    }
   ],
   "source": [
    "np.unique(adata.obs['sample'], return_counts=True)"
   ]
  },
  {
   "cell_type": "code",
   "execution_count": 36,
   "metadata": {},
   "outputs": [],
   "source": [
    "souporcell_dirs = {}\n",
    "\n",
    "prefix = '/lustre/scratch117/cellgen/team292/aa22/souporcell_analyses/souporcell_scRNA-seq_CVID_revisions_202009/'\n",
    "\n",
    "souporcell_dirs['35008_CV005_RV9039258_and_35008_CV005_RV9039282'] = prefix + 'souporcell_result_35008_CV005_RV9039258_and_35008_CV005_RV9039282_20200918/'\n",
    "souporcell_dirs['35008_CV005_RV9039259_and_35008_CV005_RV9039283'] = prefix + 'souporcell_result_35008_CV005_RV9039259_and_35008_CV005_RV9039283_20200919/'\n",
    "souporcell_dirs['35008_CV005_RV9039260_and_35008_CV005_RV9039284'] = prefix + 'souporcell_result_35008_CV005_RV9039260_and_35008_CV005_RV9039284_20200918/'\n",
    "souporcell_dirs['35008_CV005_RV9039261_and_35008_CV005_RV9039285'] = prefix + 'souporcell_result_35008_CV005_RV9039261_and_35008_CV005_RV9039285_20200918/'\n",
    "souporcell_dirs['35008_CV005_RV9039262_and_35008_CV005_RV9039286'] = prefix + 'souporcell_result_35008_CV005_RV9039262_and_35008_CV005_RV9039286_20200919/'\n",
    "souporcell_dirs['35008_CV005_RV9039263_and_35008_CV005_RV9039287'] = prefix + 'souporcell_result_35008_CV005_RV9039263_and_35008_CV005_RV9039287_20200919/'\n",
    "#souporcell_dirs['35008_CV005_RV9039264_and_35008_CV005_RV9039288'] = prefix + 'souporcell_result_35008_CV005_RV9039264_and_35008_CV005_RV9039288_20200918/'\n",
    "#souporcell_dirs['35008_CV005_RV9039265_and_35008_CV005_RV9039289'] = prefix + 'souporcell_result_35008_CV005_RV9039265_and_35008_CV005_RV9039289_20200919/'\n",
    "\n",
    "souporcell_dirs['35171_CV005_RV9039361'] = prefix + 'souporcell_result_35171_CV005_RV9039361_20201214/'\n",
    "souporcell_dirs['35171_CV005_RV9039362'] = prefix + 'souporcell_result_35171_CV005_RV9039362_20201214/'\n",
    "souporcell_dirs['35171_CV005_RV9039363'] = prefix + 'souporcell_result_35171_CV005_RV9039363_20201214/'\n",
    "#souporcell_dirs['35171_CV005_RV9039364'] = prefix + 'souporcell_result_35171_CV005_RV9039364_20201214/'\n",
    "\n",
    "\n"
   ]
  },
  {
   "cell_type": "code",
   "execution_count": 37,
   "metadata": {},
   "outputs": [
    {
     "name": "stdout",
     "output_type": "stream",
     "text": [
      "sample  35008_CV005_RV9039258_and_35008_CV005_RV9039282\n",
      "len of curr table is 17720\n",
      "sample  35008_CV005_RV9039259_and_35008_CV005_RV9039283\n",
      "len of curr table is 19435\n",
      "sample  35008_CV005_RV9039260_and_35008_CV005_RV9039284\n",
      "len of curr table is 12415\n",
      "sample  35008_CV005_RV9039261_and_35008_CV005_RV9039285\n",
      "len of curr table is 19832\n",
      "sample  35008_CV005_RV9039262_and_35008_CV005_RV9039286\n",
      "len of curr table is 22268\n",
      "sample  35008_CV005_RV9039263_and_35008_CV005_RV9039287\n",
      "len of curr table is 20522\n",
      "sample  35171_CV005_RV9039361\n",
      "len of curr table is 21465\n",
      "sample  35171_CV005_RV9039362\n",
      "len of curr table is 23553\n",
      "sample  35171_CV005_RV9039363\n",
      "len of curr table is 29947\n"
     ]
    }
   ],
   "source": [
    "holder = []\n",
    "\n",
    "for sample in list(souporcell_dirs.keys()):\n",
    "    print('sample ', sample)\n",
    "    curr_table = pd.read_csv(souporcell_dirs[sample]+'clusters.tsv', sep='\\t', index_col=0)\n",
    "    curr_table['barcode_sample'] = [i+'_'+sample for i in curr_table.index]\n",
    "    print('len of curr table is', len(curr_table))\n",
    "    holder.append(curr_table)\n",
    "    "
   ]
  },
  {
   "cell_type": "code",
   "execution_count": 38,
   "metadata": {},
   "outputs": [
    {
     "name": "stderr",
     "output_type": "stream",
     "text": [
      "/opt/conda/lib/python3.7/site-packages/ipykernel_launcher.py:1: FutureWarning: Sorting because non-concatenation axis is not aligned. A future version\n",
      "of pandas will change to not sort by default.\n",
      "\n",
      "To accept the future behavior, pass 'sort=False'.\n",
      "\n",
      "To retain the current behavior and silence the warning, pass 'sort=True'.\n",
      "\n",
      "  \"\"\"Entry point for launching an IPython kernel.\n"
     ]
    }
   ],
   "source": [
    "souporcell_meta_table = pd.concat(holder,join='outer')"
   ]
  },
  {
   "cell_type": "code",
   "execution_count": 39,
   "metadata": {},
   "outputs": [
    {
     "data": {
      "text/html": [
       "<div>\n",
       "<style scoped>\n",
       "    .dataframe tbody tr th:only-of-type {\n",
       "        vertical-align: middle;\n",
       "    }\n",
       "\n",
       "    .dataframe tbody tr th {\n",
       "        vertical-align: top;\n",
       "    }\n",
       "\n",
       "    .dataframe thead th {\n",
       "        text-align: right;\n",
       "    }\n",
       "</style>\n",
       "<table border=\"1\" class=\"dataframe\">\n",
       "  <thead>\n",
       "    <tr style=\"text-align: right;\">\n",
       "      <th></th>\n",
       "      <th>assignment</th>\n",
       "      <th>barcode_sample</th>\n",
       "      <th>cluster0</th>\n",
       "      <th>cluster1</th>\n",
       "      <th>cluster2</th>\n",
       "      <th>cluster3</th>\n",
       "      <th>cluster4</th>\n",
       "      <th>cluster5</th>\n",
       "      <th>cluster6</th>\n",
       "      <th>cluster7</th>\n",
       "      <th>log_prob_doublet</th>\n",
       "      <th>log_prob_singleton</th>\n",
       "      <th>status</th>\n",
       "    </tr>\n",
       "    <tr>\n",
       "      <th>barcode</th>\n",
       "      <th></th>\n",
       "      <th></th>\n",
       "      <th></th>\n",
       "      <th></th>\n",
       "      <th></th>\n",
       "      <th></th>\n",
       "      <th></th>\n",
       "      <th></th>\n",
       "      <th></th>\n",
       "      <th></th>\n",
       "      <th></th>\n",
       "      <th></th>\n",
       "      <th></th>\n",
       "    </tr>\n",
       "  </thead>\n",
       "  <tbody>\n",
       "    <tr>\n",
       "      <th>AAACCTGAGAATGTGT-1</th>\n",
       "      <td>2</td>\n",
       "      <td>AAACCTGAGAATGTGT-1_35008_CV005_RV9039258_and_3...</td>\n",
       "      <td>-2236.986538</td>\n",
       "      <td>-2008.046376</td>\n",
       "      <td>-475.424455</td>\n",
       "      <td>-1941.943752</td>\n",
       "      <td>-2068.178314</td>\n",
       "      <td>-2225.106343</td>\n",
       "      <td>NaN</td>\n",
       "      <td>NaN</td>\n",
       "      <td>-676.368720</td>\n",
       "      <td>-475.424455</td>\n",
       "      <td>singlet</td>\n",
       "    </tr>\n",
       "    <tr>\n",
       "      <th>AAACCTGAGACTAAGT-1</th>\n",
       "      <td>5</td>\n",
       "      <td>AAACCTGAGACTAAGT-1_35008_CV005_RV9039258_and_3...</td>\n",
       "      <td>-3425.356285</td>\n",
       "      <td>-3642.580885</td>\n",
       "      <td>-3139.984848</td>\n",
       "      <td>-3138.138289</td>\n",
       "      <td>-2929.540069</td>\n",
       "      <td>-583.134595</td>\n",
       "      <td>NaN</td>\n",
       "      <td>NaN</td>\n",
       "      <td>-1064.970129</td>\n",
       "      <td>-583.134595</td>\n",
       "      <td>singlet</td>\n",
       "    </tr>\n",
       "    <tr>\n",
       "      <th>AAACCTGAGATCCCGC-1</th>\n",
       "      <td>0/5</td>\n",
       "      <td>AAACCTGAGATCCCGC-1_35008_CV005_RV9039258_and_3...</td>\n",
       "      <td>-141.919309</td>\n",
       "      <td>-203.526003</td>\n",
       "      <td>-181.691712</td>\n",
       "      <td>-162.848398</td>\n",
       "      <td>-155.644318</td>\n",
       "      <td>-164.511791</td>\n",
       "      <td>NaN</td>\n",
       "      <td>NaN</td>\n",
       "      <td>-110.554232</td>\n",
       "      <td>-141.919309</td>\n",
       "      <td>doublet</td>\n",
       "    </tr>\n",
       "    <tr>\n",
       "      <th>AAACCTGAGCCGCCTA-1</th>\n",
       "      <td>2</td>\n",
       "      <td>AAACCTGAGCCGCCTA-1_35008_CV005_RV9039258_and_3...</td>\n",
       "      <td>-307.347688</td>\n",
       "      <td>-325.516654</td>\n",
       "      <td>-81.076857</td>\n",
       "      <td>-301.741254</td>\n",
       "      <td>-272.284983</td>\n",
       "      <td>-356.998605</td>\n",
       "      <td>NaN</td>\n",
       "      <td>NaN</td>\n",
       "      <td>-113.731431</td>\n",
       "      <td>-81.076857</td>\n",
       "      <td>singlet</td>\n",
       "    </tr>\n",
       "    <tr>\n",
       "      <th>AAACCTGAGCGCCTCA-1</th>\n",
       "      <td>0</td>\n",
       "      <td>AAACCTGAGCGCCTCA-1_35008_CV005_RV9039258_and_3...</td>\n",
       "      <td>-90.977753</td>\n",
       "      <td>-346.190370</td>\n",
       "      <td>-336.979961</td>\n",
       "      <td>-307.415381</td>\n",
       "      <td>-267.327526</td>\n",
       "      <td>-291.146090</td>\n",
       "      <td>NaN</td>\n",
       "      <td>NaN</td>\n",
       "      <td>-109.375279</td>\n",
       "      <td>-90.977753</td>\n",
       "      <td>singlet</td>\n",
       "    </tr>\n",
       "    <tr>\n",
       "      <th>...</th>\n",
       "      <td>...</td>\n",
       "      <td>...</td>\n",
       "      <td>...</td>\n",
       "      <td>...</td>\n",
       "      <td>...</td>\n",
       "      <td>...</td>\n",
       "      <td>...</td>\n",
       "      <td>...</td>\n",
       "      <td>...</td>\n",
       "      <td>...</td>\n",
       "      <td>...</td>\n",
       "      <td>...</td>\n",
       "      <td>...</td>\n",
       "    </tr>\n",
       "    <tr>\n",
       "      <th>TTTGTCATCGGGAGTA-1</th>\n",
       "      <td>3/0</td>\n",
       "      <td>TTTGTCATCGGGAGTA-1_35171_CV005_RV9039363</td>\n",
       "      <td>-744.946211</td>\n",
       "      <td>-1618.021327</td>\n",
       "      <td>-1479.478656</td>\n",
       "      <td>-640.033993</td>\n",
       "      <td>-1481.340187</td>\n",
       "      <td>-1435.902737</td>\n",
       "      <td>-1392.534132</td>\n",
       "      <td>-1390.397574</td>\n",
       "      <td>-607.658373</td>\n",
       "      <td>-640.033993</td>\n",
       "      <td>doublet</td>\n",
       "    </tr>\n",
       "    <tr>\n",
       "      <th>TTTGTCATCTACTATC-1</th>\n",
       "      <td>6/7</td>\n",
       "      <td>TTTGTCATCTACTATC-1_35171_CV005_RV9039363</td>\n",
       "      <td>-2356.467788</td>\n",
       "      <td>-3680.968244</td>\n",
       "      <td>-4007.516475</td>\n",
       "      <td>-4539.666228</td>\n",
       "      <td>-4643.440553</td>\n",
       "      <td>-4293.027153</td>\n",
       "      <td>-2968.792484</td>\n",
       "      <td>-3119.504881</td>\n",
       "      <td>-1904.330027</td>\n",
       "      <td>-2356.467788</td>\n",
       "      <td>doublet</td>\n",
       "    </tr>\n",
       "    <tr>\n",
       "      <th>TTTGTCATCTCGGACG-1</th>\n",
       "      <td>6/0</td>\n",
       "      <td>TTTGTCATCTCGGACG-1_35171_CV005_RV9039363</td>\n",
       "      <td>-395.579505</td>\n",
       "      <td>-650.546470</td>\n",
       "      <td>-598.801169</td>\n",
       "      <td>-733.933873</td>\n",
       "      <td>-633.298213</td>\n",
       "      <td>-612.040005</td>\n",
       "      <td>-371.766439</td>\n",
       "      <td>-668.838812</td>\n",
       "      <td>-342.719165</td>\n",
       "      <td>-371.766439</td>\n",
       "      <td>doublet</td>\n",
       "    </tr>\n",
       "    <tr>\n",
       "      <th>TTTGTCATCTTGGGTA-1</th>\n",
       "      <td>0</td>\n",
       "      <td>TTTGTCATCTTGGGTA-1_35171_CV005_RV9039363</td>\n",
       "      <td>-245.995416</td>\n",
       "      <td>-445.678187</td>\n",
       "      <td>-464.996211</td>\n",
       "      <td>-493.215683</td>\n",
       "      <td>-530.782169</td>\n",
       "      <td>-564.659709</td>\n",
       "      <td>-446.377827</td>\n",
       "      <td>-468.622638</td>\n",
       "      <td>-270.557837</td>\n",
       "      <td>-245.995416</td>\n",
       "      <td>singlet</td>\n",
       "    </tr>\n",
       "    <tr>\n",
       "      <th>TTTGTCATCTTTCCTC-1</th>\n",
       "      <td>0/5</td>\n",
       "      <td>TTTGTCATCTTTCCTC-1_35171_CV005_RV9039363</td>\n",
       "      <td>-698.829946</td>\n",
       "      <td>-1133.982847</td>\n",
       "      <td>-1142.881001</td>\n",
       "      <td>-982.487911</td>\n",
       "      <td>-1251.606169</td>\n",
       "      <td>-1026.151877</td>\n",
       "      <td>-1131.084881</td>\n",
       "      <td>-1084.905242</td>\n",
       "      <td>-698.297081</td>\n",
       "      <td>-698.829946</td>\n",
       "      <td>unassigned</td>\n",
       "    </tr>\n",
       "  </tbody>\n",
       "</table>\n",
       "<p>187157 rows × 13 columns</p>\n",
       "</div>"
      ],
      "text/plain": [
       "                   assignment  \\\n",
       "barcode                         \n",
       "AAACCTGAGAATGTGT-1          2   \n",
       "AAACCTGAGACTAAGT-1          5   \n",
       "AAACCTGAGATCCCGC-1        0/5   \n",
       "AAACCTGAGCCGCCTA-1          2   \n",
       "AAACCTGAGCGCCTCA-1          0   \n",
       "...                       ...   \n",
       "TTTGTCATCGGGAGTA-1        3/0   \n",
       "TTTGTCATCTACTATC-1        6/7   \n",
       "TTTGTCATCTCGGACG-1        6/0   \n",
       "TTTGTCATCTTGGGTA-1          0   \n",
       "TTTGTCATCTTTCCTC-1        0/5   \n",
       "\n",
       "                                                       barcode_sample  \\\n",
       "barcode                                                                 \n",
       "AAACCTGAGAATGTGT-1  AAACCTGAGAATGTGT-1_35008_CV005_RV9039258_and_3...   \n",
       "AAACCTGAGACTAAGT-1  AAACCTGAGACTAAGT-1_35008_CV005_RV9039258_and_3...   \n",
       "AAACCTGAGATCCCGC-1  AAACCTGAGATCCCGC-1_35008_CV005_RV9039258_and_3...   \n",
       "AAACCTGAGCCGCCTA-1  AAACCTGAGCCGCCTA-1_35008_CV005_RV9039258_and_3...   \n",
       "AAACCTGAGCGCCTCA-1  AAACCTGAGCGCCTCA-1_35008_CV005_RV9039258_and_3...   \n",
       "...                                                               ...   \n",
       "TTTGTCATCGGGAGTA-1           TTTGTCATCGGGAGTA-1_35171_CV005_RV9039363   \n",
       "TTTGTCATCTACTATC-1           TTTGTCATCTACTATC-1_35171_CV005_RV9039363   \n",
       "TTTGTCATCTCGGACG-1           TTTGTCATCTCGGACG-1_35171_CV005_RV9039363   \n",
       "TTTGTCATCTTGGGTA-1           TTTGTCATCTTGGGTA-1_35171_CV005_RV9039363   \n",
       "TTTGTCATCTTTCCTC-1           TTTGTCATCTTTCCTC-1_35171_CV005_RV9039363   \n",
       "\n",
       "                       cluster0     cluster1     cluster2     cluster3  \\\n",
       "barcode                                                                  \n",
       "AAACCTGAGAATGTGT-1 -2236.986538 -2008.046376  -475.424455 -1941.943752   \n",
       "AAACCTGAGACTAAGT-1 -3425.356285 -3642.580885 -3139.984848 -3138.138289   \n",
       "AAACCTGAGATCCCGC-1  -141.919309  -203.526003  -181.691712  -162.848398   \n",
       "AAACCTGAGCCGCCTA-1  -307.347688  -325.516654   -81.076857  -301.741254   \n",
       "AAACCTGAGCGCCTCA-1   -90.977753  -346.190370  -336.979961  -307.415381   \n",
       "...                         ...          ...          ...          ...   \n",
       "TTTGTCATCGGGAGTA-1  -744.946211 -1618.021327 -1479.478656  -640.033993   \n",
       "TTTGTCATCTACTATC-1 -2356.467788 -3680.968244 -4007.516475 -4539.666228   \n",
       "TTTGTCATCTCGGACG-1  -395.579505  -650.546470  -598.801169  -733.933873   \n",
       "TTTGTCATCTTGGGTA-1  -245.995416  -445.678187  -464.996211  -493.215683   \n",
       "TTTGTCATCTTTCCTC-1  -698.829946 -1133.982847 -1142.881001  -982.487911   \n",
       "\n",
       "                       cluster4     cluster5     cluster6     cluster7  \\\n",
       "barcode                                                                  \n",
       "AAACCTGAGAATGTGT-1 -2068.178314 -2225.106343          NaN          NaN   \n",
       "AAACCTGAGACTAAGT-1 -2929.540069  -583.134595          NaN          NaN   \n",
       "AAACCTGAGATCCCGC-1  -155.644318  -164.511791          NaN          NaN   \n",
       "AAACCTGAGCCGCCTA-1  -272.284983  -356.998605          NaN          NaN   \n",
       "AAACCTGAGCGCCTCA-1  -267.327526  -291.146090          NaN          NaN   \n",
       "...                         ...          ...          ...          ...   \n",
       "TTTGTCATCGGGAGTA-1 -1481.340187 -1435.902737 -1392.534132 -1390.397574   \n",
       "TTTGTCATCTACTATC-1 -4643.440553 -4293.027153 -2968.792484 -3119.504881   \n",
       "TTTGTCATCTCGGACG-1  -633.298213  -612.040005  -371.766439  -668.838812   \n",
       "TTTGTCATCTTGGGTA-1  -530.782169  -564.659709  -446.377827  -468.622638   \n",
       "TTTGTCATCTTTCCTC-1 -1251.606169 -1026.151877 -1131.084881 -1084.905242   \n",
       "\n",
       "                    log_prob_doublet  log_prob_singleton      status  \n",
       "barcode                                                               \n",
       "AAACCTGAGAATGTGT-1       -676.368720         -475.424455     singlet  \n",
       "AAACCTGAGACTAAGT-1      -1064.970129         -583.134595     singlet  \n",
       "AAACCTGAGATCCCGC-1       -110.554232         -141.919309     doublet  \n",
       "AAACCTGAGCCGCCTA-1       -113.731431          -81.076857     singlet  \n",
       "AAACCTGAGCGCCTCA-1       -109.375279          -90.977753     singlet  \n",
       "...                              ...                 ...         ...  \n",
       "TTTGTCATCGGGAGTA-1       -607.658373         -640.033993     doublet  \n",
       "TTTGTCATCTACTATC-1      -1904.330027        -2356.467788     doublet  \n",
       "TTTGTCATCTCGGACG-1       -342.719165         -371.766439     doublet  \n",
       "TTTGTCATCTTGGGTA-1       -270.557837         -245.995416     singlet  \n",
       "TTTGTCATCTTTCCTC-1       -698.297081         -698.829946  unassigned  \n",
       "\n",
       "[187157 rows x 13 columns]"
      ]
     },
     "execution_count": 39,
     "metadata": {},
     "output_type": "execute_result"
    }
   ],
   "source": [
    "souporcell_meta_table"
   ]
  },
  {
   "cell_type": "code",
   "execution_count": 40,
   "metadata": {},
   "outputs": [],
   "source": [
    "souporcell_meta_table.set_index('barcode_sample', inplace=True, drop=False)"
   ]
  },
  {
   "cell_type": "code",
   "execution_count": 41,
   "metadata": {},
   "outputs": [
    {
     "data": {
      "text/plain": [
       "Index(['AAACCTGAGAATGTGT-1_35008_CV005_RV9039258_and_35008_CV005_RV9039282',\n",
       "       'AAACCTGAGACTAAGT-1_35008_CV005_RV9039258_and_35008_CV005_RV9039282',\n",
       "       'AAACCTGAGATCCCGC-1_35008_CV005_RV9039258_and_35008_CV005_RV9039282',\n",
       "       'AAACCTGAGCCGCCTA-1_35008_CV005_RV9039258_and_35008_CV005_RV9039282',\n",
       "       'AAACCTGAGCGCCTCA-1_35008_CV005_RV9039258_and_35008_CV005_RV9039282',\n",
       "       'AAACCTGAGCTACCGC-1_35008_CV005_RV9039258_and_35008_CV005_RV9039282',\n",
       "       'AAACCTGAGCTGTTCA-1_35008_CV005_RV9039258_and_35008_CV005_RV9039282',\n",
       "       'AAACCTGAGGATGTAT-1_35008_CV005_RV9039258_and_35008_CV005_RV9039282',\n",
       "       'AAACCTGAGGCTAGCA-1_35008_CV005_RV9039258_and_35008_CV005_RV9039282',\n",
       "       'AAACCTGAGGCTCTTA-1_35008_CV005_RV9039258_and_35008_CV005_RV9039282',\n",
       "       ...\n",
       "       'TTTGTCATCCCTTGCA-1_35171_CV005_RV9039363',\n",
       "       'TTTGTCATCCGCGTTT-1_35171_CV005_RV9039363',\n",
       "       'TTTGTCATCCTTGACC-1_35171_CV005_RV9039363',\n",
       "       'TTTGTCATCGGAGGTA-1_35171_CV005_RV9039363',\n",
       "       'TTTGTCATCGGCTACG-1_35171_CV005_RV9039363',\n",
       "       'TTTGTCATCGGGAGTA-1_35171_CV005_RV9039363',\n",
       "       'TTTGTCATCTACTATC-1_35171_CV005_RV9039363',\n",
       "       'TTTGTCATCTCGGACG-1_35171_CV005_RV9039363',\n",
       "       'TTTGTCATCTTGGGTA-1_35171_CV005_RV9039363',\n",
       "       'TTTGTCATCTTTCCTC-1_35171_CV005_RV9039363'],\n",
       "      dtype='object', name='barcode_sample', length=187157)"
      ]
     },
     "execution_count": 41,
     "metadata": {},
     "output_type": "execute_result"
    }
   ],
   "source": [
    "souporcell_meta_table.index"
   ]
  },
  {
   "cell_type": "code",
   "execution_count": 42,
   "metadata": {},
   "outputs": [
    {
     "data": {
      "text/html": [
       "<div>\n",
       "<style scoped>\n",
       "    .dataframe tbody tr th:only-of-type {\n",
       "        vertical-align: middle;\n",
       "    }\n",
       "\n",
       "    .dataframe tbody tr th {\n",
       "        vertical-align: top;\n",
       "    }\n",
       "\n",
       "    .dataframe thead th {\n",
       "        text-align: right;\n",
       "    }\n",
       "</style>\n",
       "<table border=\"1\" class=\"dataframe\">\n",
       "  <thead>\n",
       "    <tr style=\"text-align: right;\">\n",
       "      <th></th>\n",
       "      <th>batch</th>\n",
       "      <th>cell_id</th>\n",
       "      <th>dataset</th>\n",
       "      <th>n_counts</th>\n",
       "      <th>percent_mito</th>\n",
       "      <th>sample</th>\n",
       "      <th>stimulation</th>\n",
       "      <th>technique</th>\n",
       "      <th>barcode</th>\n",
       "    </tr>\n",
       "  </thead>\n",
       "  <tbody>\n",
       "    <tr>\n",
       "      <th>AAACCTGAGAATGTGT-1</th>\n",
       "      <td>0</td>\n",
       "      <td>AAACCTGAGAATGTGT-1_35008_CV005_RV9039258_and_3...</td>\n",
       "      <td>GEX+CITE-seq</td>\n",
       "      <td>7290.0</td>\n",
       "      <td>0.018107</td>\n",
       "      <td>35008_CV005_RV9039258_and_35008_CV005_RV9039282</td>\n",
       "      <td>unstim</td>\n",
       "      <td>10X</td>\n",
       "      <td>AAACCTGAGAATGTGT-1</td>\n",
       "    </tr>\n",
       "    <tr>\n",
       "      <th>AAACCTGAGACTAAGT-1</th>\n",
       "      <td>0</td>\n",
       "      <td>AAACCTGAGACTAAGT-1_35008_CV005_RV9039258_and_3...</td>\n",
       "      <td>GEX+CITE-seq</td>\n",
       "      <td>12744.0</td>\n",
       "      <td>0.039077</td>\n",
       "      <td>35008_CV005_RV9039258_and_35008_CV005_RV9039282</td>\n",
       "      <td>unstim</td>\n",
       "      <td>10X</td>\n",
       "      <td>AAACCTGAGACTAAGT-1</td>\n",
       "    </tr>\n",
       "    <tr>\n",
       "      <th>AAACCTGAGATCCCGC-1</th>\n",
       "      <td>0</td>\n",
       "      <td>AAACCTGAGATCCCGC-1_35008_CV005_RV9039258_and_3...</td>\n",
       "      <td>GEX+CITE-seq</td>\n",
       "      <td>801.0</td>\n",
       "      <td>0.031211</td>\n",
       "      <td>35008_CV005_RV9039258_and_35008_CV005_RV9039282</td>\n",
       "      <td>unstim</td>\n",
       "      <td>10X</td>\n",
       "      <td>AAACCTGAGATCCCGC-1</td>\n",
       "    </tr>\n",
       "    <tr>\n",
       "      <th>AAACCTGAGCCGCCTA-1</th>\n",
       "      <td>0</td>\n",
       "      <td>AAACCTGAGCCGCCTA-1_35008_CV005_RV9039258_and_3...</td>\n",
       "      <td>GEX+CITE-seq</td>\n",
       "      <td>1275.0</td>\n",
       "      <td>0.039216</td>\n",
       "      <td>35008_CV005_RV9039258_and_35008_CV005_RV9039282</td>\n",
       "      <td>unstim</td>\n",
       "      <td>10X</td>\n",
       "      <td>AAACCTGAGCCGCCTA-1</td>\n",
       "    </tr>\n",
       "    <tr>\n",
       "      <th>AAACCTGAGCGCCTCA-1</th>\n",
       "      <td>0</td>\n",
       "      <td>AAACCTGAGCGCCTCA-1_35008_CV005_RV9039258_and_3...</td>\n",
       "      <td>GEX+CITE-seq</td>\n",
       "      <td>1137.0</td>\n",
       "      <td>0.028144</td>\n",
       "      <td>35008_CV005_RV9039258_and_35008_CV005_RV9039282</td>\n",
       "      <td>unstim</td>\n",
       "      <td>10X</td>\n",
       "      <td>AAACCTGAGCGCCTCA-1</td>\n",
       "    </tr>\n",
       "    <tr>\n",
       "      <th>...</th>\n",
       "      <td>...</td>\n",
       "      <td>...</td>\n",
       "      <td>...</td>\n",
       "      <td>...</td>\n",
       "      <td>...</td>\n",
       "      <td>...</td>\n",
       "      <td>...</td>\n",
       "      <td>...</td>\n",
       "      <td>...</td>\n",
       "    </tr>\n",
       "    <tr>\n",
       "      <th>TTTGTCATCGGGAGTA-1-1</th>\n",
       "      <td>8</td>\n",
       "      <td>TTTGTCATCGGGAGTA-1_35171_CV005_RV9039363</td>\n",
       "      <td>GEX+CITE-seq</td>\n",
       "      <td>10751.0</td>\n",
       "      <td>0.006697</td>\n",
       "      <td>35171_CV005_RV9039363</td>\n",
       "      <td>CD3</td>\n",
       "      <td>10X</td>\n",
       "      <td>TTTGTCATCGGGAGTA-1</td>\n",
       "    </tr>\n",
       "    <tr>\n",
       "      <th>TTTGTCATCTACTATC-1</th>\n",
       "      <td>8</td>\n",
       "      <td>TTTGTCATCTACTATC-1_35171_CV005_RV9039363</td>\n",
       "      <td>GEX+CITE-seq</td>\n",
       "      <td>22685.0</td>\n",
       "      <td>0.040026</td>\n",
       "      <td>35171_CV005_RV9039363</td>\n",
       "      <td>CD3</td>\n",
       "      <td>10X</td>\n",
       "      <td>TTTGTCATCTACTATC-1</td>\n",
       "    </tr>\n",
       "    <tr>\n",
       "      <th>TTTGTCATCTCGGACG-1</th>\n",
       "      <td>8</td>\n",
       "      <td>TTTGTCATCTCGGACG-1_35171_CV005_RV9039363</td>\n",
       "      <td>GEX+CITE-seq</td>\n",
       "      <td>3749.0</td>\n",
       "      <td>0.010936</td>\n",
       "      <td>35171_CV005_RV9039363</td>\n",
       "      <td>CD3</td>\n",
       "      <td>10X</td>\n",
       "      <td>TTTGTCATCTCGGACG-1</td>\n",
       "    </tr>\n",
       "    <tr>\n",
       "      <th>TTTGTCATCTTGGGTA-1</th>\n",
       "      <td>8</td>\n",
       "      <td>TTTGTCATCTTGGGTA-1_35171_CV005_RV9039363</td>\n",
       "      <td>GEX+CITE-seq</td>\n",
       "      <td>3320.0</td>\n",
       "      <td>0.038855</td>\n",
       "      <td>35171_CV005_RV9039363</td>\n",
       "      <td>CD3</td>\n",
       "      <td>10X</td>\n",
       "      <td>TTTGTCATCTTGGGTA-1</td>\n",
       "    </tr>\n",
       "    <tr>\n",
       "      <th>TTTGTCATCTTTCCTC-1</th>\n",
       "      <td>8</td>\n",
       "      <td>TTTGTCATCTTTCCTC-1_35171_CV005_RV9039363</td>\n",
       "      <td>GEX+CITE-seq</td>\n",
       "      <td>6403.0</td>\n",
       "      <td>0.018585</td>\n",
       "      <td>35171_CV005_RV9039363</td>\n",
       "      <td>CD3</td>\n",
       "      <td>10X</td>\n",
       "      <td>TTTGTCATCTTTCCTC-1</td>\n",
       "    </tr>\n",
       "  </tbody>\n",
       "</table>\n",
       "<p>187157 rows × 9 columns</p>\n",
       "</div>"
      ],
      "text/plain": [
       "                     batch                                            cell_id  \\\n",
       "AAACCTGAGAATGTGT-1       0  AAACCTGAGAATGTGT-1_35008_CV005_RV9039258_and_3...   \n",
       "AAACCTGAGACTAAGT-1       0  AAACCTGAGACTAAGT-1_35008_CV005_RV9039258_and_3...   \n",
       "AAACCTGAGATCCCGC-1       0  AAACCTGAGATCCCGC-1_35008_CV005_RV9039258_and_3...   \n",
       "AAACCTGAGCCGCCTA-1       0  AAACCTGAGCCGCCTA-1_35008_CV005_RV9039258_and_3...   \n",
       "AAACCTGAGCGCCTCA-1       0  AAACCTGAGCGCCTCA-1_35008_CV005_RV9039258_and_3...   \n",
       "...                    ...                                                ...   \n",
       "TTTGTCATCGGGAGTA-1-1     8           TTTGTCATCGGGAGTA-1_35171_CV005_RV9039363   \n",
       "TTTGTCATCTACTATC-1       8           TTTGTCATCTACTATC-1_35171_CV005_RV9039363   \n",
       "TTTGTCATCTCGGACG-1       8           TTTGTCATCTCGGACG-1_35171_CV005_RV9039363   \n",
       "TTTGTCATCTTGGGTA-1       8           TTTGTCATCTTGGGTA-1_35171_CV005_RV9039363   \n",
       "TTTGTCATCTTTCCTC-1       8           TTTGTCATCTTTCCTC-1_35171_CV005_RV9039363   \n",
       "\n",
       "                           dataset  n_counts  percent_mito  \\\n",
       "AAACCTGAGAATGTGT-1    GEX+CITE-seq    7290.0      0.018107   \n",
       "AAACCTGAGACTAAGT-1    GEX+CITE-seq   12744.0      0.039077   \n",
       "AAACCTGAGATCCCGC-1    GEX+CITE-seq     801.0      0.031211   \n",
       "AAACCTGAGCCGCCTA-1    GEX+CITE-seq    1275.0      0.039216   \n",
       "AAACCTGAGCGCCTCA-1    GEX+CITE-seq    1137.0      0.028144   \n",
       "...                            ...       ...           ...   \n",
       "TTTGTCATCGGGAGTA-1-1  GEX+CITE-seq   10751.0      0.006697   \n",
       "TTTGTCATCTACTATC-1    GEX+CITE-seq   22685.0      0.040026   \n",
       "TTTGTCATCTCGGACG-1    GEX+CITE-seq    3749.0      0.010936   \n",
       "TTTGTCATCTTGGGTA-1    GEX+CITE-seq    3320.0      0.038855   \n",
       "TTTGTCATCTTTCCTC-1    GEX+CITE-seq    6403.0      0.018585   \n",
       "\n",
       "                                                               sample  \\\n",
       "AAACCTGAGAATGTGT-1    35008_CV005_RV9039258_and_35008_CV005_RV9039282   \n",
       "AAACCTGAGACTAAGT-1    35008_CV005_RV9039258_and_35008_CV005_RV9039282   \n",
       "AAACCTGAGATCCCGC-1    35008_CV005_RV9039258_and_35008_CV005_RV9039282   \n",
       "AAACCTGAGCCGCCTA-1    35008_CV005_RV9039258_and_35008_CV005_RV9039282   \n",
       "AAACCTGAGCGCCTCA-1    35008_CV005_RV9039258_and_35008_CV005_RV9039282   \n",
       "...                                                               ...   \n",
       "TTTGTCATCGGGAGTA-1-1                            35171_CV005_RV9039363   \n",
       "TTTGTCATCTACTATC-1                              35171_CV005_RV9039363   \n",
       "TTTGTCATCTCGGACG-1                              35171_CV005_RV9039363   \n",
       "TTTGTCATCTTGGGTA-1                              35171_CV005_RV9039363   \n",
       "TTTGTCATCTTTCCTC-1                              35171_CV005_RV9039363   \n",
       "\n",
       "                     stimulation technique             barcode  \n",
       "AAACCTGAGAATGTGT-1        unstim       10X  AAACCTGAGAATGTGT-1  \n",
       "AAACCTGAGACTAAGT-1        unstim       10X  AAACCTGAGACTAAGT-1  \n",
       "AAACCTGAGATCCCGC-1        unstim       10X  AAACCTGAGATCCCGC-1  \n",
       "AAACCTGAGCCGCCTA-1        unstim       10X  AAACCTGAGCCGCCTA-1  \n",
       "AAACCTGAGCGCCTCA-1        unstim       10X  AAACCTGAGCGCCTCA-1  \n",
       "...                          ...       ...                 ...  \n",
       "TTTGTCATCGGGAGTA-1-1         CD3       10X  TTTGTCATCGGGAGTA-1  \n",
       "TTTGTCATCTACTATC-1           CD3       10X  TTTGTCATCTACTATC-1  \n",
       "TTTGTCATCTCGGACG-1           CD3       10X  TTTGTCATCTCGGACG-1  \n",
       "TTTGTCATCTTGGGTA-1           CD3       10X  TTTGTCATCTTGGGTA-1  \n",
       "TTTGTCATCTTTCCTC-1           CD3       10X  TTTGTCATCTTTCCTC-1  \n",
       "\n",
       "[187157 rows x 9 columns]"
      ]
     },
     "execution_count": 42,
     "metadata": {},
     "output_type": "execute_result"
    }
   ],
   "source": [
    "adata.obs"
   ]
  },
  {
   "cell_type": "code",
   "execution_count": 43,
   "metadata": {},
   "outputs": [
    {
     "data": {
      "text/plain": [
       "AAACCTGAGAATGTGT-1      AAACCTGAGAATGTGT-1_35008_CV005_RV9039258_and_3...\n",
       "AAACCTGAGACTAAGT-1      AAACCTGAGACTAAGT-1_35008_CV005_RV9039258_and_3...\n",
       "AAACCTGAGATCCCGC-1      AAACCTGAGATCCCGC-1_35008_CV005_RV9039258_and_3...\n",
       "AAACCTGAGCCGCCTA-1      AAACCTGAGCCGCCTA-1_35008_CV005_RV9039258_and_3...\n",
       "AAACCTGAGCGCCTCA-1      AAACCTGAGCGCCTCA-1_35008_CV005_RV9039258_and_3...\n",
       "                                              ...                        \n",
       "TTTGTCATCGGGAGTA-1-1             TTTGTCATCGGGAGTA-1_35171_CV005_RV9039363\n",
       "TTTGTCATCTACTATC-1               TTTGTCATCTACTATC-1_35171_CV005_RV9039363\n",
       "TTTGTCATCTCGGACG-1               TTTGTCATCTCGGACG-1_35171_CV005_RV9039363\n",
       "TTTGTCATCTTGGGTA-1               TTTGTCATCTTGGGTA-1_35171_CV005_RV9039363\n",
       "TTTGTCATCTTTCCTC-1               TTTGTCATCTTTCCTC-1_35171_CV005_RV9039363\n",
       "Name: cell_id, Length: 187157, dtype: object"
      ]
     },
     "execution_count": 43,
     "metadata": {},
     "output_type": "execute_result"
    }
   ],
   "source": [
    "adata.obs['cell_id']"
   ]
  },
  {
   "cell_type": "code",
   "execution_count": 44,
   "metadata": {},
   "outputs": [
    {
     "data": {
      "text/plain": [
       "187157"
      ]
     },
     "execution_count": 44,
     "metadata": {},
     "output_type": "execute_result"
    }
   ],
   "source": [
    "len(set(adata.obs['cell_id']) & set(souporcell_meta_table.index))"
   ]
  },
  {
   "cell_type": "code",
   "execution_count": 45,
   "metadata": {},
   "outputs": [
    {
     "data": {
      "text/plain": [
       "AnnData object with n_obs × n_vars = 187157 × 33886 \n",
       "    obs: 'batch', 'cell_id', 'dataset', 'n_counts', 'percent_mito', 'sample', 'stimulation', 'technique', 'barcode'\n",
       "    var: 'gene_ids-0', 'feature_types-0', 'genome-0', 'gene_ids-1', 'feature_types-1', 'genome-1', 'gene_ids-2', 'feature_types-2', 'genome-2', 'gene_ids-3', 'feature_types-3', 'genome-3', 'gene_ids-4', 'feature_types-4', 'genome-4', 'gene_ids-5', 'feature_types-5', 'genome-5', 'gene_ids-6', 'feature_types-6', 'genome-6', 'gene_ids-7', 'feature_types-7', 'genome-7', 'gene_ids-8', 'feature_types-8', 'genome-8'"
      ]
     },
     "execution_count": 45,
     "metadata": {},
     "output_type": "execute_result"
    }
   ],
   "source": [
    "adata"
   ]
  },
  {
   "cell_type": "code",
   "execution_count": 46,
   "metadata": {},
   "outputs": [
    {
     "data": {
      "text/plain": [
       "Index(['AAACCTGAGAATGTGT-1_35008_CV005_RV9039258_and_35008_CV005_RV9039282',\n",
       "       'AAACCTGAGACTAAGT-1_35008_CV005_RV9039258_and_35008_CV005_RV9039282',\n",
       "       'AAACCTGAGATCCCGC-1_35008_CV005_RV9039258_and_35008_CV005_RV9039282',\n",
       "       'AAACCTGAGCCGCCTA-1_35008_CV005_RV9039258_and_35008_CV005_RV9039282',\n",
       "       'AAACCTGAGCGCCTCA-1_35008_CV005_RV9039258_and_35008_CV005_RV9039282',\n",
       "       'AAACCTGAGCTACCGC-1_35008_CV005_RV9039258_and_35008_CV005_RV9039282',\n",
       "       'AAACCTGAGCTGTTCA-1_35008_CV005_RV9039258_and_35008_CV005_RV9039282',\n",
       "       'AAACCTGAGGATGTAT-1_35008_CV005_RV9039258_and_35008_CV005_RV9039282',\n",
       "       'AAACCTGAGGCTAGCA-1_35008_CV005_RV9039258_and_35008_CV005_RV9039282',\n",
       "       'AAACCTGAGGCTCTTA-1_35008_CV005_RV9039258_and_35008_CV005_RV9039282',\n",
       "       ...\n",
       "       'TTTGTCATCCCTTGCA-1_35171_CV005_RV9039363',\n",
       "       'TTTGTCATCCGCGTTT-1_35171_CV005_RV9039363',\n",
       "       'TTTGTCATCCTTGACC-1_35171_CV005_RV9039363',\n",
       "       'TTTGTCATCGGAGGTA-1_35171_CV005_RV9039363',\n",
       "       'TTTGTCATCGGCTACG-1_35171_CV005_RV9039363',\n",
       "       'TTTGTCATCGGGAGTA-1_35171_CV005_RV9039363',\n",
       "       'TTTGTCATCTACTATC-1_35171_CV005_RV9039363',\n",
       "       'TTTGTCATCTCGGACG-1_35171_CV005_RV9039363',\n",
       "       'TTTGTCATCTTGGGTA-1_35171_CV005_RV9039363',\n",
       "       'TTTGTCATCTTTCCTC-1_35171_CV005_RV9039363'],\n",
       "      dtype='object', name='barcode_sample', length=187157)"
      ]
     },
     "execution_count": 46,
     "metadata": {},
     "output_type": "execute_result"
    }
   ],
   "source": [
    "souporcell_meta_table.index"
   ]
  },
  {
   "cell_type": "code",
   "execution_count": 51,
   "metadata": {},
   "outputs": [],
   "source": [
    "def add_souporcell(adata_obj, barcode):\n",
    "    \n",
    "    # cell_id column here is barcode_sample column (unique IDs)\n",
    "    curr_barcode_sample = adata_obj.obs.loc[barcode,'cell_id']\n",
    "    curr_sample = adata_obj.obs.loc[barcode,'sample']\n",
    "    \n",
    "    #print('curr_barcode_sample:', curr_barcode_sample)\n",
    "\n",
    "    if curr_barcode_sample in souporcell_meta_table.index:\n",
    "        assignment = curr_sample+'_'+souporcell_meta_table.loc[curr_barcode_sample,'assignment']\n",
    "        return(assignment)\n",
    "    else:\n",
    "        return('no_deconv_yet')"
   ]
  },
  {
   "cell_type": "code",
   "execution_count": 53,
   "metadata": {},
   "outputs": [],
   "source": [
    "adata.obs['barcode'] = adata.obs.index"
   ]
  },
  {
   "cell_type": "code",
   "execution_count": 54,
   "metadata": {},
   "outputs": [],
   "source": [
    "adata.obs['souporcell_assignment'] = adata.obs['barcode'].apply(lambda x: add_souporcell(adata,x))"
   ]
  },
  {
   "cell_type": "code",
   "execution_count": 55,
   "metadata": {
    "collapsed": true,
    "jupyter": {
     "outputs_hidden": true
    }
   },
   "outputs": [
    {
     "data": {
      "text/plain": [
       "(array(['35008_CV005_RV9039258_and_35008_CV005_RV9039282_0',\n",
       "        '35008_CV005_RV9039258_and_35008_CV005_RV9039282_0/1',\n",
       "        '35008_CV005_RV9039258_and_35008_CV005_RV9039282_0/2',\n",
       "        '35008_CV005_RV9039258_and_35008_CV005_RV9039282_0/3',\n",
       "        '35008_CV005_RV9039258_and_35008_CV005_RV9039282_0/4',\n",
       "        '35008_CV005_RV9039258_and_35008_CV005_RV9039282_0/5',\n",
       "        '35008_CV005_RV9039258_and_35008_CV005_RV9039282_1',\n",
       "        '35008_CV005_RV9039258_and_35008_CV005_RV9039282_1/0',\n",
       "        '35008_CV005_RV9039258_and_35008_CV005_RV9039282_1/2',\n",
       "        '35008_CV005_RV9039258_and_35008_CV005_RV9039282_1/3',\n",
       "        '35008_CV005_RV9039258_and_35008_CV005_RV9039282_1/4',\n",
       "        '35008_CV005_RV9039258_and_35008_CV005_RV9039282_1/5',\n",
       "        '35008_CV005_RV9039258_and_35008_CV005_RV9039282_2',\n",
       "        '35008_CV005_RV9039258_and_35008_CV005_RV9039282_2/0',\n",
       "        '35008_CV005_RV9039258_and_35008_CV005_RV9039282_2/1',\n",
       "        '35008_CV005_RV9039258_and_35008_CV005_RV9039282_2/3',\n",
       "        '35008_CV005_RV9039258_and_35008_CV005_RV9039282_2/4',\n",
       "        '35008_CV005_RV9039258_and_35008_CV005_RV9039282_2/5',\n",
       "        '35008_CV005_RV9039258_and_35008_CV005_RV9039282_3',\n",
       "        '35008_CV005_RV9039258_and_35008_CV005_RV9039282_3/0',\n",
       "        '35008_CV005_RV9039258_and_35008_CV005_RV9039282_3/1',\n",
       "        '35008_CV005_RV9039258_and_35008_CV005_RV9039282_3/2',\n",
       "        '35008_CV005_RV9039258_and_35008_CV005_RV9039282_3/4',\n",
       "        '35008_CV005_RV9039258_and_35008_CV005_RV9039282_3/5',\n",
       "        '35008_CV005_RV9039258_and_35008_CV005_RV9039282_4',\n",
       "        '35008_CV005_RV9039258_and_35008_CV005_RV9039282_4/0',\n",
       "        '35008_CV005_RV9039258_and_35008_CV005_RV9039282_4/1',\n",
       "        '35008_CV005_RV9039258_and_35008_CV005_RV9039282_4/2',\n",
       "        '35008_CV005_RV9039258_and_35008_CV005_RV9039282_4/3',\n",
       "        '35008_CV005_RV9039258_and_35008_CV005_RV9039282_4/5',\n",
       "        '35008_CV005_RV9039258_and_35008_CV005_RV9039282_5',\n",
       "        '35008_CV005_RV9039258_and_35008_CV005_RV9039282_5/0',\n",
       "        '35008_CV005_RV9039258_and_35008_CV005_RV9039282_5/1',\n",
       "        '35008_CV005_RV9039258_and_35008_CV005_RV9039282_5/2',\n",
       "        '35008_CV005_RV9039258_and_35008_CV005_RV9039282_5/3',\n",
       "        '35008_CV005_RV9039258_and_35008_CV005_RV9039282_5/4',\n",
       "        '35008_CV005_RV9039259_and_35008_CV005_RV9039283_0',\n",
       "        '35008_CV005_RV9039259_and_35008_CV005_RV9039283_0/1',\n",
       "        '35008_CV005_RV9039259_and_35008_CV005_RV9039283_0/2',\n",
       "        '35008_CV005_RV9039259_and_35008_CV005_RV9039283_0/3',\n",
       "        '35008_CV005_RV9039259_and_35008_CV005_RV9039283_0/4',\n",
       "        '35008_CV005_RV9039259_and_35008_CV005_RV9039283_0/5',\n",
       "        '35008_CV005_RV9039259_and_35008_CV005_RV9039283_1',\n",
       "        '35008_CV005_RV9039259_and_35008_CV005_RV9039283_1/0',\n",
       "        '35008_CV005_RV9039259_and_35008_CV005_RV9039283_1/2',\n",
       "        '35008_CV005_RV9039259_and_35008_CV005_RV9039283_1/3',\n",
       "        '35008_CV005_RV9039259_and_35008_CV005_RV9039283_1/4',\n",
       "        '35008_CV005_RV9039259_and_35008_CV005_RV9039283_1/5',\n",
       "        '35008_CV005_RV9039259_and_35008_CV005_RV9039283_2',\n",
       "        '35008_CV005_RV9039259_and_35008_CV005_RV9039283_2/0',\n",
       "        '35008_CV005_RV9039259_and_35008_CV005_RV9039283_2/1',\n",
       "        '35008_CV005_RV9039259_and_35008_CV005_RV9039283_2/3',\n",
       "        '35008_CV005_RV9039259_and_35008_CV005_RV9039283_2/4',\n",
       "        '35008_CV005_RV9039259_and_35008_CV005_RV9039283_2/5',\n",
       "        '35008_CV005_RV9039259_and_35008_CV005_RV9039283_3',\n",
       "        '35008_CV005_RV9039259_and_35008_CV005_RV9039283_3/0',\n",
       "        '35008_CV005_RV9039259_and_35008_CV005_RV9039283_3/1',\n",
       "        '35008_CV005_RV9039259_and_35008_CV005_RV9039283_3/2',\n",
       "        '35008_CV005_RV9039259_and_35008_CV005_RV9039283_3/4',\n",
       "        '35008_CV005_RV9039259_and_35008_CV005_RV9039283_3/5',\n",
       "        '35008_CV005_RV9039259_and_35008_CV005_RV9039283_4',\n",
       "        '35008_CV005_RV9039259_and_35008_CV005_RV9039283_4/0',\n",
       "        '35008_CV005_RV9039259_and_35008_CV005_RV9039283_4/1',\n",
       "        '35008_CV005_RV9039259_and_35008_CV005_RV9039283_4/2',\n",
       "        '35008_CV005_RV9039259_and_35008_CV005_RV9039283_4/3',\n",
       "        '35008_CV005_RV9039259_and_35008_CV005_RV9039283_4/5',\n",
       "        '35008_CV005_RV9039259_and_35008_CV005_RV9039283_5',\n",
       "        '35008_CV005_RV9039259_and_35008_CV005_RV9039283_5/0',\n",
       "        '35008_CV005_RV9039259_and_35008_CV005_RV9039283_5/1',\n",
       "        '35008_CV005_RV9039259_and_35008_CV005_RV9039283_5/2',\n",
       "        '35008_CV005_RV9039259_and_35008_CV005_RV9039283_5/3',\n",
       "        '35008_CV005_RV9039259_and_35008_CV005_RV9039283_5/4',\n",
       "        '35008_CV005_RV9039260_and_35008_CV005_RV9039284_0',\n",
       "        '35008_CV005_RV9039260_and_35008_CV005_RV9039284_0/1',\n",
       "        '35008_CV005_RV9039260_and_35008_CV005_RV9039284_0/2',\n",
       "        '35008_CV005_RV9039260_and_35008_CV005_RV9039284_0/3',\n",
       "        '35008_CV005_RV9039260_and_35008_CV005_RV9039284_0/4',\n",
       "        '35008_CV005_RV9039260_and_35008_CV005_RV9039284_0/5',\n",
       "        '35008_CV005_RV9039260_and_35008_CV005_RV9039284_1',\n",
       "        '35008_CV005_RV9039260_and_35008_CV005_RV9039284_1/0',\n",
       "        '35008_CV005_RV9039260_and_35008_CV005_RV9039284_1/2',\n",
       "        '35008_CV005_RV9039260_and_35008_CV005_RV9039284_1/3',\n",
       "        '35008_CV005_RV9039260_and_35008_CV005_RV9039284_1/4',\n",
       "        '35008_CV005_RV9039260_and_35008_CV005_RV9039284_1/5',\n",
       "        '35008_CV005_RV9039260_and_35008_CV005_RV9039284_2',\n",
       "        '35008_CV005_RV9039260_and_35008_CV005_RV9039284_2/0',\n",
       "        '35008_CV005_RV9039260_and_35008_CV005_RV9039284_2/1',\n",
       "        '35008_CV005_RV9039260_and_35008_CV005_RV9039284_2/3',\n",
       "        '35008_CV005_RV9039260_and_35008_CV005_RV9039284_2/4',\n",
       "        '35008_CV005_RV9039260_and_35008_CV005_RV9039284_2/5',\n",
       "        '35008_CV005_RV9039260_and_35008_CV005_RV9039284_3',\n",
       "        '35008_CV005_RV9039260_and_35008_CV005_RV9039284_3/0',\n",
       "        '35008_CV005_RV9039260_and_35008_CV005_RV9039284_3/1',\n",
       "        '35008_CV005_RV9039260_and_35008_CV005_RV9039284_3/2',\n",
       "        '35008_CV005_RV9039260_and_35008_CV005_RV9039284_3/4',\n",
       "        '35008_CV005_RV9039260_and_35008_CV005_RV9039284_3/5',\n",
       "        '35008_CV005_RV9039260_and_35008_CV005_RV9039284_4',\n",
       "        '35008_CV005_RV9039260_and_35008_CV005_RV9039284_4/0',\n",
       "        '35008_CV005_RV9039260_and_35008_CV005_RV9039284_4/1',\n",
       "        '35008_CV005_RV9039260_and_35008_CV005_RV9039284_4/2',\n",
       "        '35008_CV005_RV9039260_and_35008_CV005_RV9039284_4/3',\n",
       "        '35008_CV005_RV9039260_and_35008_CV005_RV9039284_4/5',\n",
       "        '35008_CV005_RV9039260_and_35008_CV005_RV9039284_5',\n",
       "        '35008_CV005_RV9039260_and_35008_CV005_RV9039284_5/0',\n",
       "        '35008_CV005_RV9039260_and_35008_CV005_RV9039284_5/1',\n",
       "        '35008_CV005_RV9039260_and_35008_CV005_RV9039284_5/2',\n",
       "        '35008_CV005_RV9039260_and_35008_CV005_RV9039284_5/3',\n",
       "        '35008_CV005_RV9039260_and_35008_CV005_RV9039284_5/4',\n",
       "        '35008_CV005_RV9039261_and_35008_CV005_RV9039285_0',\n",
       "        '35008_CV005_RV9039261_and_35008_CV005_RV9039285_0/1',\n",
       "        '35008_CV005_RV9039261_and_35008_CV005_RV9039285_0/2',\n",
       "        '35008_CV005_RV9039261_and_35008_CV005_RV9039285_0/3',\n",
       "        '35008_CV005_RV9039261_and_35008_CV005_RV9039285_0/4',\n",
       "        '35008_CV005_RV9039261_and_35008_CV005_RV9039285_0/5',\n",
       "        '35008_CV005_RV9039261_and_35008_CV005_RV9039285_1',\n",
       "        '35008_CV005_RV9039261_and_35008_CV005_RV9039285_1/0',\n",
       "        '35008_CV005_RV9039261_and_35008_CV005_RV9039285_1/2',\n",
       "        '35008_CV005_RV9039261_and_35008_CV005_RV9039285_1/3',\n",
       "        '35008_CV005_RV9039261_and_35008_CV005_RV9039285_1/4',\n",
       "        '35008_CV005_RV9039261_and_35008_CV005_RV9039285_1/5',\n",
       "        '35008_CV005_RV9039261_and_35008_CV005_RV9039285_2',\n",
       "        '35008_CV005_RV9039261_and_35008_CV005_RV9039285_2/0',\n",
       "        '35008_CV005_RV9039261_and_35008_CV005_RV9039285_2/1',\n",
       "        '35008_CV005_RV9039261_and_35008_CV005_RV9039285_2/3',\n",
       "        '35008_CV005_RV9039261_and_35008_CV005_RV9039285_2/4',\n",
       "        '35008_CV005_RV9039261_and_35008_CV005_RV9039285_2/5',\n",
       "        '35008_CV005_RV9039261_and_35008_CV005_RV9039285_3',\n",
       "        '35008_CV005_RV9039261_and_35008_CV005_RV9039285_3/0',\n",
       "        '35008_CV005_RV9039261_and_35008_CV005_RV9039285_3/1',\n",
       "        '35008_CV005_RV9039261_and_35008_CV005_RV9039285_3/2',\n",
       "        '35008_CV005_RV9039261_and_35008_CV005_RV9039285_3/4',\n",
       "        '35008_CV005_RV9039261_and_35008_CV005_RV9039285_3/5',\n",
       "        '35008_CV005_RV9039261_and_35008_CV005_RV9039285_4',\n",
       "        '35008_CV005_RV9039261_and_35008_CV005_RV9039285_4/0',\n",
       "        '35008_CV005_RV9039261_and_35008_CV005_RV9039285_4/1',\n",
       "        '35008_CV005_RV9039261_and_35008_CV005_RV9039285_4/2',\n",
       "        '35008_CV005_RV9039261_and_35008_CV005_RV9039285_4/3',\n",
       "        '35008_CV005_RV9039261_and_35008_CV005_RV9039285_4/5',\n",
       "        '35008_CV005_RV9039261_and_35008_CV005_RV9039285_5',\n",
       "        '35008_CV005_RV9039261_and_35008_CV005_RV9039285_5/0',\n",
       "        '35008_CV005_RV9039261_and_35008_CV005_RV9039285_5/1',\n",
       "        '35008_CV005_RV9039261_and_35008_CV005_RV9039285_5/2',\n",
       "        '35008_CV005_RV9039261_and_35008_CV005_RV9039285_5/3',\n",
       "        '35008_CV005_RV9039261_and_35008_CV005_RV9039285_5/4',\n",
       "        '35008_CV005_RV9039262_and_35008_CV005_RV9039286_0',\n",
       "        '35008_CV005_RV9039262_and_35008_CV005_RV9039286_0/1',\n",
       "        '35008_CV005_RV9039262_and_35008_CV005_RV9039286_0/2',\n",
       "        '35008_CV005_RV9039262_and_35008_CV005_RV9039286_0/3',\n",
       "        '35008_CV005_RV9039262_and_35008_CV005_RV9039286_0/4',\n",
       "        '35008_CV005_RV9039262_and_35008_CV005_RV9039286_0/5',\n",
       "        '35008_CV005_RV9039262_and_35008_CV005_RV9039286_1',\n",
       "        '35008_CV005_RV9039262_and_35008_CV005_RV9039286_1/0',\n",
       "        '35008_CV005_RV9039262_and_35008_CV005_RV9039286_1/2',\n",
       "        '35008_CV005_RV9039262_and_35008_CV005_RV9039286_1/3',\n",
       "        '35008_CV005_RV9039262_and_35008_CV005_RV9039286_1/4',\n",
       "        '35008_CV005_RV9039262_and_35008_CV005_RV9039286_1/5',\n",
       "        '35008_CV005_RV9039262_and_35008_CV005_RV9039286_2',\n",
       "        '35008_CV005_RV9039262_and_35008_CV005_RV9039286_2/0',\n",
       "        '35008_CV005_RV9039262_and_35008_CV005_RV9039286_2/1',\n",
       "        '35008_CV005_RV9039262_and_35008_CV005_RV9039286_2/3',\n",
       "        '35008_CV005_RV9039262_and_35008_CV005_RV9039286_2/4',\n",
       "        '35008_CV005_RV9039262_and_35008_CV005_RV9039286_2/5',\n",
       "        '35008_CV005_RV9039262_and_35008_CV005_RV9039286_3',\n",
       "        '35008_CV005_RV9039262_and_35008_CV005_RV9039286_3/0',\n",
       "        '35008_CV005_RV9039262_and_35008_CV005_RV9039286_3/1',\n",
       "        '35008_CV005_RV9039262_and_35008_CV005_RV9039286_3/2',\n",
       "        '35008_CV005_RV9039262_and_35008_CV005_RV9039286_3/4',\n",
       "        '35008_CV005_RV9039262_and_35008_CV005_RV9039286_3/5',\n",
       "        '35008_CV005_RV9039262_and_35008_CV005_RV9039286_4',\n",
       "        '35008_CV005_RV9039262_and_35008_CV005_RV9039286_4/0',\n",
       "        '35008_CV005_RV9039262_and_35008_CV005_RV9039286_4/1',\n",
       "        '35008_CV005_RV9039262_and_35008_CV005_RV9039286_4/2',\n",
       "        '35008_CV005_RV9039262_and_35008_CV005_RV9039286_4/3',\n",
       "        '35008_CV005_RV9039262_and_35008_CV005_RV9039286_4/5',\n",
       "        '35008_CV005_RV9039262_and_35008_CV005_RV9039286_5',\n",
       "        '35008_CV005_RV9039262_and_35008_CV005_RV9039286_5/0',\n",
       "        '35008_CV005_RV9039262_and_35008_CV005_RV9039286_5/1',\n",
       "        '35008_CV005_RV9039262_and_35008_CV005_RV9039286_5/2',\n",
       "        '35008_CV005_RV9039262_and_35008_CV005_RV9039286_5/3',\n",
       "        '35008_CV005_RV9039262_and_35008_CV005_RV9039286_5/4',\n",
       "        '35008_CV005_RV9039263_and_35008_CV005_RV9039287_0',\n",
       "        '35008_CV005_RV9039263_and_35008_CV005_RV9039287_0/1',\n",
       "        '35008_CV005_RV9039263_and_35008_CV005_RV9039287_0/2',\n",
       "        '35008_CV005_RV9039263_and_35008_CV005_RV9039287_0/3',\n",
       "        '35008_CV005_RV9039263_and_35008_CV005_RV9039287_0/4',\n",
       "        '35008_CV005_RV9039263_and_35008_CV005_RV9039287_0/5',\n",
       "        '35008_CV005_RV9039263_and_35008_CV005_RV9039287_1',\n",
       "        '35008_CV005_RV9039263_and_35008_CV005_RV9039287_1/0',\n",
       "        '35008_CV005_RV9039263_and_35008_CV005_RV9039287_1/2',\n",
       "        '35008_CV005_RV9039263_and_35008_CV005_RV9039287_1/3',\n",
       "        '35008_CV005_RV9039263_and_35008_CV005_RV9039287_1/4',\n",
       "        '35008_CV005_RV9039263_and_35008_CV005_RV9039287_1/5',\n",
       "        '35008_CV005_RV9039263_and_35008_CV005_RV9039287_2',\n",
       "        '35008_CV005_RV9039263_and_35008_CV005_RV9039287_2/0',\n",
       "        '35008_CV005_RV9039263_and_35008_CV005_RV9039287_2/1',\n",
       "        '35008_CV005_RV9039263_and_35008_CV005_RV9039287_2/3',\n",
       "        '35008_CV005_RV9039263_and_35008_CV005_RV9039287_2/4',\n",
       "        '35008_CV005_RV9039263_and_35008_CV005_RV9039287_2/5',\n",
       "        '35008_CV005_RV9039263_and_35008_CV005_RV9039287_3',\n",
       "        '35008_CV005_RV9039263_and_35008_CV005_RV9039287_3/0',\n",
       "        '35008_CV005_RV9039263_and_35008_CV005_RV9039287_3/1',\n",
       "        '35008_CV005_RV9039263_and_35008_CV005_RV9039287_3/2',\n",
       "        '35008_CV005_RV9039263_and_35008_CV005_RV9039287_3/4',\n",
       "        '35008_CV005_RV9039263_and_35008_CV005_RV9039287_3/5',\n",
       "        '35008_CV005_RV9039263_and_35008_CV005_RV9039287_4',\n",
       "        '35008_CV005_RV9039263_and_35008_CV005_RV9039287_4/0',\n",
       "        '35008_CV005_RV9039263_and_35008_CV005_RV9039287_4/1',\n",
       "        '35008_CV005_RV9039263_and_35008_CV005_RV9039287_4/2',\n",
       "        '35008_CV005_RV9039263_and_35008_CV005_RV9039287_4/3',\n",
       "        '35008_CV005_RV9039263_and_35008_CV005_RV9039287_4/5',\n",
       "        '35008_CV005_RV9039263_and_35008_CV005_RV9039287_5',\n",
       "        '35008_CV005_RV9039263_and_35008_CV005_RV9039287_5/0',\n",
       "        '35008_CV005_RV9039263_and_35008_CV005_RV9039287_5/1',\n",
       "        '35008_CV005_RV9039263_and_35008_CV005_RV9039287_5/2',\n",
       "        '35008_CV005_RV9039263_and_35008_CV005_RV9039287_5/3',\n",
       "        '35008_CV005_RV9039263_and_35008_CV005_RV9039287_5/4',\n",
       "        '35171_CV005_RV9039361_0', '35171_CV005_RV9039361_0/1',\n",
       "        '35171_CV005_RV9039361_0/2', '35171_CV005_RV9039361_0/3',\n",
       "        '35171_CV005_RV9039361_0/4', '35171_CV005_RV9039361_0/5',\n",
       "        '35171_CV005_RV9039361_0/6', '35171_CV005_RV9039361_0/7',\n",
       "        '35171_CV005_RV9039361_1', '35171_CV005_RV9039361_1/0',\n",
       "        '35171_CV005_RV9039361_1/2', '35171_CV005_RV9039361_1/3',\n",
       "        '35171_CV005_RV9039361_1/4', '35171_CV005_RV9039361_1/5',\n",
       "        '35171_CV005_RV9039361_1/6', '35171_CV005_RV9039361_1/7',\n",
       "        '35171_CV005_RV9039361_2', '35171_CV005_RV9039361_2/0',\n",
       "        '35171_CV005_RV9039361_2/1', '35171_CV005_RV9039361_2/3',\n",
       "        '35171_CV005_RV9039361_2/4', '35171_CV005_RV9039361_2/5',\n",
       "        '35171_CV005_RV9039361_2/6', '35171_CV005_RV9039361_2/7',\n",
       "        '35171_CV005_RV9039361_3', '35171_CV005_RV9039361_3/0',\n",
       "        '35171_CV005_RV9039361_3/1', '35171_CV005_RV9039361_3/2',\n",
       "        '35171_CV005_RV9039361_3/4', '35171_CV005_RV9039361_3/5',\n",
       "        '35171_CV005_RV9039361_3/6', '35171_CV005_RV9039361_3/7',\n",
       "        '35171_CV005_RV9039361_4', '35171_CV005_RV9039361_4/0',\n",
       "        '35171_CV005_RV9039361_4/1', '35171_CV005_RV9039361_4/2',\n",
       "        '35171_CV005_RV9039361_4/3', '35171_CV005_RV9039361_4/5',\n",
       "        '35171_CV005_RV9039361_4/6', '35171_CV005_RV9039361_4/7',\n",
       "        '35171_CV005_RV9039361_5', '35171_CV005_RV9039361_5/0',\n",
       "        '35171_CV005_RV9039361_5/1', '35171_CV005_RV9039361_5/2',\n",
       "        '35171_CV005_RV9039361_5/3', '35171_CV005_RV9039361_5/4',\n",
       "        '35171_CV005_RV9039361_5/6', '35171_CV005_RV9039361_5/7',\n",
       "        '35171_CV005_RV9039361_6', '35171_CV005_RV9039361_6/0',\n",
       "        '35171_CV005_RV9039361_6/1', '35171_CV005_RV9039361_6/2',\n",
       "        '35171_CV005_RV9039361_6/3', '35171_CV005_RV9039361_6/4',\n",
       "        '35171_CV005_RV9039361_6/5', '35171_CV005_RV9039361_6/7',\n",
       "        '35171_CV005_RV9039361_7', '35171_CV005_RV9039361_7/0',\n",
       "        '35171_CV005_RV9039361_7/1', '35171_CV005_RV9039361_7/2',\n",
       "        '35171_CV005_RV9039361_7/3', '35171_CV005_RV9039361_7/4',\n",
       "        '35171_CV005_RV9039361_7/5', '35171_CV005_RV9039361_7/6',\n",
       "        '35171_CV005_RV9039362_0', '35171_CV005_RV9039362_0/1',\n",
       "        '35171_CV005_RV9039362_0/2', '35171_CV005_RV9039362_0/3',\n",
       "        '35171_CV005_RV9039362_0/4', '35171_CV005_RV9039362_0/5',\n",
       "        '35171_CV005_RV9039362_0/6', '35171_CV005_RV9039362_0/7',\n",
       "        '35171_CV005_RV9039362_1', '35171_CV005_RV9039362_1/0',\n",
       "        '35171_CV005_RV9039362_1/2', '35171_CV005_RV9039362_1/3',\n",
       "        '35171_CV005_RV9039362_1/4', '35171_CV005_RV9039362_1/5',\n",
       "        '35171_CV005_RV9039362_1/6', '35171_CV005_RV9039362_1/7',\n",
       "        '35171_CV005_RV9039362_2', '35171_CV005_RV9039362_2/0',\n",
       "        '35171_CV005_RV9039362_2/1', '35171_CV005_RV9039362_2/3',\n",
       "        '35171_CV005_RV9039362_2/4', '35171_CV005_RV9039362_2/5',\n",
       "        '35171_CV005_RV9039362_2/6', '35171_CV005_RV9039362_2/7',\n",
       "        '35171_CV005_RV9039362_3', '35171_CV005_RV9039362_3/0',\n",
       "        '35171_CV005_RV9039362_3/1', '35171_CV005_RV9039362_3/2',\n",
       "        '35171_CV005_RV9039362_3/4', '35171_CV005_RV9039362_3/5',\n",
       "        '35171_CV005_RV9039362_3/6', '35171_CV005_RV9039362_3/7',\n",
       "        '35171_CV005_RV9039362_4', '35171_CV005_RV9039362_4/0',\n",
       "        '35171_CV005_RV9039362_4/1', '35171_CV005_RV9039362_4/2',\n",
       "        '35171_CV005_RV9039362_4/3', '35171_CV005_RV9039362_4/5',\n",
       "        '35171_CV005_RV9039362_4/6', '35171_CV005_RV9039362_4/7',\n",
       "        '35171_CV005_RV9039362_5', '35171_CV005_RV9039362_5/0',\n",
       "        '35171_CV005_RV9039362_5/1', '35171_CV005_RV9039362_5/2',\n",
       "        '35171_CV005_RV9039362_5/3', '35171_CV005_RV9039362_5/4',\n",
       "        '35171_CV005_RV9039362_5/6', '35171_CV005_RV9039362_5/7',\n",
       "        '35171_CV005_RV9039362_6', '35171_CV005_RV9039362_6/0',\n",
       "        '35171_CV005_RV9039362_6/1', '35171_CV005_RV9039362_6/2',\n",
       "        '35171_CV005_RV9039362_6/3', '35171_CV005_RV9039362_6/4',\n",
       "        '35171_CV005_RV9039362_6/5', '35171_CV005_RV9039362_6/7',\n",
       "        '35171_CV005_RV9039362_7', '35171_CV005_RV9039362_7/0',\n",
       "        '35171_CV005_RV9039362_7/1', '35171_CV005_RV9039362_7/2',\n",
       "        '35171_CV005_RV9039362_7/3', '35171_CV005_RV9039362_7/4',\n",
       "        '35171_CV005_RV9039362_7/5', '35171_CV005_RV9039362_7/6',\n",
       "        '35171_CV005_RV9039363_0', '35171_CV005_RV9039363_0/1',\n",
       "        '35171_CV005_RV9039363_0/2', '35171_CV005_RV9039363_0/3',\n",
       "        '35171_CV005_RV9039363_0/4', '35171_CV005_RV9039363_0/5',\n",
       "        '35171_CV005_RV9039363_0/6', '35171_CV005_RV9039363_0/7',\n",
       "        '35171_CV005_RV9039363_1', '35171_CV005_RV9039363_1/0',\n",
       "        '35171_CV005_RV9039363_1/2', '35171_CV005_RV9039363_1/3',\n",
       "        '35171_CV005_RV9039363_1/4', '35171_CV005_RV9039363_1/5',\n",
       "        '35171_CV005_RV9039363_1/6', '35171_CV005_RV9039363_1/7',\n",
       "        '35171_CV005_RV9039363_2', '35171_CV005_RV9039363_2/0',\n",
       "        '35171_CV005_RV9039363_2/1', '35171_CV005_RV9039363_2/3',\n",
       "        '35171_CV005_RV9039363_2/4', '35171_CV005_RV9039363_2/5',\n",
       "        '35171_CV005_RV9039363_2/6', '35171_CV005_RV9039363_2/7',\n",
       "        '35171_CV005_RV9039363_3', '35171_CV005_RV9039363_3/0',\n",
       "        '35171_CV005_RV9039363_3/1', '35171_CV005_RV9039363_3/2',\n",
       "        '35171_CV005_RV9039363_3/4', '35171_CV005_RV9039363_3/5',\n",
       "        '35171_CV005_RV9039363_3/6', '35171_CV005_RV9039363_3/7',\n",
       "        '35171_CV005_RV9039363_4', '35171_CV005_RV9039363_4/0',\n",
       "        '35171_CV005_RV9039363_4/1', '35171_CV005_RV9039363_4/2',\n",
       "        '35171_CV005_RV9039363_4/3', '35171_CV005_RV9039363_4/5',\n",
       "        '35171_CV005_RV9039363_4/6', '35171_CV005_RV9039363_4/7',\n",
       "        '35171_CV005_RV9039363_5', '35171_CV005_RV9039363_5/0',\n",
       "        '35171_CV005_RV9039363_5/1', '35171_CV005_RV9039363_5/2',\n",
       "        '35171_CV005_RV9039363_5/3', '35171_CV005_RV9039363_5/4',\n",
       "        '35171_CV005_RV9039363_5/6', '35171_CV005_RV9039363_5/7',\n",
       "        '35171_CV005_RV9039363_6', '35171_CV005_RV9039363_6/0',\n",
       "        '35171_CV005_RV9039363_6/1', '35171_CV005_RV9039363_6/2',\n",
       "        '35171_CV005_RV9039363_6/3', '35171_CV005_RV9039363_6/4',\n",
       "        '35171_CV005_RV9039363_6/5', '35171_CV005_RV9039363_6/7',\n",
       "        '35171_CV005_RV9039363_7', '35171_CV005_RV9039363_7/0',\n",
       "        '35171_CV005_RV9039363_7/1', '35171_CV005_RV9039363_7/2',\n",
       "        '35171_CV005_RV9039363_7/3', '35171_CV005_RV9039363_7/4',\n",
       "        '35171_CV005_RV9039363_7/5', '35171_CV005_RV9039363_7/6'],\n",
       "       dtype=object),\n",
       " array([2807,  143,  232,  130,  147,  127, 2331,   55,  129,  105,   99,\n",
       "          96, 3190,   98,  122,  113,  146,  133, 1937,   56,   83,  107,\n",
       "          91,   80, 2330,   48,   70,  151,   90,   98, 1963,   75,   63,\n",
       "         115,   82,   78, 3325,  189,  147,  160,  151,  108, 3228,  192,\n",
       "         196,  154,  134,  132, 2505,  154,  143,  140,  123,   78, 2367,\n",
       "         119,  118,  112,  115,   76, 2290,  120,  120,  140,  113,   94,\n",
       "        1988,   79,   93,   73,   94,   65, 1646,   97,  124,   88,   85,\n",
       "         103, 2002,  119,  144,   71,   97,  118, 1971,  131,  158,   94,\n",
       "          97,  136, 1579,   69,  123,  138,   82,   95, 1150,   56,   77,\n",
       "         105,   40,   67, 1159,   72,   86,  104,   61,   71, 1038,  125,\n",
       "          93,  114,  698,  148, 1410,  192,  240,  155, 1083,  197, 1601,\n",
       "         182,  245,  246, 1013,  313, 1530,  134,  117,  139,  749,  118,\n",
       "        1399,  449,  490,  296,  310,  433, 2033,  251,  298,  399,  227,\n",
       "        1367, 1707,  428,  235,  784,  237,  197, 1770,  328,  262, 1023,\n",
       "         319,  221, 1058,  124,  175,  599,  166,   80,  993,  129,  228,\n",
       "         162,  136,   65, 2353,  274,  510,  349, 1079,  379, 2847,  435,\n",
       "         613,  301,  955,  747, 1794,  338,  860,  225,  241,  217, 2060,\n",
       "         378, 1260,  268,  322,  245, 1000,   51,   70,   28,   37,   96,\n",
       "        1816,  234,  225,  673,  222,  204, 2435,  362,  430,  938,  377,\n",
       "         279, 1509,  179,  167,  737,  118,  127, 2479,   75,   90,   84,\n",
       "          96,  104,  106,  102, 1806,   69,   55,   38,   58,   56,   58,\n",
       "          37, 1689,   82,   44,   46,   25,   79,   49,   40, 2104,  115,\n",
       "          57,   74,  103,  109,   80,   81, 2263,  132,   79,   81,  101,\n",
       "         113,  104,  115, 2147,   89,   62,   84,   55,   63,   83,   68,\n",
       "        2427,  110,   70,   78,   60,   77,   80,   76, 2263,   77,   85,\n",
       "          78,   47,   66,   60,   82, 2461,   83,  466,  147,  157,  138,\n",
       "         115,  133, 1574,   74,  272,   59,   55,   32,   58,   55, 1540,\n",
       "          66,   50,   49,   60,   53,   69,   51, 2602,  163,   96,  447,\n",
       "         130,  158,  133,  131, 2278,  172,   65,  611,  108,   70,  100,\n",
       "         115, 1851,   88,   37,  435,   85,   71,   89,   72, 2004,   98,\n",
       "          68,  306,   81,   79,   78,   90, 2019,  103,   70,  290,   72,\n",
       "         117,   77,   77, 6980, 1312, 1177,  858,  728, 1116,  928,  765,\n",
       "        1665,  285,   52,   31,   28,   76,   48,   53, 2021,  391,  140,\n",
       "         102,   61,  112,   84,   59, 2225,  347,  158,  110,   77,  127,\n",
       "         111,  170, 1540,  175,   60,   24,   47,   43,   47,   99, 1266,\n",
       "         201,   48,   34,   40,   13,   34,   27, 1640,  219,   80,   64,\n",
       "          62,   55,   66,   51, 1263,  183,   43,   22,   28,   25,   30,\n",
       "          21]))"
      ]
     },
     "execution_count": 55,
     "metadata": {},
     "output_type": "execute_result"
    }
   ],
   "source": [
    "np.unique(adata.obs['souporcell_assignment'], return_counts=True)"
   ]
  },
  {
   "cell_type": "code",
   "execution_count": 56,
   "metadata": {},
   "outputs": [
    {
     "data": {
      "text/plain": [
       "array(['35008_CV005_RV9039258_and_35008_CV005_RV9039282',\n",
       "       '35008_CV005_RV9039259_and_35008_CV005_RV9039283',\n",
       "       '35008_CV005_RV9039260_and_35008_CV005_RV9039284',\n",
       "       '35008_CV005_RV9039261_and_35008_CV005_RV9039285',\n",
       "       '35008_CV005_RV9039262_and_35008_CV005_RV9039286',\n",
       "       '35008_CV005_RV9039263_and_35008_CV005_RV9039287',\n",
       "       '35171_CV005_RV9039361', '35171_CV005_RV9039362',\n",
       "       '35171_CV005_RV9039363'], dtype=object)"
      ]
     },
     "execution_count": 56,
     "metadata": {},
     "output_type": "execute_result"
    }
   ],
   "source": [
    "np.unique(adata.obs['sample'])"
   ]
  },
  {
   "cell_type": "code",
   "execution_count": 57,
   "metadata": {},
   "outputs": [],
   "source": [
    "# flagging inter-individual doublets\n",
    "adata.obs['inter_ind_doublet'] = [1 if '/' in elem else 0 for elem in adata.obs['souporcell_assignment']]\n"
   ]
  },
  {
   "cell_type": "code",
   "execution_count": 58,
   "metadata": {},
   "outputs": [
    {
     "data": {
      "text/plain": [
       "(array([0, 1]), array([122228,  64929]))"
      ]
     },
     "execution_count": 58,
     "metadata": {},
     "output_type": "execute_result"
    }
   ],
   "source": [
    "# checking if it all adds up\n",
    "np.unique(adata.obs['inter_ind_doublet'], return_counts=True)"
   ]
  },
  {
   "cell_type": "code",
   "execution_count": 59,
   "metadata": {},
   "outputs": [
    {
     "data": {
      "text/plain": [
       "AnnData object with n_obs × n_vars = 187157 × 33886 \n",
       "    obs: 'batch', 'cell_id', 'dataset', 'n_counts', 'percent_mito', 'sample', 'stimulation', 'technique', 'barcode', 'souporcell_assignment', 'inter_ind_doublet'\n",
       "    var: 'gene_ids-0', 'feature_types-0', 'genome-0', 'gene_ids-1', 'feature_types-1', 'genome-1', 'gene_ids-2', 'feature_types-2', 'genome-2', 'gene_ids-3', 'feature_types-3', 'genome-3', 'gene_ids-4', 'feature_types-4', 'genome-4', 'gene_ids-5', 'feature_types-5', 'genome-5', 'gene_ids-6', 'feature_types-6', 'genome-6', 'gene_ids-7', 'feature_types-7', 'genome-7', 'gene_ids-8', 'feature_types-8', 'genome-8'"
      ]
     },
     "execution_count": 59,
     "metadata": {},
     "output_type": "execute_result"
    }
   ],
   "source": [
    "adata"
   ]
  },
  {
   "cell_type": "code",
   "execution_count": 60,
   "metadata": {},
   "outputs": [
    {
     "data": {
      "text/plain": [
       "0.34692263714421584"
      ]
     },
     "execution_count": 60,
     "metadata": {},
     "output_type": "execute_result"
    }
   ],
   "source": [
    "# so about 35% doubets (inter-individual)\n",
    "64929 / 187157\n"
   ]
  },
  {
   "cell_type": "code",
   "execution_count": 61,
   "metadata": {},
   "outputs": [],
   "source": [
    "# discarding inter-individual doublets\n",
    "adata = adata[adata.obs['inter_ind_doublet'] == 0].copy()"
   ]
  },
  {
   "cell_type": "code",
   "execution_count": 62,
   "metadata": {},
   "outputs": [
    {
     "data": {
      "text/plain": [
       "AnnData object with n_obs × n_vars = 122228 × 33886 \n",
       "    obs: 'batch', 'cell_id', 'dataset', 'n_counts', 'percent_mito', 'sample', 'stimulation', 'technique', 'barcode', 'souporcell_assignment', 'inter_ind_doublet'\n",
       "    var: 'gene_ids-0', 'feature_types-0', 'genome-0', 'gene_ids-1', 'feature_types-1', 'genome-1', 'gene_ids-2', 'feature_types-2', 'genome-2', 'gene_ids-3', 'feature_types-3', 'genome-3', 'gene_ids-4', 'feature_types-4', 'genome-4', 'gene_ids-5', 'feature_types-5', 'genome-5', 'gene_ids-6', 'feature_types-6', 'genome-6', 'gene_ids-7', 'feature_types-7', 'genome-7', 'gene_ids-8', 'feature_types-8', 'genome-8'"
      ]
     },
     "execution_count": 62,
     "metadata": {},
     "output_type": "execute_result"
    }
   ],
   "source": [
    "adata"
   ]
  },
  {
   "cell_type": "markdown",
   "metadata": {},
   "source": [
    "## Coming to temporary donor IDs matched across all samples"
   ]
  },
  {
   "cell_type": "code",
   "execution_count": 64,
   "metadata": {},
   "outputs": [
    {
     "data": {
      "text/plain": [
       "array(['35008_CV005_RV9039258_and_35008_CV005_RV9039282_0',\n",
       "       '35008_CV005_RV9039258_and_35008_CV005_RV9039282_1',\n",
       "       '35008_CV005_RV9039258_and_35008_CV005_RV9039282_2',\n",
       "       '35008_CV005_RV9039258_and_35008_CV005_RV9039282_3',\n",
       "       '35008_CV005_RV9039258_and_35008_CV005_RV9039282_4',\n",
       "       '35008_CV005_RV9039258_and_35008_CV005_RV9039282_5',\n",
       "       '35008_CV005_RV9039259_and_35008_CV005_RV9039283_0',\n",
       "       '35008_CV005_RV9039259_and_35008_CV005_RV9039283_1',\n",
       "       '35008_CV005_RV9039259_and_35008_CV005_RV9039283_2',\n",
       "       '35008_CV005_RV9039259_and_35008_CV005_RV9039283_3',\n",
       "       '35008_CV005_RV9039259_and_35008_CV005_RV9039283_4',\n",
       "       '35008_CV005_RV9039259_and_35008_CV005_RV9039283_5',\n",
       "       '35008_CV005_RV9039260_and_35008_CV005_RV9039284_0',\n",
       "       '35008_CV005_RV9039260_and_35008_CV005_RV9039284_1',\n",
       "       '35008_CV005_RV9039260_and_35008_CV005_RV9039284_2',\n",
       "       '35008_CV005_RV9039260_and_35008_CV005_RV9039284_3',\n",
       "       '35008_CV005_RV9039260_and_35008_CV005_RV9039284_4',\n",
       "       '35008_CV005_RV9039260_and_35008_CV005_RV9039284_5',\n",
       "       '35008_CV005_RV9039261_and_35008_CV005_RV9039285_0',\n",
       "       '35008_CV005_RV9039261_and_35008_CV005_RV9039285_1',\n",
       "       '35008_CV005_RV9039261_and_35008_CV005_RV9039285_2',\n",
       "       '35008_CV005_RV9039261_and_35008_CV005_RV9039285_3',\n",
       "       '35008_CV005_RV9039261_and_35008_CV005_RV9039285_4',\n",
       "       '35008_CV005_RV9039261_and_35008_CV005_RV9039285_5',\n",
       "       '35008_CV005_RV9039262_and_35008_CV005_RV9039286_0',\n",
       "       '35008_CV005_RV9039262_and_35008_CV005_RV9039286_1',\n",
       "       '35008_CV005_RV9039262_and_35008_CV005_RV9039286_2',\n",
       "       '35008_CV005_RV9039262_and_35008_CV005_RV9039286_3',\n",
       "       '35008_CV005_RV9039262_and_35008_CV005_RV9039286_4',\n",
       "       '35008_CV005_RV9039262_and_35008_CV005_RV9039286_5',\n",
       "       '35008_CV005_RV9039263_and_35008_CV005_RV9039287_0',\n",
       "       '35008_CV005_RV9039263_and_35008_CV005_RV9039287_1',\n",
       "       '35008_CV005_RV9039263_and_35008_CV005_RV9039287_2',\n",
       "       '35008_CV005_RV9039263_and_35008_CV005_RV9039287_3',\n",
       "       '35008_CV005_RV9039263_and_35008_CV005_RV9039287_4',\n",
       "       '35008_CV005_RV9039263_and_35008_CV005_RV9039287_5',\n",
       "       '35171_CV005_RV9039361_0', '35171_CV005_RV9039361_1',\n",
       "       '35171_CV005_RV9039361_2', '35171_CV005_RV9039361_3',\n",
       "       '35171_CV005_RV9039361_4', '35171_CV005_RV9039361_5',\n",
       "       '35171_CV005_RV9039361_6', '35171_CV005_RV9039361_7',\n",
       "       '35171_CV005_RV9039362_0', '35171_CV005_RV9039362_1',\n",
       "       '35171_CV005_RV9039362_2', '35171_CV005_RV9039362_3',\n",
       "       '35171_CV005_RV9039362_4', '35171_CV005_RV9039362_5',\n",
       "       '35171_CV005_RV9039362_6', '35171_CV005_RV9039362_7',\n",
       "       '35171_CV005_RV9039363_0', '35171_CV005_RV9039363_1',\n",
       "       '35171_CV005_RV9039363_2', '35171_CV005_RV9039363_3',\n",
       "       '35171_CV005_RV9039363_4', '35171_CV005_RV9039363_5',\n",
       "       '35171_CV005_RV9039363_6', '35171_CV005_RV9039363_7'], dtype=object)"
      ]
     },
     "execution_count": 64,
     "metadata": {},
     "output_type": "execute_result"
    }
   ],
   "source": [
    "np.unique(adata.obs['souporcell_assignment'])"
   ]
  },
  {
   "cell_type": "code",
   "execution_count": 65,
   "metadata": {},
   "outputs": [],
   "source": [
    "def annot_temp_donor_ID(adata_obj, barcode):\n",
    "    \n",
    "    curr_souporcell_assignment = adata_obj.obs.loc[barcode, 'souporcell_assignment']\n",
    "    \n",
    "    if curr_souporcell_assignment in ['35008_CV005_RV9039258_and_35008_CV005_RV9039282_0',\n",
    "                                      '35008_CV005_RV9039260_and_35008_CV005_RV9039284_3',\n",
    "                                      '35008_CV005_RV9039262_and_35008_CV005_RV9039286_0',\n",
    "                                      '35008_CV005_RV9039265_and_35008_CV005_RV9039289_0']:\n",
    "        return('1')\n",
    "    \n",
    "    elif curr_souporcell_assignment in ['35008_CV005_RV9039258_and_35008_CV005_RV9039282_1',\n",
    "                                        '35008_CV005_RV9039260_and_35008_CV005_RV9039284_1',\n",
    "                                        '35008_CV005_RV9039262_and_35008_CV005_RV9039286_2',\n",
    "                                        '35008_CV005_RV9039264_and_35008_CV005_RV9039288_0']:\n",
    "        return('2')\n",
    "    \n",
    "    elif curr_souporcell_assignment in ['35008_CV005_RV9039258_and_35008_CV005_RV9039282_2',\n",
    "                                        '35008_CV005_RV9039260_and_35008_CV005_RV9039284_2',\n",
    "                                        '35008_CV005_RV9039262_and_35008_CV005_RV9039286_4',\n",
    "                                        '35008_CV005_RV9039265_and_35008_CV005_RV9039289_2']:\n",
    "        return('3')\n",
    "    \n",
    "    elif curr_souporcell_assignment in ['35008_CV005_RV9039258_and_35008_CV005_RV9039282_3',\n",
    "                                        '35008_CV005_RV9039260_and_35008_CV005_RV9039284_0',\n",
    "                                        '35008_CV005_RV9039262_and_35008_CV005_RV9039286_3',\n",
    "                                        '35008_CV005_RV9039264_and_35008_CV005_RV9039288_4']:\n",
    "        return('4')\n",
    "    \n",
    "    elif curr_souporcell_assignment in ['35008_CV005_RV9039258_and_35008_CV005_RV9039282_4',\n",
    "                                        '35008_CV005_RV9039260_and_35008_CV005_RV9039284_5',\n",
    "                                        '35008_CV005_RV9039262_and_35008_CV005_RV9039286_5',\n",
    "                                        '35008_CV005_RV9039265_and_35008_CV005_RV9039289_1']:\n",
    "        return('5')\n",
    "    \n",
    "    elif curr_souporcell_assignment in ['35008_CV005_RV9039258_and_35008_CV005_RV9039282_5',\n",
    "                                        '35008_CV005_RV9039260_and_35008_CV005_RV9039284_4',\n",
    "                                        '35008_CV005_RV9039262_and_35008_CV005_RV9039286_1',\n",
    "                                        ]:\n",
    "        return('6')\n",
    "    \n",
    "    elif curr_souporcell_assignment in ['35008_CV005_RV9039259_and_35008_CV005_RV9039283_0',\n",
    "                                        '35008_CV005_RV9039261_and_35008_CV005_RV9039285_5',\n",
    "                                        '35008_CV005_RV9039263_and_35008_CV005_RV9039287_5',\n",
    "                                        '35008_CV005_RV9039264_and_35008_CV005_RV9039288_1']:\n",
    "        return('7')\n",
    "    \n",
    "    elif curr_souporcell_assignment in ['35008_CV005_RV9039259_and_35008_CV005_RV9039283_1',\n",
    "                                        '35008_CV005_RV9039261_and_35008_CV005_RV9039285_2',\n",
    "                                        '35008_CV005_RV9039263_and_35008_CV005_RV9039287_0',\n",
    "                                        '35008_CV005_RV9039264_and_35008_CV005_RV9039288_5']:\n",
    "        return('8')\n",
    "    \n",
    "    elif curr_souporcell_assignment in ['35008_CV005_RV9039259_and_35008_CV005_RV9039283_2',\n",
    "                                        '35008_CV005_RV9039261_and_35008_CV005_RV9039285_3',\n",
    "                                        '35008_CV005_RV9039263_and_35008_CV005_RV9039287_2',\n",
    "                                        '35008_CV005_RV9039265_and_35008_CV005_RV9039289_4']:\n",
    "        return('9')\n",
    "    \n",
    "    elif curr_souporcell_assignment in ['35008_CV005_RV9039259_and_35008_CV005_RV9039283_3',\n",
    "                                        '35008_CV005_RV9039261_and_35008_CV005_RV9039285_0',\n",
    "                                        '35008_CV005_RV9039263_and_35008_CV005_RV9039287_3',\n",
    "                                        '35008_CV005_RV9039265_and_35008_CV005_RV9039289_5']:\n",
    "        return('10')\n",
    "    \n",
    "    elif curr_souporcell_assignment in ['35008_CV005_RV9039259_and_35008_CV005_RV9039283_4',\n",
    "                                        '35008_CV005_RV9039261_and_35008_CV005_RV9039285_1',\n",
    "                                        '35008_CV005_RV9039263_and_35008_CV005_RV9039287_4',\n",
    "                                        '35008_CV005_RV9039265_and_35008_CV005_RV9039289_3']:\n",
    "        return('11')\n",
    "    \n",
    "    elif curr_souporcell_assignment in ['35008_CV005_RV9039259_and_35008_CV005_RV9039283_5',\n",
    "                                        '35008_CV005_RV9039261_and_35008_CV005_RV9039285_4',\n",
    "                                        '35008_CV005_RV9039263_and_35008_CV005_RV9039287_1',\n",
    "                                        '35008_CV005_RV9039264_and_35008_CV005_RV9039288_3']:\n",
    "        return('12')\n",
    "    \n",
    "    elif curr_souporcell_assignment in ['35008_CV005_RV9039264_and_35008_CV005_RV9039288_2']:\n",
    "        return('13')\n",
    "    \n",
    "    elif curr_souporcell_assignment in ['35171_CV005_RV9039361_0',\n",
    "                                       '35171_CV005_RV9039362_2',\n",
    "                                       '35171_CV005_RV9039363_6',\n",
    "                                       '35171_CV005_RV9039364_3']:\n",
    "        return('14')\n",
    "    elif curr_souporcell_assignment in ['35171_CV005_RV9039361_1',\n",
    "                                       '35171_CV005_RV9039362_7',\n",
    "                                       '35171_CV005_RV9039363_4',\n",
    "                                       '35171_CV005_RV9039364_0']:\n",
    "        return('15')\n",
    "    elif curr_souporcell_assignment in ['35171_CV005_RV9039361_2',\n",
    "                                       '35171_CV005_RV9039362_3',\n",
    "                                       '35171_CV005_RV9039363_7',\n",
    "                                       '35171_CV005_RV9039364_1']:\n",
    "        return('16')\n",
    "    elif curr_souporcell_assignment in ['35171_CV005_RV9039361_3',\n",
    "                                       '35171_CV005_RV9039362_1',\n",
    "                                       '35171_CV005_RV9039363_2',\n",
    "                                       '35171_CV005_RV9039364_7']:\n",
    "        return('17')\n",
    "    elif curr_souporcell_assignment in ['35171_CV005_RV9039361_4',\n",
    "                                       '35171_CV005_RV9039362_4',\n",
    "                                       '35171_CV005_RV9039363_1',\n",
    "                                       '35171_CV005_RV9039364_5']:\n",
    "        return('18')\n",
    "    elif curr_souporcell_assignment in ['35171_CV005_RV9039361_5',\n",
    "                                       '35171_CV005_RV9039362_5',\n",
    "                                       '35171_CV005_RV9039363_5',\n",
    "                                       '35171_CV005_RV9039364_4']:\n",
    "        return('19')\n",
    "    elif curr_souporcell_assignment in ['35171_CV005_RV9039361_6',\n",
    "                                       '35171_CV005_RV9039362_0',\n",
    "                                       '35171_CV005_RV9039363_3',\n",
    "                                       '35171_CV005_RV9039364_2']:\n",
    "        return('20')\n",
    "    elif curr_souporcell_assignment in ['35171_CV005_RV9039361_7',\n",
    "                                       '35171_CV005_RV9039362_6',\n",
    "                                       '35171_CV005_RV9039363_0',\n",
    "                                       '35171_CV005_RV9039364_6']:\n",
    "        return('21')\n",
    "    \n",
    "    else:\n",
    "        #print('in exception, curr_souporcell_assignment is', curr_souporcell_assignment)\n",
    "        return('not_assigned')\n",
    "    \n",
    "\n",
    "    "
   ]
  },
  {
   "cell_type": "code",
   "execution_count": 66,
   "metadata": {},
   "outputs": [],
   "source": [
    "adata.obs['donor_ID_temp'] = adata.obs['barcode'].apply(lambda x: annot_temp_donor_ID(adata, x))"
   ]
  },
  {
   "cell_type": "code",
   "execution_count": 68,
   "metadata": {},
   "outputs": [
    {
     "data": {
      "text/plain": [
       "(array(['1', '10', '11', '12', '14', '15', '16', '17', '18', '19', '2',\n",
       "        '20', '21', '3', '4', '5', '6', '7', '8', '9'], dtype=object),\n",
       " array([ 6093,  5221,  6135,  5447,  5659,  5365,  5554,  5699,  6206,\n",
       "         5264,  5391,  7113, 11247,  7514,  4576,  6336,  4883,  6867,\n",
       "         6623,  5035]))"
      ]
     },
     "execution_count": 68,
     "metadata": {},
     "output_type": "execute_result"
    }
   ],
   "source": [
    "np.unique(adata.obs['donor_ID_temp'], return_counts=True)"
   ]
  },
  {
   "cell_type": "markdown",
   "metadata": {},
   "source": [
    "### here there is no donor 13 (temp ID) because it was only present in BCR sample (35008_CV005_RV9039264_and_35008_CV005_RV9039288)\n",
    "\n",
    "So it was previously 21 donors, wihtout BCR activation it's now 20, without twins will be 18"
   ]
  },
  {
   "cell_type": "markdown",
   "metadata": {},
   "source": [
    "# Going from temporary donor IDs to actual donor labels"
   ]
  },
  {
   "cell_type": "markdown",
   "metadata": {},
   "source": [
    "# Adding final donor IDs from souporcell + deconvoluted values (by Eduardo from VCFs)"
   ]
  },
  {
   "cell_type": "code",
   "execution_count": 69,
   "metadata": {},
   "outputs": [
    {
     "data": {
      "text/plain": [
       "AAACCTGAGAATGTGT-1        AAACCTGAGAATGTGT-1\n",
       "AAACCTGAGACTAAGT-1        AAACCTGAGACTAAGT-1\n",
       "AAACCTGAGCCGCCTA-1        AAACCTGAGCCGCCTA-1\n",
       "AAACCTGAGCGCCTCA-1        AAACCTGAGCGCCTCA-1\n",
       "AAACCTGAGGATGTAT-1        AAACCTGAGGATGTAT-1\n",
       "                                ...         \n",
       "TTTGTCATCCCTTGCA-1-1    TTTGTCATCCCTTGCA-1-1\n",
       "TTTGTCATCCGCGTTT-1        TTTGTCATCCGCGTTT-1\n",
       "TTTGTCATCGGAGGTA-1        TTTGTCATCGGAGGTA-1\n",
       "TTTGTCATCGGCTACG-1-1    TTTGTCATCGGCTACG-1-1\n",
       "TTTGTCATCTTGGGTA-1        TTTGTCATCTTGGGTA-1\n",
       "Name: barcode, Length: 122228, dtype: object"
      ]
     },
     "execution_count": 69,
     "metadata": {},
     "output_type": "execute_result"
    }
   ],
   "source": [
    "adata.obs['barcode']"
   ]
  },
  {
   "cell_type": "code",
   "execution_count": 70,
   "metadata": {},
   "outputs": [],
   "source": [
    "def add_final_donor_labels(adata_obj, barcode):\n",
    "    \n",
    "    curr_temp_donor_ID = adata_obj.obs.loc[barcode, 'donor_ID_temp']\n",
    "    \n",
    "    if curr_temp_donor_ID == '1':\n",
    "        return('CVID33')\n",
    "    elif curr_temp_donor_ID == '2':\n",
    "        return('CVID34')\n",
    "    elif curr_temp_donor_ID == '3':\n",
    "        return('CVID3')\n",
    "    elif curr_temp_donor_ID == '4':\n",
    "        return('CONTROL_twin')\n",
    "    elif curr_temp_donor_ID == '5':\n",
    "        return('CONTROL6')\n",
    "    elif curr_temp_donor_ID == '6':\n",
    "        return('CONTROL4')\n",
    "    elif curr_temp_donor_ID == '7':\n",
    "        return('CVID18')\n",
    "    elif curr_temp_donor_ID == '8':\n",
    "        return('CVID29')\n",
    "    elif curr_temp_donor_ID == '9':\n",
    "        return('CVID_twin')\n",
    "    elif curr_temp_donor_ID == '10':\n",
    "        return('CONTROL3')\n",
    "    elif curr_temp_donor_ID == '11':\n",
    "        return('CONTROL5')\n",
    "    elif curr_temp_donor_ID == '12':\n",
    "        return('CONTROL2')\n",
    "    elif curr_temp_donor_ID == '13':\n",
    "        return('CONTROL1')\n",
    "    elif curr_temp_donor_ID == '14':\n",
    "        return('CVID1')\n",
    "    elif curr_temp_donor_ID == '15':\n",
    "        return('CONTROL9')\n",
    "    elif curr_temp_donor_ID == '16':\n",
    "        return('CONTROL7')\n",
    "    elif curr_temp_donor_ID == '17':\n",
    "        return('CVID36')\n",
    "    elif curr_temp_donor_ID == '18':\n",
    "        return('CVID37')\n",
    "    elif curr_temp_donor_ID == '19':\n",
    "        return('CONTROL8')\n",
    "    elif curr_temp_donor_ID == '20':\n",
    "        return('CVID23')\n",
    "    elif curr_temp_donor_ID == '21':\n",
    "        return('CVID25')\n",
    "    \n",
    "    else:\n",
    "        return('none')"
   ]
  },
  {
   "cell_type": "code",
   "execution_count": 71,
   "metadata": {},
   "outputs": [],
   "source": [
    "adata.obs['donor'] = adata.obs['barcode'].apply(lambda x: add_final_donor_labels(adata, x))"
   ]
  },
  {
   "cell_type": "code",
   "execution_count": 72,
   "metadata": {},
   "outputs": [
    {
     "data": {
      "text/plain": [
       "array(['CONTROL2', 'CONTROL3', 'CONTROL4', 'CONTROL5', 'CONTROL6',\n",
       "       'CONTROL7', 'CONTROL8', 'CONTROL9', 'CONTROL_twin', 'CVID1',\n",
       "       'CVID18', 'CVID23', 'CVID25', 'CVID29', 'CVID3', 'CVID33',\n",
       "       'CVID34', 'CVID36', 'CVID37', 'CVID_twin'], dtype=object)"
      ]
     },
     "execution_count": 72,
     "metadata": {},
     "output_type": "execute_result"
    }
   ],
   "source": [
    "np.unique(adata.obs['donor'])"
   ]
  },
  {
   "cell_type": "code",
   "execution_count": 74,
   "metadata": {},
   "outputs": [
    {
     "data": {
      "text/plain": [
       "20"
      ]
     },
     "execution_count": 74,
     "metadata": {},
     "output_type": "execute_result"
    }
   ],
   "source": [
    "len(np.unique(adata.obs['donor']))"
   ]
  },
  {
   "cell_type": "code",
   "execution_count": 75,
   "metadata": {},
   "outputs": [],
   "source": [
    "# discarting cells that are from twins\n",
    "adata = adata[adata.obs['donor'].isin(['CONTROL2', 'CONTROL3', 'CONTROL4', 'CONTROL5', 'CONTROL6',\n",
    "       'CONTROL7', 'CONTROL8', 'CONTROL9', 'CVID1',\n",
    "       'CVID18', 'CVID23', 'CVID25', 'CVID29', 'CVID3', 'CVID33',\n",
    "       'CVID34', 'CVID36', 'CVID37'])].copy()"
   ]
  },
  {
   "cell_type": "code",
   "execution_count": 76,
   "metadata": {},
   "outputs": [
    {
     "data": {
      "text/plain": [
       "AnnData object with n_obs × n_vars = 112617 × 33886 \n",
       "    obs: 'batch', 'cell_id', 'dataset', 'n_counts', 'percent_mito', 'sample', 'stimulation', 'technique', 'barcode', 'souporcell_assignment', 'inter_ind_doublet', 'donor_ID_temp', 'donor'\n",
       "    var: 'gene_ids-0', 'feature_types-0', 'genome-0', 'gene_ids-1', 'feature_types-1', 'genome-1', 'gene_ids-2', 'feature_types-2', 'genome-2', 'gene_ids-3', 'feature_types-3', 'genome-3', 'gene_ids-4', 'feature_types-4', 'genome-4', 'gene_ids-5', 'feature_types-5', 'genome-5', 'gene_ids-6', 'feature_types-6', 'genome-6', 'gene_ids-7', 'feature_types-7', 'genome-7', 'gene_ids-8', 'feature_types-8', 'genome-8'"
      ]
     },
     "execution_count": 76,
     "metadata": {},
     "output_type": "execute_result"
    }
   ],
   "source": [
    "adata"
   ]
  },
  {
   "cell_type": "code",
   "execution_count": 80,
   "metadata": {},
   "outputs": [
    {
     "data": {
      "text/html": [
       "<div>\n",
       "<style scoped>\n",
       "    .dataframe tbody tr th:only-of-type {\n",
       "        vertical-align: middle;\n",
       "    }\n",
       "\n",
       "    .dataframe tbody tr th {\n",
       "        vertical-align: top;\n",
       "    }\n",
       "\n",
       "    .dataframe thead th {\n",
       "        text-align: right;\n",
       "    }\n",
       "</style>\n",
       "<table border=\"1\" class=\"dataframe\">\n",
       "  <thead>\n",
       "    <tr style=\"text-align: right;\">\n",
       "      <th></th>\n",
       "      <th>cell_id</th>\n",
       "      <th>donor</th>\n",
       "    </tr>\n",
       "  </thead>\n",
       "  <tbody>\n",
       "    <tr>\n",
       "      <th>AAACCTGAGAATGTGT-1</th>\n",
       "      <td>AAACCTGAGAATGTGT-1_35008_CV005_RV9039258_and_3...</td>\n",
       "      <td>CVID3</td>\n",
       "    </tr>\n",
       "    <tr>\n",
       "      <th>AAACCTGAGACTAAGT-1</th>\n",
       "      <td>AAACCTGAGACTAAGT-1_35008_CV005_RV9039258_and_3...</td>\n",
       "      <td>CONTROL4</td>\n",
       "    </tr>\n",
       "    <tr>\n",
       "      <th>AAACCTGAGCCGCCTA-1</th>\n",
       "      <td>AAACCTGAGCCGCCTA-1_35008_CV005_RV9039258_and_3...</td>\n",
       "      <td>CVID3</td>\n",
       "    </tr>\n",
       "    <tr>\n",
       "      <th>AAACCTGAGCGCCTCA-1</th>\n",
       "      <td>AAACCTGAGCGCCTCA-1_35008_CV005_RV9039258_and_3...</td>\n",
       "      <td>CVID33</td>\n",
       "    </tr>\n",
       "    <tr>\n",
       "      <th>AAACCTGAGGATGTAT-1</th>\n",
       "      <td>AAACCTGAGGATGTAT-1_35008_CV005_RV9039258_and_3...</td>\n",
       "      <td>CVID3</td>\n",
       "    </tr>\n",
       "    <tr>\n",
       "      <th>...</th>\n",
       "      <td>...</td>\n",
       "      <td>...</td>\n",
       "    </tr>\n",
       "    <tr>\n",
       "      <th>TTTGTCATCCCTTGCA-1-1</th>\n",
       "      <td>TTTGTCATCCCTTGCA-1_35171_CV005_RV9039363</td>\n",
       "      <td>CVID25</td>\n",
       "    </tr>\n",
       "    <tr>\n",
       "      <th>TTTGTCATCCGCGTTT-1</th>\n",
       "      <td>TTTGTCATCCGCGTTT-1_35171_CV005_RV9039363</td>\n",
       "      <td>CVID23</td>\n",
       "    </tr>\n",
       "    <tr>\n",
       "      <th>TTTGTCATCGGAGGTA-1</th>\n",
       "      <td>TTTGTCATCGGAGGTA-1_35171_CV005_RV9039363</td>\n",
       "      <td>CVID25</td>\n",
       "    </tr>\n",
       "    <tr>\n",
       "      <th>TTTGTCATCGGCTACG-1-1</th>\n",
       "      <td>TTTGTCATCGGCTACG-1_35171_CV005_RV9039363</td>\n",
       "      <td>CVID25</td>\n",
       "    </tr>\n",
       "    <tr>\n",
       "      <th>TTTGTCATCTTGGGTA-1</th>\n",
       "      <td>TTTGTCATCTTGGGTA-1_35171_CV005_RV9039363</td>\n",
       "      <td>CVID25</td>\n",
       "    </tr>\n",
       "  </tbody>\n",
       "</table>\n",
       "<p>112617 rows × 2 columns</p>\n",
       "</div>"
      ],
      "text/plain": [
       "                                                                cell_id  \\\n",
       "AAACCTGAGAATGTGT-1    AAACCTGAGAATGTGT-1_35008_CV005_RV9039258_and_3...   \n",
       "AAACCTGAGACTAAGT-1    AAACCTGAGACTAAGT-1_35008_CV005_RV9039258_and_3...   \n",
       "AAACCTGAGCCGCCTA-1    AAACCTGAGCCGCCTA-1_35008_CV005_RV9039258_and_3...   \n",
       "AAACCTGAGCGCCTCA-1    AAACCTGAGCGCCTCA-1_35008_CV005_RV9039258_and_3...   \n",
       "AAACCTGAGGATGTAT-1    AAACCTGAGGATGTAT-1_35008_CV005_RV9039258_and_3...   \n",
       "...                                                                 ...   \n",
       "TTTGTCATCCCTTGCA-1-1           TTTGTCATCCCTTGCA-1_35171_CV005_RV9039363   \n",
       "TTTGTCATCCGCGTTT-1             TTTGTCATCCGCGTTT-1_35171_CV005_RV9039363   \n",
       "TTTGTCATCGGAGGTA-1             TTTGTCATCGGAGGTA-1_35171_CV005_RV9039363   \n",
       "TTTGTCATCGGCTACG-1-1           TTTGTCATCGGCTACG-1_35171_CV005_RV9039363   \n",
       "TTTGTCATCTTGGGTA-1             TTTGTCATCTTGGGTA-1_35171_CV005_RV9039363   \n",
       "\n",
       "                         donor  \n",
       "AAACCTGAGAATGTGT-1       CVID3  \n",
       "AAACCTGAGACTAAGT-1    CONTROL4  \n",
       "AAACCTGAGCCGCCTA-1       CVID3  \n",
       "AAACCTGAGCGCCTCA-1      CVID33  \n",
       "AAACCTGAGGATGTAT-1       CVID3  \n",
       "...                        ...  \n",
       "TTTGTCATCCCTTGCA-1-1    CVID25  \n",
       "TTTGTCATCCGCGTTT-1      CVID23  \n",
       "TTTGTCATCGGAGGTA-1      CVID25  \n",
       "TTTGTCATCGGCTACG-1-1    CVID25  \n",
       "TTTGTCATCTTGGGTA-1      CVID25  \n",
       "\n",
       "[112617 rows x 2 columns]"
      ]
     },
     "execution_count": 80,
     "metadata": {},
     "output_type": "execute_result"
    }
   ],
   "source": [
    "adata.obs.loc[:,['cell_id','donor']]"
   ]
  },
  {
   "cell_type": "code",
   "execution_count": 79,
   "metadata": {},
   "outputs": [],
   "source": [
    "# from here we need cells that we are takiing and their donor assignment\n",
    "adata.obs.loc[:,['cell_id','donor']].to_csv(save_path + 'meta_cells_for_reanalysis_without_twins_without_BCR_activation_without_souporcell_doublets.csv')"
   ]
  },
  {
   "cell_type": "code",
   "execution_count": null,
   "metadata": {},
   "outputs": [],
   "source": []
  },
  {
   "cell_type": "markdown",
   "metadata": {},
   "source": [
    "# QC, cutoff decisions and reading again"
   ]
  },
  {
   "cell_type": "code",
   "execution_count": 81,
   "metadata": {},
   "outputs": [],
   "source": [
    "# Quality control - calculate QC covariates\n",
    "adata.obs['n_counts'] = adata.X.sum(1)\n",
    "adata.obs['log_counts'] = np.log(adata.obs['n_counts'])\n",
    "adata.obs['n_genes'] = (adata.X > 0).sum(1)  "
   ]
  },
  {
   "cell_type": "code",
   "execution_count": 82,
   "metadata": {},
   "outputs": [
    {
     "data": {
      "text/plain": [
       "1446.0"
      ]
     },
     "execution_count": 82,
     "metadata": {},
     "output_type": "execute_result"
    }
   ],
   "source": [
    "# median of dtected genes\n",
    "np.median(adata.obs['n_genes'])"
   ]
  },
  {
   "cell_type": "code",
   "execution_count": 83,
   "metadata": {},
   "outputs": [
    {
     "name": "stderr",
     "output_type": "stream",
     "text": [
      "... storing 'dataset' as categorical\n",
      "... storing 'sample' as categorical\n",
      "... storing 'stimulation' as categorical\n",
      "... storing 'technique' as categorical\n",
      "... storing 'souporcell_assignment' as categorical\n",
      "... storing 'donor_ID_temp' as categorical\n",
      "... storing 'donor' as categorical\n",
      "... storing 'feature_types-0' as categorical\n",
      "... storing 'genome-0' as categorical\n",
      "... storing 'feature_types-1' as categorical\n",
      "... storing 'genome-1' as categorical\n",
      "... storing 'feature_types-2' as categorical\n",
      "... storing 'genome-2' as categorical\n",
      "... storing 'feature_types-3' as categorical\n",
      "... storing 'genome-3' as categorical\n",
      "... storing 'feature_types-4' as categorical\n",
      "... storing 'genome-4' as categorical\n",
      "... storing 'feature_types-5' as categorical\n",
      "... storing 'genome-5' as categorical\n",
      "... storing 'feature_types-6' as categorical\n",
      "... storing 'genome-6' as categorical\n",
      "... storing 'feature_types-7' as categorical\n",
      "... storing 'genome-7' as categorical\n",
      "... storing 'feature_types-8' as categorical\n",
      "... storing 'genome-8' as categorical\n"
     ]
    },
    {
     "data": {
      "image/png": "[encoded data removed]",
      "text/plain": [
       "<Figure size 361x320 with 2 Axes>"
      ]
     },
     "metadata": {
      "image/png": {
       "height": 318,
       "width": 347
      },
      "needs_background": "light"
     },
     "output_type": "display_data"
    },
    {
     "data": {
      "image/png": "[encoded data removed]",
      "text/plain": [
       "<Figure size 361x320 with 2 Axes>"
      ]
     },
     "metadata": {
      "image/png": {
       "height": 318,
       "width": 347
      },
      "needs_background": "light"
     },
     "output_type": "display_data"
    }
   ],
   "source": [
    "#Data quality summary plots\n",
    "p1 = sc.pl.scatter(adata, 'n_counts', 'n_genes', color='percent_mito')\n",
    "p2 = sc.pl.scatter(adata[adata.obs['n_counts']<10000], 'n_counts', 'n_genes', color='percent_mito')\n"
   ]
  },
  {
   "cell_type": "code",
   "execution_count": 84,
   "metadata": {},
   "outputs": [
    {
     "data": {
      "image/png": "[encoded data removed]",
      "text/plain": [
       "<Figure size 320x320 with 1 Axes>"
      ]
     },
     "metadata": {
      "image/png": {
       "height": 302,
       "width": 324
      },
      "needs_background": "light"
     },
     "output_type": "display_data"
    }
   ],
   "source": [
    "p3 = sns.distplot(adata.obs['percent_mito'], kde=False)\n",
    "plt.show()"
   ]
  },
  {
   "cell_type": "code",
   "execution_count": 85,
   "metadata": {},
   "outputs": [
    {
     "data": {
      "text/plain": [
       "0.015571030229330063"
      ]
     },
     "execution_count": 85,
     "metadata": {},
     "output_type": "execute_result"
    }
   ],
   "source": [
    "np.percentile(list(adata.obs['percent_mito']),20)"
   ]
  },
  {
   "cell_type": "code",
   "execution_count": 86,
   "metadata": {},
   "outputs": [
    {
     "data": {
      "text/plain": [
       "153"
      ]
     },
     "execution_count": 86,
     "metadata": {},
     "output_type": "execute_result"
    }
   ],
   "source": [
    "len(adata[adata.obs['percent_mito'] > 0.2])"
   ]
  },
  {
   "cell_type": "code",
   "execution_count": 87,
   "metadata": {},
   "outputs": [
    {
     "data": {
      "text/plain": [
       "0.0013585870694477742"
      ]
     },
     "execution_count": 87,
     "metadata": {},
     "output_type": "execute_result"
    }
   ],
   "source": [
    "len(adata[adata.obs['percent_mito'] > 0.2])/len(adata.obs)"
   ]
  },
  {
   "cell_type": "code",
   "execution_count": 88,
   "metadata": {},
   "outputs": [
    {
     "data": {
      "image/png": "[encoded data removed]",
      "text/plain": [
       "<Figure size 320x320 with 1 Axes>"
      ]
     },
     "metadata": {
      "image/png": {
       "height": 302,
       "width": 324
      },
      "needs_background": "light"
     },
     "output_type": "display_data"
    },
    {
     "data": {
      "image/png": "[encoded data removed]",
      "text/plain": [
       "<Figure size 320x320 with 1 Axes>"
      ]
     },
     "metadata": {
      "image/png": {
       "height": 302,
       "width": 321
      },
      "needs_background": "light"
     },
     "output_type": "display_data"
    },
    {
     "data": {
      "image/png": "[encoded data removed]",
      "text/plain": [
       "<Figure size 320x320 with 1 Axes>"
      ]
     },
     "metadata": {
      "image/png": {
       "height": 302,
       "width": 314
      },
      "needs_background": "light"
     },
     "output_type": "display_data"
    }
   ],
   "source": [
    "# Thresholding decision: counts\n",
    "p3 = sns.distplot(adata.obs['n_counts'], kde=False)\n",
    "plt.show()\n",
    "\n",
    "p4 = sns.distplot(adata.obs['n_counts'][adata.obs['n_counts']<4000], kde=False, bins=60)\n",
    "plt.show()\n",
    "\n",
    "p5 = sns.distplot(adata.obs['n_counts'][adata.obs['n_counts']>10000], kde=False, bins=60)\n",
    "plt.show()\n"
   ]
  },
  {
   "cell_type": "code",
   "execution_count": 89,
   "metadata": {},
   "outputs": [
    {
     "data": {
      "image/png": "[encoded data removed]",
      "text/plain": [
       "<Figure size 320x320 with 1 Axes>"
      ]
     },
     "metadata": {
      "image/png": {
       "height": 302,
       "width": 333
      },
      "needs_background": "light"
     },
     "output_type": "display_data"
    },
    {
     "data": {
      "image/png": "[encoded data removed]",
      "text/plain": [
       "<Figure size 320x320 with 1 Axes>"
      ]
     },
     "metadata": {
      "image/png": {
       "height": 302,
       "width": 321
      },
      "needs_background": "light"
     },
     "output_type": "display_data"
    }
   ],
   "source": [
    "# Thresholding decision: genes\n",
    "p6 = sns.distplot(adata.obs['n_genes'], kde=False, bins=60)\n",
    "plt.show()\n",
    "\n",
    "p7 = sns.distplot(adata.obs['n_genes'][adata.obs['n_genes']<1000], kde=False, bins=60)\n",
    "plt.show()"
   ]
  },
  {
   "cell_type": "markdown",
   "metadata": {},
   "source": [
    "**Desicion**: gene cutoff: min_genes=200, min_cells=3, going back up to reread and filter there"
   ]
  },
  {
   "cell_type": "code",
   "execution_count": 92,
   "metadata": {},
   "outputs": [
    {
     "data": {
      "text/plain": [
       "array(['35008_CV005_RV9039258_and_35008_CV005_RV9039282',\n",
       "       '35008_CV005_RV9039259_and_35008_CV005_RV9039283',\n",
       "       '35008_CV005_RV9039260_and_35008_CV005_RV9039284',\n",
       "       '35008_CV005_RV9039261_and_35008_CV005_RV9039285',\n",
       "       '35008_CV005_RV9039262_and_35008_CV005_RV9039286',\n",
       "       '35008_CV005_RV9039263_and_35008_CV005_RV9039287',\n",
       "       '35171_CV005_RV9039361', '35171_CV005_RV9039362',\n",
       "       '35171_CV005_RV9039363'], dtype=object)"
      ]
     },
     "execution_count": 92,
     "metadata": {},
     "output_type": "execute_result"
    }
   ],
   "source": [
    "np.unique(adata.obs['sample'])"
   ]
  },
  {
   "cell_type": "code",
   "execution_count": 93,
   "metadata": {},
   "outputs": [
    {
     "data": {
      "text/plain": [
       "matrix([[    0.,     0.,     0., ..., 31715., 32580., 35153.]],\n",
       "       dtype=float32)"
      ]
     },
     "execution_count": 93,
     "metadata": {},
     "output_type": "execute_result"
    }
   ],
   "source": [
    "# quick check if the values are raw\n",
    "check = adata[adata.obs['sample'] == '35008_CV005_RV9039258_and_35008_CV005_RV9039282'].X.todense()\n",
    "np.unique(check)"
   ]
  },
  {
   "cell_type": "code",
   "execution_count": null,
   "metadata": {},
   "outputs": [],
   "source": []
  },
  {
   "cell_type": "markdown",
   "metadata": {},
   "source": [
    "This is happening in the cell below:\n",
    "- read the raw file (output of cellranger)\n",
    "- call doublets according to bertie doublet caller and adding all the scores\n",
    "- Filter: 1) cells (< 500 genes); 2) genes (< 3 cells); \n",
    "- Add %mt genes\n",
    "- Add relevant annotation info"
   ]
  },
  {
   "cell_type": "code",
   "execution_count": 108,
   "metadata": {
    "collapsed": true,
    "jupyter": {
     "outputs_hidden": true
    }
   },
   "outputs": [
    {
     "name": "stdout",
     "output_type": "stream",
     "text": [
      "sample 35008_CV005_RV9039258_and_35008_CV005_RV9039282 from scRNA-seq samples 1 out of 9\n",
      "reading /lustre/scratch117/cellgen/team292/aa22/data/202009_CVID_revision/cellranger302_count_35008_CV005_RV9039258_and_35008_CV005_RV9039282_GRCh38-1_2_0/filtered_feature_bc_matrix.h5\n"
     ]
    },
    {
     "name": "stderr",
     "output_type": "stream",
     "text": [
      "Variable names are not unique. To make them unique, call `.var_names_make_unique`.\n"
     ]
    },
    {
     "name": "stdout",
     "output_type": "stream",
     "text": [
      " (0:00:00)\n",
      "filtered out 16440 genes that are detectedin less than 3 cells\n",
      "going on to call doublets (write doublet scores into tables) with bertie\n",
      "normalizing by total count per cell\n",
      "    finished (0:00:00): normalized adata.X and added    'n_counts', counts per cell before normalization (adata.obs)\n",
      "extracting highly variable genes\n",
      "    finished (0:00:01)\n",
      "--> added\n",
      "    'highly_variable', boolean vector (adata.var)\n",
      "    'means', float vector (adata.var)\n",
      "    'dispersions', float vector (adata.var)\n",
      "    'dispersions_norm', float vector (adata.var)\n",
      "computing PCA with n_comps = 50\n",
      "computing PCA on highly variable genes\n",
      "    finished (0:00:04)\n",
      "computing neighbors\n",
      "    using 'X_pca' with n_pcs = 50\n"
     ]
    },
    {
     "name": "stderr",
     "output_type": "stream",
     "text": [
      "/opt/conda/lib/python3.7/site-packages/numba/typed_passes.py:271: NumbaPerformanceWarning: \n",
      "The keyword argument 'parallel=True' was specified but no transformation for parallel execution was possible.\n",
      "\n",
      "To find out why, try turning on parallel diagnostics, see http://numba.pydata.org/numba-doc/latest/user/parallel.html#diagnostics for help.\n",
      "\n",
      "File \"../../../../../../../../../opt/conda/lib/python3.7/site-packages/umap/rp_tree.py\", line 135:\n",
      "@numba.njit(fastmath=True, nogil=True, parallel=True)\n",
      "def euclidean_random_projection_split(data, indices, rng_state):\n",
      "^\n",
      "\n",
      "  state.func_ir.loc))\n",
      "/opt/conda/lib/python3.7/site-packages/umap/nndescent.py:92: NumbaPerformanceWarning: \n",
      "The keyword argument 'parallel=True' was specified but no transformation for parallel execution was possible.\n",
      "\n",
      "To find out why, try turning on parallel diagnostics, see http://numba.pydata.org/numba-doc/latest/user/parallel.html#diagnostics for help.\n",
      "\n",
      "File \"../../../../../../../../../opt/conda/lib/python3.7/site-packages/umap/utils.py\", line 409:\n",
      "@numba.njit(parallel=True)\n",
      "def build_candidates(current_graph, n_vertices, n_neighbors, max_candidates, rng_state):\n",
      "^\n",
      "\n",
      "  current_graph, n_vertices, n_neighbors, max_candidates, rng_state\n",
      "/opt/conda/lib/python3.7/site-packages/numba/typed_passes.py:271: NumbaPerformanceWarning: \n",
      "The keyword argument 'parallel=True' was specified but no transformation for parallel execution was possible.\n",
      "\n",
      "To find out why, try turning on parallel diagnostics, see http://numba.pydata.org/numba-doc/latest/user/parallel.html#diagnostics for help.\n",
      "\n",
      "File \"../../../../../../../../../opt/conda/lib/python3.7/site-packages/umap/nndescent.py\", line 47:\n",
      "    @numba.njit(parallel=True)\n",
      "    def nn_descent(\n",
      "    ^\n",
      "\n",
      "  state.func_ir.loc))\n"
     ]
    },
    {
     "name": "stdout",
     "output_type": "stream",
     "text": [
      "    finished: added to `.uns['neighbors']`\n",
      "    'distances', distances for each pair of neighbors\n",
      "    'connectivities', weighted adjacency matrix (0:00:08)\n",
      "running Louvain clustering\n",
      "    using the \"louvain\" package of Traag (2017)\n",
      "    finished: found 13 clusters and added\n",
      "    'louvain', the cluster labels (adata.obs, categorical) (0:00:01)\n",
      "running Louvain clustering\n",
      "    using the \"louvain\" package of Traag (2017)\n",
      "    finished: found 21 clusters and added\n",
      "    'louvain_R', the cluster labels (adata.obs, categorical) (0:00:00)\n",
      "running Louvain clustering\n",
      "    using the \"louvain\" package of Traag (2017)\n",
      "    finished: found 27 clusters and added\n",
      "    'louvain_R', the cluster labels (adata.obs, categorical) (0:00:00)\n",
      "running Louvain clustering\n",
      "    using the \"louvain\" package of Traag (2017)\n",
      "    finished: found 30 clusters and added\n",
      "    'louvain_R', the cluster labels (adata.obs, categorical) (0:00:00)\n",
      "running Louvain clustering\n",
      "    using the \"louvain\" package of Traag (2017)\n",
      "    finished: found 34 clusters and added\n",
      "    'louvain_R', the cluster labels (adata.obs, categorical) (0:00:00)\n",
      "running Louvain clustering\n",
      "    using the \"louvain\" package of Traag (2017)\n",
      "    finished: found 36 clusters and added\n",
      "    'louvain_R', the cluster labels (adata.obs, categorical) (0:00:00)\n",
      "running Louvain clustering\n",
      "    using the \"louvain\" package of Traag (2017)\n",
      "    finished: found 42 clusters and added\n",
      "    'louvain_R', the cluster labels (adata.obs, categorical) (0:00:00)\n",
      "running Louvain clustering\n",
      "    using the \"louvain\" package of Traag (2017)\n",
      "    finished: found 50 clusters and added\n",
      "    'louvain_R', the cluster labels (adata.obs, categorical) (0:00:00)\n",
      "running Louvain clustering\n",
      "    using the \"louvain\" package of Traag (2017)\n",
      "    finished: found 57 clusters and added\n",
      "    'louvain_R', the cluster labels (adata.obs, categorical) (0:00:00)\n",
      "running Louvain clustering\n",
      "    using the \"louvain\" package of Traag (2017)\n",
      "    finished: found 64 clusters and added\n",
      "    'louvain_R', the cluster labels (adata.obs, categorical) (0:00:00)\n",
      "running Louvain clustering\n",
      "    using the \"louvain\" package of Traag (2017)\n",
      "    finished: found 72 clusters and added\n",
      "    'louvain_R', the cluster labels (adata.obs, categorical) (0:00:00)\n",
      "running Louvain clustering\n",
      "    using the \"louvain\" package of Traag (2017)\n",
      "    finished: found 79 clusters and added\n",
      "    'louvain_R', the cluster labels (adata.obs, categorical) (0:00:00)\n",
      "running Louvain clustering\n",
      "    using the \"louvain\" package of Traag (2017)\n",
      "    finished: found 85 clusters and added\n",
      "    'louvain_R', the cluster labels (adata.obs, categorical) (0:00:00)\n",
      "running Louvain clustering\n",
      "    using the \"louvain\" package of Traag (2017)\n",
      "    finished: found 89 clusters and added\n",
      "    'louvain_R', the cluster labels (adata.obs, categorical) (0:00:00)\n",
      "indices in current bertie table and sample adata are matching, assigning scores\n",
      "sample 35008_CV005_RV9039259_and_35008_CV005_RV9039283 from scRNA-seq samples 2 out of 9\n",
      "reading /lustre/scratch117/cellgen/team292/aa22/data/202009_CVID_revision/cellranger302_count_35008_CV005_RV9039259_and_35008_CV005_RV9039283_GRCh38-1_2_0/filtered_feature_bc_matrix.h5\n"
     ]
    },
    {
     "name": "stderr",
     "output_type": "stream",
     "text": [
      "Variable names are not unique. To make them unique, call `.var_names_make_unique`.\n"
     ]
    },
    {
     "name": "stdout",
     "output_type": "stream",
     "text": [
      " (0:00:00)\n",
      "filtered out 16099 genes that are detectedin less than 3 cells\n",
      "going on to call doublets (write doublet scores into tables) with bertie\n",
      "normalizing by total count per cell\n",
      "    finished (0:00:00): normalized adata.X and added    'n_counts', counts per cell before normalization (adata.obs)\n",
      "extracting highly variable genes\n",
      "    finished (0:00:01)\n",
      "--> added\n",
      "    'highly_variable', boolean vector (adata.var)\n",
      "    'means', float vector (adata.var)\n",
      "    'dispersions', float vector (adata.var)\n",
      "    'dispersions_norm', float vector (adata.var)\n",
      "computing PCA with n_comps = 50\n",
      "computing PCA on highly variable genes\n",
      "    finished (0:00:06)\n",
      "computing neighbors\n",
      "    using 'X_pca' with n_pcs = 50\n"
     ]
    },
    {
     "name": "stderr",
     "output_type": "stream",
     "text": [
      "/opt/conda/lib/python3.7/site-packages/numba/typed_passes.py:271: NumbaPerformanceWarning: \n",
      "The keyword argument 'parallel=True' was specified but no transformation for parallel execution was possible.\n",
      "\n",
      "To find out why, try turning on parallel diagnostics, see http://numba.pydata.org/numba-doc/latest/user/parallel.html#diagnostics for help.\n",
      "\n",
      "File \"../../../../../../../../../opt/conda/lib/python3.7/site-packages/umap/nndescent.py\", line 47:\n",
      "    @numba.njit(parallel=True)\n",
      "    def nn_descent(\n",
      "    ^\n",
      "\n",
      "  state.func_ir.loc))\n"
     ]
    },
    {
     "name": "stdout",
     "output_type": "stream",
     "text": [
      "    finished: added to `.uns['neighbors']`\n",
      "    'distances', distances for each pair of neighbors\n",
      "    'connectivities', weighted adjacency matrix (0:00:06)\n",
      "running Louvain clustering\n",
      "    using the \"louvain\" package of Traag (2017)\n",
      "    finished: found 14 clusters and added\n",
      "    'louvain', the cluster labels (adata.obs, categorical) (0:00:02)\n",
      "running Louvain clustering\n",
      "    using the \"louvain\" package of Traag (2017)\n",
      "    finished: found 20 clusters and added\n",
      "    'louvain_R', the cluster labels (adata.obs, categorical) (0:00:00)\n",
      "running Louvain clustering\n",
      "    using the \"louvain\" package of Traag (2017)\n",
      "    finished: found 30 clusters and added\n",
      "    'louvain_R', the cluster labels (adata.obs, categorical) (0:00:00)\n",
      "running Louvain clustering\n",
      "    using the \"louvain\" package of Traag (2017)\n",
      "    finished: found 34 clusters and added\n",
      "    'louvain_R', the cluster labels (adata.obs, categorical) (0:00:00)\n",
      "running Louvain clustering\n",
      "    using the \"louvain\" package of Traag (2017)\n",
      "    finished: found 37 clusters and added\n",
      "    'louvain_R', the cluster labels (adata.obs, categorical) (0:00:00)\n",
      "running Louvain clustering\n",
      "    using the \"louvain\" package of Traag (2017)\n",
      "    finished: found 39 clusters and added\n",
      "    'louvain_R', the cluster labels (adata.obs, categorical) (0:00:00)\n",
      "running Louvain clustering\n",
      "    using the \"louvain\" package of Traag (2017)\n",
      "    finished: found 40 clusters and added\n",
      "    'louvain_R', the cluster labels (adata.obs, categorical) (0:00:00)\n",
      "running Louvain clustering\n",
      "    using the \"louvain\" package of Traag (2017)\n",
      "    finished: found 46 clusters and added\n",
      "    'louvain_R', the cluster labels (adata.obs, categorical) (0:00:00)\n",
      "running Louvain clustering\n",
      "    using the \"louvain\" package of Traag (2017)\n",
      "    finished: found 53 clusters and added\n",
      "    'louvain_R', the cluster labels (adata.obs, categorical) (0:00:00)\n",
      "running Louvain clustering\n",
      "    using the \"louvain\" package of Traag (2017)\n",
      "    finished: found 62 clusters and added\n",
      "    'louvain_R', the cluster labels (adata.obs, categorical) (0:00:00)\n",
      "running Louvain clustering\n",
      "    using the \"louvain\" package of Traag (2017)\n",
      "    finished: found 69 clusters and added\n",
      "    'louvain_R', the cluster labels (adata.obs, categorical) (0:00:00)\n",
      "running Louvain clustering\n",
      "    using the \"louvain\" package of Traag (2017)\n",
      "    finished: found 78 clusters and added\n",
      "    'louvain_R', the cluster labels (adata.obs, categorical) (0:00:00)\n",
      "running Louvain clustering\n",
      "    using the \"louvain\" package of Traag (2017)\n",
      "    finished: found 83 clusters and added\n",
      "    'louvain_R', the cluster labels (adata.obs, categorical) (0:00:00)\n",
      "running Louvain clustering\n",
      "    using the \"louvain\" package of Traag (2017)\n",
      "    finished: found 89 clusters and added\n",
      "    'louvain_R', the cluster labels (adata.obs, categorical) (0:00:00)\n",
      "running Louvain clustering\n",
      "    using the \"louvain\" package of Traag (2017)\n",
      "    finished: found 96 clusters and added\n",
      "    'louvain_R', the cluster labels (adata.obs, categorical) (0:00:00)\n",
      "indices in current bertie table and sample adata are matching, assigning scores\n",
      "sample 35008_CV005_RV9039260_and_35008_CV005_RV9039284 from scRNA-seq samples 3 out of 9\n",
      "reading /lustre/scratch117/cellgen/team292/aa22/data/202009_CVID_revision/cellranger302_count_35008_CV005_RV9039260_and_35008_CV005_RV9039284_GRCh38-1_2_0/filtered_feature_bc_matrix.h5\n"
     ]
    },
    {
     "name": "stderr",
     "output_type": "stream",
     "text": [
      "Variable names are not unique. To make them unique, call `.var_names_make_unique`.\n"
     ]
    },
    {
     "name": "stdout",
     "output_type": "stream",
     "text": [
      " (0:00:00)\n",
      "filtered out 16665 genes that are detectedin less than 3 cells\n",
      "going on to call doublets (write doublet scores into tables) with bertie\n",
      "normalizing by total count per cell\n",
      "    finished (0:00:00): normalized adata.X and added    'n_counts', counts per cell before normalization (adata.obs)\n",
      "extracting highly variable genes\n",
      "    finished (0:00:01)\n",
      "--> added\n",
      "    'highly_variable', boolean vector (adata.var)\n",
      "    'means', float vector (adata.var)\n",
      "    'dispersions', float vector (adata.var)\n",
      "    'dispersions_norm', float vector (adata.var)\n",
      "computing PCA with n_comps = 50\n",
      "computing PCA on highly variable genes\n",
      "    finished (0:00:06)\n",
      "computing neighbors\n",
      "    using 'X_pca' with n_pcs = 50\n"
     ]
    },
    {
     "name": "stderr",
     "output_type": "stream",
     "text": [
      "/opt/conda/lib/python3.7/site-packages/numba/typed_passes.py:271: NumbaPerformanceWarning: \n",
      "The keyword argument 'parallel=True' was specified but no transformation for parallel execution was possible.\n",
      "\n",
      "To find out why, try turning on parallel diagnostics, see http://numba.pydata.org/numba-doc/latest/user/parallel.html#diagnostics for help.\n",
      "\n",
      "File \"../../../../../../../../../opt/conda/lib/python3.7/site-packages/umap/nndescent.py\", line 47:\n",
      "    @numba.njit(parallel=True)\n",
      "    def nn_descent(\n",
      "    ^\n",
      "\n",
      "  state.func_ir.loc))\n"
     ]
    },
    {
     "name": "stdout",
     "output_type": "stream",
     "text": [
      "    finished: added to `.uns['neighbors']`\n",
      "    'distances', distances for each pair of neighbors\n",
      "    'connectivities', weighted adjacency matrix (0:00:04)\n",
      "running Louvain clustering\n",
      "    using the \"louvain\" package of Traag (2017)\n",
      "    finished: found 12 clusters and added\n",
      "    'louvain', the cluster labels (adata.obs, categorical) (0:00:01)\n",
      "running Louvain clustering\n",
      "    using the \"louvain\" package of Traag (2017)\n",
      "    finished: found 18 clusters and added\n",
      "    'louvain_R', the cluster labels (adata.obs, categorical) (0:00:00)\n",
      "running Louvain clustering\n",
      "    using the \"louvain\" package of Traag (2017)\n",
      "    finished: found 25 clusters and added\n",
      "    'louvain_R', the cluster labels (adata.obs, categorical) (0:00:00)\n",
      "running Louvain clustering\n",
      "    using the \"louvain\" package of Traag (2017)\n",
      "    finished: found 28 clusters and added\n",
      "    'louvain_R', the cluster labels (adata.obs, categorical) (0:00:00)\n",
      "running Louvain clustering\n",
      "    using the \"louvain\" package of Traag (2017)\n",
      "    finished: found 30 clusters and added\n",
      "    'louvain_R', the cluster labels (adata.obs, categorical) (0:00:00)\n",
      "running Louvain clustering\n",
      "    using the \"louvain\" package of Traag (2017)\n",
      "    finished: found 39 clusters and added\n",
      "    'louvain_R', the cluster labels (adata.obs, categorical) (0:00:00)\n",
      "running Louvain clustering\n",
      "    using the \"louvain\" package of Traag (2017)\n",
      "    finished: found 45 clusters and added\n",
      "    'louvain_R', the cluster labels (adata.obs, categorical) (0:00:00)\n",
      "running Louvain clustering\n",
      "    using the \"louvain\" package of Traag (2017)\n",
      "    finished: found 51 clusters and added\n",
      "    'louvain_R', the cluster labels (adata.obs, categorical) (0:00:00)\n",
      "running Louvain clustering\n",
      "    using the \"louvain\" package of Traag (2017)\n",
      "    finished: found 58 clusters and added\n",
      "    'louvain_R', the cluster labels (adata.obs, categorical) (0:00:00)\n",
      "running Louvain clustering\n",
      "    using the \"louvain\" package of Traag (2017)\n",
      "    finished: found 65 clusters and added\n",
      "    'louvain_R', the cluster labels (adata.obs, categorical) (0:00:00)\n",
      "running Louvain clustering\n",
      "    using the \"louvain\" package of Traag (2017)\n",
      "    finished: found 70 clusters and added\n",
      "    'louvain_R', the cluster labels (adata.obs, categorical) (0:00:00)\n",
      "running Louvain clustering\n",
      "    using the \"louvain\" package of Traag (2017)\n",
      "    finished: found 75 clusters and added\n",
      "    'louvain_R', the cluster labels (adata.obs, categorical) (0:00:00)\n",
      "running Louvain clustering\n",
      "    using the \"louvain\" package of Traag (2017)\n",
      "    finished: found 78 clusters and added\n",
      "    'louvain_R', the cluster labels (adata.obs, categorical) (0:00:00)\n",
      "indices in current bertie table and sample adata are matching, assigning scores\n",
      "sample 35008_CV005_RV9039261_and_35008_CV005_RV9039285 from scRNA-seq samples 4 out of 9\n",
      "reading /lustre/scratch117/cellgen/team292/aa22/data/202009_CVID_revision/cellranger302_count_35008_CV005_RV9039261_and_35008_CV005_RV9039285_GRCh38-1_2_0/filtered_feature_bc_matrix.h5\n"
     ]
    },
    {
     "name": "stderr",
     "output_type": "stream",
     "text": [
      "Variable names are not unique. To make them unique, call `.var_names_make_unique`.\n"
     ]
    },
    {
     "name": "stdout",
     "output_type": "stream",
     "text": [
      " (0:00:01)\n",
      "filtered out 15883 genes that are detectedin less than 3 cells\n",
      "going on to call doublets (write doublet scores into tables) with bertie\n",
      "normalizing by total count per cell\n",
      "    finished (0:00:00): normalized adata.X and added    'n_counts', counts per cell before normalization (adata.obs)\n",
      "extracting highly variable genes\n",
      "    finished (0:00:01)\n",
      "--> added\n",
      "    'highly_variable', boolean vector (adata.var)\n",
      "    'means', float vector (adata.var)\n",
      "    'dispersions', float vector (adata.var)\n",
      "    'dispersions_norm', float vector (adata.var)\n",
      "computing PCA with n_comps = 50\n",
      "computing PCA on highly variable genes\n",
      "    finished (0:00:05)\n",
      "computing neighbors\n",
      "    using 'X_pca' with n_pcs = 50\n"
     ]
    },
    {
     "name": "stderr",
     "output_type": "stream",
     "text": [
      "/opt/conda/lib/python3.7/site-packages/numba/typed_passes.py:271: NumbaPerformanceWarning: \n",
      "The keyword argument 'parallel=True' was specified but no transformation for parallel execution was possible.\n",
      "\n",
      "To find out why, try turning on parallel diagnostics, see http://numba.pydata.org/numba-doc/latest/user/parallel.html#diagnostics for help.\n",
      "\n",
      "File \"../../../../../../../../../opt/conda/lib/python3.7/site-packages/umap/nndescent.py\", line 47:\n",
      "    @numba.njit(parallel=True)\n",
      "    def nn_descent(\n",
      "    ^\n",
      "\n",
      "  state.func_ir.loc))\n"
     ]
    },
    {
     "name": "stdout",
     "output_type": "stream",
     "text": [
      "    finished: added to `.uns['neighbors']`\n",
      "    'distances', distances for each pair of neighbors\n",
      "    'connectivities', weighted adjacency matrix (0:00:06)\n",
      "running Louvain clustering\n",
      "    using the \"louvain\" package of Traag (2017)\n",
      "    finished: found 15 clusters and added\n",
      "    'louvain', the cluster labels (adata.obs, categorical) (0:00:02)\n",
      "running Louvain clustering\n",
      "    using the \"louvain\" package of Traag (2017)\n",
      "    finished: found 24 clusters and added\n",
      "    'louvain_R', the cluster labels (adata.obs, categorical) (0:00:00)\n",
      "running Louvain clustering\n",
      "    using the \"louvain\" package of Traag (2017)\n",
      "    finished: found 32 clusters and added\n",
      "    'louvain_R', the cluster labels (adata.obs, categorical) (0:00:00)\n",
      "running Louvain clustering\n",
      "    using the \"louvain\" package of Traag (2017)\n",
      "    finished: found 36 clusters and added\n",
      "    'louvain_R', the cluster labels (adata.obs, categorical) (0:00:00)\n",
      "running Louvain clustering\n",
      "    using the \"louvain\" package of Traag (2017)\n",
      "    finished: found 40 clusters and added\n",
      "    'louvain_R', the cluster labels (adata.obs, categorical) (0:00:00)\n",
      "running Louvain clustering\n",
      "    using the \"louvain\" package of Traag (2017)\n",
      "    finished: found 43 clusters and added\n",
      "    'louvain_R', the cluster labels (adata.obs, categorical) (0:00:00)\n",
      "running Louvain clustering\n",
      "    using the \"louvain\" package of Traag (2017)\n",
      "    finished: found 45 clusters and added\n",
      "    'louvain_R', the cluster labels (adata.obs, categorical) (0:00:00)\n",
      "running Louvain clustering\n",
      "    using the \"louvain\" package of Traag (2017)\n",
      "    finished: found 47 clusters and added\n",
      "    'louvain_R', the cluster labels (adata.obs, categorical) (0:00:00)\n",
      "running Louvain clustering\n",
      "    using the \"louvain\" package of Traag (2017)\n",
      "    finished: found 53 clusters and added\n",
      "    'louvain_R', the cluster labels (adata.obs, categorical) (0:00:00)\n",
      "running Louvain clustering\n",
      "    using the \"louvain\" package of Traag (2017)\n",
      "    finished: found 62 clusters and added\n",
      "    'louvain_R', the cluster labels (adata.obs, categorical) (0:00:00)\n",
      "running Louvain clustering\n",
      "    using the \"louvain\" package of Traag (2017)\n",
      "    finished: found 70 clusters and added\n",
      "    'louvain_R', the cluster labels (adata.obs, categorical) (0:00:00)\n",
      "running Louvain clustering\n",
      "    using the \"louvain\" package of Traag (2017)\n",
      "    finished: found 77 clusters and added\n",
      "    'louvain_R', the cluster labels (adata.obs, categorical) (0:00:00)\n",
      "running Louvain clustering\n",
      "    using the \"louvain\" package of Traag (2017)\n",
      "    finished: found 81 clusters and added\n",
      "    'louvain_R', the cluster labels (adata.obs, categorical) (0:00:00)\n",
      "running Louvain clustering\n",
      "    using the \"louvain\" package of Traag (2017)\n",
      "    finished: found 83 clusters and added\n",
      "    'louvain_R', the cluster labels (adata.obs, categorical) (0:00:00)\n",
      "running Louvain clustering\n",
      "    using the \"louvain\" package of Traag (2017)\n",
      "    finished: found 88 clusters and added\n",
      "    'louvain_R', the cluster labels (adata.obs, categorical) (0:00:00)\n",
      "running Louvain clustering\n",
      "    using the \"louvain\" package of Traag (2017)\n",
      "    finished: found 95 clusters and added\n",
      "    'louvain_R', the cluster labels (adata.obs, categorical) (0:00:00)\n",
      "indices in current bertie table and sample adata are matching, assigning scores\n",
      "sample 35008_CV005_RV9039262_and_35008_CV005_RV9039286 from scRNA-seq samples 5 out of 9\n",
      "reading /lustre/scratch117/cellgen/team292/aa22/data/202009_CVID_revision/cellranger302_count_35008_CV005_RV9039262_and_35008_CV005_RV9039286_GRCh38-1_2_0/filtered_feature_bc_matrix.h5\n"
     ]
    },
    {
     "name": "stderr",
     "output_type": "stream",
     "text": [
      "Variable names are not unique. To make them unique, call `.var_names_make_unique`.\n"
     ]
    },
    {
     "name": "stdout",
     "output_type": "stream",
     "text": [
      " (0:00:01)\n",
      "filtered out 16473 genes that are detectedin less than 3 cells\n",
      "going on to call doublets (write doublet scores into tables) with bertie\n",
      "normalizing by total count per cell\n",
      "    finished (0:00:00): normalized adata.X and added    'n_counts', counts per cell before normalization (adata.obs)\n",
      "extracting highly variable genes\n",
      "    finished (0:00:01)\n",
      "--> added\n",
      "    'highly_variable', boolean vector (adata.var)\n",
      "    'means', float vector (adata.var)\n",
      "    'dispersions', float vector (adata.var)\n",
      "    'dispersions_norm', float vector (adata.var)\n",
      "computing PCA with n_comps = 50\n",
      "computing PCA on highly variable genes\n",
      "    finished (0:00:04)\n",
      "computing neighbors\n",
      "    using 'X_pca' with n_pcs = 50\n"
     ]
    },
    {
     "name": "stderr",
     "output_type": "stream",
     "text": [
      "/opt/conda/lib/python3.7/site-packages/numba/typed_passes.py:271: NumbaPerformanceWarning: \n",
      "The keyword argument 'parallel=True' was specified but no transformation for parallel execution was possible.\n",
      "\n",
      "To find out why, try turning on parallel diagnostics, see http://numba.pydata.org/numba-doc/latest/user/parallel.html#diagnostics for help.\n",
      "\n",
      "File \"../../../../../../../../../opt/conda/lib/python3.7/site-packages/umap/nndescent.py\", line 47:\n",
      "    @numba.njit(parallel=True)\n",
      "    def nn_descent(\n",
      "    ^\n",
      "\n",
      "  state.func_ir.loc))\n"
     ]
    },
    {
     "name": "stdout",
     "output_type": "stream",
     "text": [
      "    finished: added to `.uns['neighbors']`\n",
      "    'distances', distances for each pair of neighbors\n",
      "    'connectivities', weighted adjacency matrix (0:00:08)\n",
      "running Louvain clustering\n",
      "    using the \"louvain\" package of Traag (2017)\n",
      "    finished: found 14 clusters and added\n",
      "    'louvain', the cluster labels (adata.obs, categorical) (0:00:03)\n",
      "running Louvain clustering\n",
      "    using the \"louvain\" package of Traag (2017)\n",
      "    finished: found 21 clusters and added\n",
      "    'louvain_R', the cluster labels (adata.obs, categorical) (0:00:00)\n",
      "running Louvain clustering\n",
      "    using the \"louvain\" package of Traag (2017)\n",
      "    finished: found 26 clusters and added\n",
      "    'louvain_R', the cluster labels (adata.obs, categorical) (0:00:00)\n",
      "running Louvain clustering\n",
      "    using the \"louvain\" package of Traag (2017)\n",
      "    finished: found 29 clusters and added\n",
      "    'louvain_R', the cluster labels (adata.obs, categorical) (0:00:00)\n",
      "running Louvain clustering\n",
      "    using the \"louvain\" package of Traag (2017)\n",
      "    finished: found 32 clusters and added\n",
      "    'louvain_R', the cluster labels (adata.obs, categorical) (0:00:00)\n",
      "running Louvain clustering\n",
      "    using the \"louvain\" package of Traag (2017)\n",
      "    finished: found 37 clusters and added\n",
      "    'louvain_R', the cluster labels (adata.obs, categorical) (0:00:00)\n",
      "running Louvain clustering\n",
      "    using the \"louvain\" package of Traag (2017)\n",
      "    finished: found 41 clusters and added\n",
      "    'louvain_R', the cluster labels (adata.obs, categorical) (0:00:00)\n",
      "running Louvain clustering\n",
      "    using the \"louvain\" package of Traag (2017)\n",
      "    finished: found 48 clusters and added\n",
      "    'louvain_R', the cluster labels (adata.obs, categorical) (0:00:00)\n",
      "running Louvain clustering\n",
      "    using the \"louvain\" package of Traag (2017)\n",
      "    finished: found 55 clusters and added\n",
      "    'louvain_R', the cluster labels (adata.obs, categorical) (0:00:00)\n",
      "running Louvain clustering\n",
      "    using the \"louvain\" package of Traag (2017)\n",
      "    finished: found 60 clusters and added\n",
      "    'louvain_R', the cluster labels (adata.obs, categorical) (0:00:00)\n",
      "running Louvain clustering\n",
      "    using the \"louvain\" package of Traag (2017)\n",
      "    finished: found 67 clusters and added\n",
      "    'louvain_R', the cluster labels (adata.obs, categorical) (0:00:00)\n",
      "running Louvain clustering\n",
      "    using the \"louvain\" package of Traag (2017)\n",
      "    finished: found 76 clusters and added\n",
      "    'louvain_R', the cluster labels (adata.obs, categorical) (0:00:00)\n",
      "running Louvain clustering\n",
      "    using the \"louvain\" package of Traag (2017)\n",
      "    finished: found 83 clusters and added\n",
      "    'louvain_R', the cluster labels (adata.obs, categorical) (0:00:00)\n",
      "running Louvain clustering\n",
      "    using the \"louvain\" package of Traag (2017)\n",
      "    finished: found 88 clusters and added\n",
      "    'louvain_R', the cluster labels (adata.obs, categorical) (0:00:00)\n",
      "running Louvain clustering\n",
      "    using the \"louvain\" package of Traag (2017)\n",
      "    finished: found 93 clusters and added\n",
      "    'louvain_R', the cluster labels (adata.obs, categorical) (0:00:00)\n",
      "indices in current bertie table and sample adata are matching, assigning scores\n",
      "sample 35008_CV005_RV9039263_and_35008_CV005_RV9039287 from scRNA-seq samples 6 out of 9\n",
      "reading /lustre/scratch117/cellgen/team292/aa22/data/202009_CVID_revision/cellranger302_count_35008_CV005_RV9039263_and_35008_CV005_RV9039287_GRCh38-1_2_0/filtered_feature_bc_matrix.h5\n"
     ]
    },
    {
     "name": "stderr",
     "output_type": "stream",
     "text": [
      "Variable names are not unique. To make them unique, call `.var_names_make_unique`.\n"
     ]
    },
    {
     "name": "stdout",
     "output_type": "stream",
     "text": [
      " (0:00:01)\n",
      "filtered out 17209 genes that are detectedin less than 3 cells\n",
      "going on to call doublets (write doublet scores into tables) with bertie\n",
      "normalizing by total count per cell\n",
      "    finished (0:00:00): normalized adata.X and added    'n_counts', counts per cell before normalization (adata.obs)\n",
      "extracting highly variable genes\n",
      "    finished (0:00:01)\n",
      "--> added\n",
      "    'highly_variable', boolean vector (adata.var)\n",
      "    'means', float vector (adata.var)\n",
      "    'dispersions', float vector (adata.var)\n",
      "    'dispersions_norm', float vector (adata.var)\n",
      "computing PCA with n_comps = 50\n",
      "computing PCA on highly variable genes\n",
      "    finished (0:00:07)\n",
      "computing neighbors\n",
      "    using 'X_pca' with n_pcs = 50\n"
     ]
    },
    {
     "name": "stderr",
     "output_type": "stream",
     "text": [
      "/opt/conda/lib/python3.7/site-packages/numba/typed_passes.py:271: NumbaPerformanceWarning: \n",
      "The keyword argument 'parallel=True' was specified but no transformation for parallel execution was possible.\n",
      "\n",
      "To find out why, try turning on parallel diagnostics, see http://numba.pydata.org/numba-doc/latest/user/parallel.html#diagnostics for help.\n",
      "\n",
      "File \"../../../../../../../../../opt/conda/lib/python3.7/site-packages/umap/nndescent.py\", line 47:\n",
      "    @numba.njit(parallel=True)\n",
      "    def nn_descent(\n",
      "    ^\n",
      "\n",
      "  state.func_ir.loc))\n"
     ]
    },
    {
     "name": "stdout",
     "output_type": "stream",
     "text": [
      "    finished: added to `.uns['neighbors']`\n",
      "    'distances', distances for each pair of neighbors\n",
      "    'connectivities', weighted adjacency matrix (0:00:08)\n",
      "running Louvain clustering\n",
      "    using the \"louvain\" package of Traag (2017)\n",
      "    finished: found 11 clusters and added\n",
      "    'louvain', the cluster labels (adata.obs, categorical) (0:00:01)\n",
      "running Louvain clustering\n",
      "    using the \"louvain\" package of Traag (2017)\n",
      "    finished: found 16 clusters and added\n",
      "    'louvain_R', the cluster labels (adata.obs, categorical) (0:00:00)\n",
      "running Louvain clustering\n",
      "    using the \"louvain\" package of Traag (2017)\n",
      "    finished: found 23 clusters and added\n",
      "    'louvain_R', the cluster labels (adata.obs, categorical) (0:00:00)\n",
      "running Louvain clustering\n",
      "    using the \"louvain\" package of Traag (2017)\n",
      "    finished: found 26 clusters and added\n",
      "    'louvain_R', the cluster labels (adata.obs, categorical) (0:00:00)\n",
      "running Louvain clustering\n",
      "    using the \"louvain\" package of Traag (2017)\n",
      "    finished: found 32 clusters and added\n",
      "    'louvain_R', the cluster labels (adata.obs, categorical) (0:00:00)\n",
      "running Louvain clustering\n",
      "    using the \"louvain\" package of Traag (2017)\n",
      "    finished: found 37 clusters and added\n",
      "    'louvain_R', the cluster labels (adata.obs, categorical) (0:00:00)\n",
      "running Louvain clustering\n",
      "    using the \"louvain\" package of Traag (2017)\n",
      "    finished: found 43 clusters and added\n",
      "    'louvain_R', the cluster labels (adata.obs, categorical) (0:00:00)\n",
      "running Louvain clustering\n",
      "    using the \"louvain\" package of Traag (2017)\n",
      "    finished: found 49 clusters and added\n",
      "    'louvain_R', the cluster labels (adata.obs, categorical) (0:00:00)\n",
      "running Louvain clustering\n",
      "    using the \"louvain\" package of Traag (2017)\n",
      "    finished: found 56 clusters and added\n",
      "    'louvain_R', the cluster labels (adata.obs, categorical) (0:00:00)\n",
      "running Louvain clustering\n",
      "    using the \"louvain\" package of Traag (2017)\n",
      "    finished: found 63 clusters and added\n",
      "    'louvain_R', the cluster labels (adata.obs, categorical) (0:00:00)\n",
      "running Louvain clustering\n",
      "    using the \"louvain\" package of Traag (2017)\n",
      "    finished: found 68 clusters and added\n",
      "    'louvain_R', the cluster labels (adata.obs, categorical) (0:00:00)\n",
      "running Louvain clustering\n",
      "    using the \"louvain\" package of Traag (2017)\n",
      "    finished: found 73 clusters and added\n",
      "    'louvain_R', the cluster labels (adata.obs, categorical) (0:00:00)\n",
      "indices in current bertie table and sample adata are matching, assigning scores\n",
      "sample 35171_CV005_RV9039361 from scRNA-seq samples 7 out of 9\n",
      "reading /lustre/scratch117/cellgen/team292/aa22/data/202009_CVID_revision/cellranger302_count_35171_CV005_RV9039361_GRCh38-1_2_0/filtered_feature_bc_matrix.h5\n"
     ]
    },
    {
     "name": "stderr",
     "output_type": "stream",
     "text": [
      "Variable names are not unique. To make them unique, call `.var_names_make_unique`.\n"
     ]
    },
    {
     "name": "stdout",
     "output_type": "stream",
     "text": [
      " (0:00:01)\n",
      "filtered out 14429 genes that are detectedin less than 3 cells\n",
      "going on to call doublets (write doublet scores into tables) with bertie\n",
      "normalizing by total count per cell\n",
      "    finished (0:00:00): normalized adata.X and added    'n_counts', counts per cell before normalization (adata.obs)\n",
      "extracting highly variable genes\n",
      "    finished (0:00:02)\n",
      "--> added\n",
      "    'highly_variable', boolean vector (adata.var)\n",
      "    'means', float vector (adata.var)\n",
      "    'dispersions', float vector (adata.var)\n",
      "    'dispersions_norm', float vector (adata.var)\n",
      "computing PCA with n_comps = 50\n",
      "computing PCA on highly variable genes\n",
      "    finished (0:00:08)\n",
      "computing neighbors\n",
      "    using 'X_pca' with n_pcs = 50\n"
     ]
    },
    {
     "name": "stderr",
     "output_type": "stream",
     "text": [
      "/opt/conda/lib/python3.7/site-packages/numba/typed_passes.py:271: NumbaPerformanceWarning: \n",
      "The keyword argument 'parallel=True' was specified but no transformation for parallel execution was possible.\n",
      "\n",
      "To find out why, try turning on parallel diagnostics, see http://numba.pydata.org/numba-doc/latest/user/parallel.html#diagnostics for help.\n",
      "\n",
      "File \"../../../../../../../../../opt/conda/lib/python3.7/site-packages/umap/nndescent.py\", line 47:\n",
      "    @numba.njit(parallel=True)\n",
      "    def nn_descent(\n",
      "    ^\n",
      "\n",
      "  state.func_ir.loc))\n"
     ]
    },
    {
     "name": "stdout",
     "output_type": "stream",
     "text": [
      "    finished: added to `.uns['neighbors']`\n",
      "    'distances', distances for each pair of neighbors\n",
      "    'connectivities', weighted adjacency matrix (0:00:06)\n",
      "running Louvain clustering\n",
      "    using the \"louvain\" package of Traag (2017)\n",
      "    finished: found 16 clusters and added\n",
      "    'louvain', the cluster labels (adata.obs, categorical) (0:00:03)\n",
      "running Louvain clustering\n",
      "    using the \"louvain\" package of Traag (2017)\n",
      "    finished: found 24 clusters and added\n",
      "    'louvain_R', the cluster labels (adata.obs, categorical) (0:00:00)\n",
      "running Louvain clustering\n",
      "    using the \"louvain\" package of Traag (2017)\n",
      "    finished: found 30 clusters and added\n",
      "    'louvain_R', the cluster labels (adata.obs, categorical) (0:00:00)\n",
      "running Louvain clustering\n",
      "    using the \"louvain\" package of Traag (2017)\n",
      "    finished: found 34 clusters and added\n",
      "    'louvain_R', the cluster labels (adata.obs, categorical) (0:00:00)\n",
      "running Louvain clustering\n",
      "    using the \"louvain\" package of Traag (2017)\n",
      "    finished: found 42 clusters and added\n",
      "    'louvain_R', the cluster labels (adata.obs, categorical) (0:00:00)\n",
      "running Louvain clustering\n",
      "    using the \"louvain\" package of Traag (2017)\n",
      "    finished: found 48 clusters and added\n",
      "    'louvain_R', the cluster labels (adata.obs, categorical) (0:00:00)\n",
      "running Louvain clustering\n",
      "    using the \"louvain\" package of Traag (2017)\n",
      "    finished: found 52 clusters and added\n",
      "    'louvain_R', the cluster labels (adata.obs, categorical) (0:00:00)\n",
      "running Louvain clustering\n",
      "    using the \"louvain\" package of Traag (2017)\n",
      "    finished: found 55 clusters and added\n",
      "    'louvain_R', the cluster labels (adata.obs, categorical) (0:00:00)\n",
      "running Louvain clustering\n",
      "    using the \"louvain\" package of Traag (2017)\n",
      "    finished: found 58 clusters and added\n",
      "    'louvain_R', the cluster labels (adata.obs, categorical) (0:00:00)\n",
      "running Louvain clustering\n",
      "    using the \"louvain\" package of Traag (2017)\n",
      "    finished: found 62 clusters and added\n",
      "    'louvain_R', the cluster labels (adata.obs, categorical) (0:00:00)\n",
      "running Louvain clustering\n",
      "    using the \"louvain\" package of Traag (2017)\n",
      "    finished: found 67 clusters and added\n",
      "    'louvain_R', the cluster labels (adata.obs, categorical) (0:00:00)\n",
      "running Louvain clustering\n",
      "    using the \"louvain\" package of Traag (2017)\n",
      "    finished: found 75 clusters and added\n",
      "    'louvain_R', the cluster labels (adata.obs, categorical) (0:00:00)\n",
      "running Louvain clustering\n",
      "    using the \"louvain\" package of Traag (2017)\n",
      "    finished: found 81 clusters and added\n",
      "    'louvain_R', the cluster labels (adata.obs, categorical) (0:00:00)\n",
      "running Louvain clustering\n",
      "    using the \"louvain\" package of Traag (2017)\n",
      "    finished: found 88 clusters and added\n",
      "    'louvain_R', the cluster labels (adata.obs, categorical) (0:00:00)\n",
      "running Louvain clustering\n",
      "    using the \"louvain\" package of Traag (2017)\n",
      "    finished: found 94 clusters and added\n",
      "    'louvain_R', the cluster labels (adata.obs, categorical) (0:00:00)\n",
      "running Louvain clustering\n",
      "    using the \"louvain\" package of Traag (2017)\n",
      "    finished: found 101 clusters and added\n",
      "    'louvain_R', the cluster labels (adata.obs, categorical) (0:00:00)\n",
      "running Louvain clustering\n",
      "    using the \"louvain\" package of Traag (2017)\n",
      "    finished: found 106 clusters and added\n",
      "    'louvain_R', the cluster labels (adata.obs, categorical) (0:00:00)\n",
      "indices in current bertie table and sample adata are matching, assigning scores\n",
      "sample 35171_CV005_RV9039362 from scRNA-seq samples 8 out of 9\n",
      "reading /lustre/scratch117/cellgen/team292/aa22/data/202009_CVID_revision/cellranger302_count_35171_CV005_RV9039362_GRCh38-1_2_0/filtered_feature_bc_matrix.h5\n"
     ]
    },
    {
     "name": "stderr",
     "output_type": "stream",
     "text": [
      "Variable names are not unique. To make them unique, call `.var_names_make_unique`.\n"
     ]
    },
    {
     "name": "stdout",
     "output_type": "stream",
     "text": [
      " (0:00:03)\n",
      "filtered out 13511 genes that are detectedin less than 3 cells\n",
      "going on to call doublets (write doublet scores into tables) with bertie\n",
      "normalizing by total count per cell\n",
      "    finished (0:00:00): normalized adata.X and added    'n_counts', counts per cell before normalization (adata.obs)\n",
      "extracting highly variable genes\n",
      "    finished (0:00:03)\n",
      "--> added\n",
      "    'highly_variable', boolean vector (adata.var)\n",
      "    'means', float vector (adata.var)\n",
      "    'dispersions', float vector (adata.var)\n",
      "    'dispersions_norm', float vector (adata.var)\n",
      "computing PCA with n_comps = 50\n",
      "computing PCA on highly variable genes\n",
      "    finished (0:00:04)\n",
      "computing neighbors\n",
      "    using 'X_pca' with n_pcs = 50\n"
     ]
    },
    {
     "name": "stderr",
     "output_type": "stream",
     "text": [
      "/opt/conda/lib/python3.7/site-packages/numba/typed_passes.py:271: NumbaPerformanceWarning: \n",
      "The keyword argument 'parallel=True' was specified but no transformation for parallel execution was possible.\n",
      "\n",
      "To find out why, try turning on parallel diagnostics, see http://numba.pydata.org/numba-doc/latest/user/parallel.html#diagnostics for help.\n",
      "\n",
      "File \"../../../../../../../../../opt/conda/lib/python3.7/site-packages/umap/nndescent.py\", line 47:\n",
      "    @numba.njit(parallel=True)\n",
      "    def nn_descent(\n",
      "    ^\n",
      "\n",
      "  state.func_ir.loc))\n"
     ]
    },
    {
     "name": "stdout",
     "output_type": "stream",
     "text": [
      "    finished: added to `.uns['neighbors']`\n",
      "    'distances', distances for each pair of neighbors\n",
      "    'connectivities', weighted adjacency matrix (0:00:06)\n",
      "running Louvain clustering\n",
      "    using the \"louvain\" package of Traag (2017)\n",
      "    finished: found 19 clusters and added\n",
      "    'louvain', the cluster labels (adata.obs, categorical) (0:00:03)\n",
      "running Louvain clustering\n",
      "    using the \"louvain\" package of Traag (2017)\n",
      "    finished: found 26 clusters and added\n",
      "    'louvain_R', the cluster labels (adata.obs, categorical) (0:00:00)\n",
      "running Louvain clustering\n",
      "    using the \"louvain\" package of Traag (2017)\n",
      "    finished: found 35 clusters and added\n",
      "    'louvain_R', the cluster labels (adata.obs, categorical) (0:00:00)\n",
      "running Louvain clustering\n",
      "    using the \"louvain\" package of Traag (2017)\n",
      "    finished: found 40 clusters and added\n",
      "    'louvain_R', the cluster labels (adata.obs, categorical) (0:00:00)\n",
      "running Louvain clustering\n",
      "    using the \"louvain\" package of Traag (2017)\n",
      "    finished: found 47 clusters and added\n",
      "    'louvain_R', the cluster labels (adata.obs, categorical) (0:00:00)\n",
      "running Louvain clustering\n",
      "    using the \"louvain\" package of Traag (2017)\n",
      "    finished: found 53 clusters and added\n",
      "    'louvain_R', the cluster labels (adata.obs, categorical) (0:00:00)\n",
      "running Louvain clustering\n",
      "    using the \"louvain\" package of Traag (2017)\n",
      "    finished: found 59 clusters and added\n",
      "    'louvain_R', the cluster labels (adata.obs, categorical) (0:00:00)\n",
      "running Louvain clustering\n",
      "    using the \"louvain\" package of Traag (2017)\n",
      "    finished: found 63 clusters and added\n",
      "    'louvain_R', the cluster labels (adata.obs, categorical) (0:00:00)\n",
      "running Louvain clustering\n",
      "    using the \"louvain\" package of Traag (2017)\n",
      "    finished: found 68 clusters and added\n",
      "    'louvain_R', the cluster labels (adata.obs, categorical) (0:00:00)\n",
      "running Louvain clustering\n",
      "    using the \"louvain\" package of Traag (2017)\n",
      "    finished: found 73 clusters and added\n",
      "    'louvain_R', the cluster labels (adata.obs, categorical) (0:00:00)\n",
      "running Louvain clustering\n",
      "    using the \"louvain\" package of Traag (2017)\n",
      "    finished: found 75 clusters and added\n",
      "    'louvain_R', the cluster labels (adata.obs, categorical) (0:00:00)\n",
      "running Louvain clustering\n",
      "    using the \"louvain\" package of Traag (2017)\n",
      "    finished: found 77 clusters and added\n",
      "    'louvain_R', the cluster labels (adata.obs, categorical) (0:00:00)\n",
      "running Louvain clustering\n",
      "    using the \"louvain\" package of Traag (2017)\n",
      "    finished: found 85 clusters and added\n",
      "    'louvain_R', the cluster labels (adata.obs, categorical) (0:00:00)\n",
      "running Louvain clustering\n",
      "    using the \"louvain\" package of Traag (2017)\n",
      "    finished: found 93 clusters and added\n",
      "    'louvain_R', the cluster labels (adata.obs, categorical) (0:00:00)\n",
      "running Louvain clustering\n",
      "    using the \"louvain\" package of Traag (2017)\n",
      "    finished: found 99 clusters and added\n",
      "    'louvain_R', the cluster labels (adata.obs, categorical) (0:00:00)\n",
      "running Louvain clustering\n",
      "    using the \"louvain\" package of Traag (2017)\n",
      "    finished: found 105 clusters and added\n",
      "    'louvain_R', the cluster labels (adata.obs, categorical) (0:00:00)\n",
      "running Louvain clustering\n",
      "    using the \"louvain\" package of Traag (2017)\n",
      "    finished: found 111 clusters and added\n",
      "    'louvain_R', the cluster labels (adata.obs, categorical) (0:00:00)\n",
      "running Louvain clustering\n",
      "    using the \"louvain\" package of Traag (2017)\n",
      "    finished: found 116 clusters and added\n",
      "    'louvain_R', the cluster labels (adata.obs, categorical) (0:00:00)\n",
      "running Louvain clustering\n",
      "    using the \"louvain\" package of Traag (2017)\n",
      "    finished: found 123 clusters and added\n",
      "    'louvain_R', the cluster labels (adata.obs, categorical) (0:00:00)\n",
      "running Louvain clustering\n",
      "    using the \"louvain\" package of Traag (2017)\n",
      "    finished: found 129 clusters and added\n",
      "    'louvain_R', the cluster labels (adata.obs, categorical) (0:00:00)\n",
      "indices in current bertie table and sample adata are matching, assigning scores\n",
      "sample 35171_CV005_RV9039363 from scRNA-seq samples 9 out of 9\n",
      "reading /lustre/scratch117/cellgen/team292/aa22/data/202009_CVID_revision/cellranger302_count_35171_CV005_RV9039363_GRCh38-1_2_0/filtered_feature_bc_matrix.h5\n"
     ]
    },
    {
     "name": "stderr",
     "output_type": "stream",
     "text": [
      "Variable names are not unique. To make them unique, call `.var_names_make_unique`.\n"
     ]
    },
    {
     "name": "stdout",
     "output_type": "stream",
     "text": [
      " (0:00:03)\n",
      "filtered out 14110 genes that are detectedin less than 3 cells\n",
      "going on to call doublets (write doublet scores into tables) with bertie\n",
      "normalizing by total count per cell\n",
      "    finished (0:00:00): normalized adata.X and added    'n_counts', counts per cell before normalization (adata.obs)\n",
      "extracting highly variable genes\n",
      "    finished (0:00:04)\n",
      "--> added\n",
      "    'highly_variable', boolean vector (adata.var)\n",
      "    'means', float vector (adata.var)\n",
      "    'dispersions', float vector (adata.var)\n",
      "    'dispersions_norm', float vector (adata.var)\n",
      "computing PCA with n_comps = 50\n",
      "computing PCA on highly variable genes\n",
      "    finished (0:00:07)\n",
      "computing neighbors\n",
      "    using 'X_pca' with n_pcs = 50\n"
     ]
    },
    {
     "name": "stderr",
     "output_type": "stream",
     "text": [
      "/opt/conda/lib/python3.7/site-packages/numba/typed_passes.py:271: NumbaPerformanceWarning: \n",
      "The keyword argument 'parallel=True' was specified but no transformation for parallel execution was possible.\n",
      "\n",
      "To find out why, try turning on parallel diagnostics, see http://numba.pydata.org/numba-doc/latest/user/parallel.html#diagnostics for help.\n",
      "\n",
      "File \"../../../../../../../../../opt/conda/lib/python3.7/site-packages/umap/nndescent.py\", line 47:\n",
      "    @numba.njit(parallel=True)\n",
      "    def nn_descent(\n",
      "    ^\n",
      "\n",
      "  state.func_ir.loc))\n"
     ]
    },
    {
     "name": "stdout",
     "output_type": "stream",
     "text": [
      "    finished: added to `.uns['neighbors']`\n",
      "    'distances', distances for each pair of neighbors\n",
      "    'connectivities', weighted adjacency matrix (0:00:10)\n",
      "running Louvain clustering\n",
      "    using the \"louvain\" package of Traag (2017)\n",
      "    finished: found 15 clusters and added\n",
      "    'louvain', the cluster labels (adata.obs, categorical) (0:00:04)\n",
      "running Louvain clustering\n",
      "    using the \"louvain\" package of Traag (2017)\n",
      "    finished: found 24 clusters and added\n",
      "    'louvain_R', the cluster labels (adata.obs, categorical) (0:00:00)\n",
      "running Louvain clustering\n",
      "    using the \"louvain\" package of Traag (2017)\n",
      "    finished: found 31 clusters and added\n",
      "    'louvain_R', the cluster labels (adata.obs, categorical) (0:00:00)\n",
      "running Louvain clustering\n",
      "    using the \"louvain\" package of Traag (2017)\n",
      "    finished: found 37 clusters and added\n",
      "    'louvain_R', the cluster labels (adata.obs, categorical) (0:00:00)\n",
      "running Louvain clustering\n",
      "    using the \"louvain\" package of Traag (2017)\n",
      "    finished: found 42 clusters and added\n",
      "    'louvain_R', the cluster labels (adata.obs, categorical) (0:00:00)\n",
      "running Louvain clustering\n",
      "    using the \"louvain\" package of Traag (2017)\n",
      "    finished: found 47 clusters and added\n",
      "    'louvain_R', the cluster labels (adata.obs, categorical) (0:00:00)\n",
      "running Louvain clustering\n",
      "    using the \"louvain\" package of Traag (2017)\n",
      "    finished: found 49 clusters and added\n",
      "    'louvain_R', the cluster labels (adata.obs, categorical) (0:00:00)\n",
      "running Louvain clustering\n",
      "    using the \"louvain\" package of Traag (2017)\n",
      "    finished: found 53 clusters and added\n",
      "    'louvain_R', the cluster labels (adata.obs, categorical) (0:00:00)\n",
      "running Louvain clustering\n",
      "    using the \"louvain\" package of Traag (2017)\n",
      "    finished: found 60 clusters and added\n",
      "    'louvain_R', the cluster labels (adata.obs, categorical) (0:00:00)\n",
      "running Louvain clustering\n",
      "    using the \"louvain\" package of Traag (2017)\n",
      "    finished: found 66 clusters and added\n",
      "    'louvain_R', the cluster labels (adata.obs, categorical) (0:00:00)\n",
      "running Louvain clustering\n",
      "    using the \"louvain\" package of Traag (2017)\n",
      "    finished: found 71 clusters and added\n",
      "    'louvain_R', the cluster labels (adata.obs, categorical) (0:00:00)\n",
      "running Louvain clustering\n",
      "    using the \"louvain\" package of Traag (2017)\n",
      "    finished: found 78 clusters and added\n",
      "    'louvain_R', the cluster labels (adata.obs, categorical) (0:00:00)\n",
      "running Louvain clustering\n",
      "    using the \"louvain\" package of Traag (2017)\n",
      "    finished: found 83 clusters and added\n",
      "    'louvain_R', the cluster labels (adata.obs, categorical) (0:00:00)\n",
      "running Louvain clustering\n",
      "    using the \"louvain\" package of Traag (2017)\n",
      "    finished: found 89 clusters and added\n",
      "    'louvain_R', the cluster labels (adata.obs, categorical) (0:00:00)\n",
      "running Louvain clustering\n",
      "    using the \"louvain\" package of Traag (2017)\n",
      "    finished: found 97 clusters and added\n",
      "    'louvain_R', the cluster labels (adata.obs, categorical) (0:00:00)\n",
      "running Louvain clustering\n",
      "    using the \"louvain\" package of Traag (2017)\n",
      "    finished: found 104 clusters and added\n",
      "    'louvain_R', the cluster labels (adata.obs, categorical) (0:00:00)\n",
      "indices in current bertie table and sample adata are matching, assigning scores\n",
      "CPU times: user 16min 50s, sys: 17min 35s, total: 34min 26s\n",
      "Wall time: 9min 32s\n"
     ]
    }
   ],
   "source": [
    "%%time\n",
    "\n",
    "holder = []\n",
    "\n",
    "# for doublets\n",
    "scorenames = ['scrublet_score','scrublet_cluster_score','bh_pval']\n",
    "#os.makedirs('scrublet_scores')\n",
    "\n",
    "for sample in samples:\n",
    "    print('sample', sample,\n",
    "          \"from scRNA-seq samples\", list(samples).index(sample)+1,\n",
    "          'out of', len(samples))\n",
    "    \n",
    "    path = '/lustre/scratch117/cellgen/team292/aa22/data/202009_CVID_revision/cellranger302_count_'+sample+'_GRCh38-1_2_0/'\n",
    "    \n",
    "    \n",
    "    path_complete = path+'filtered_feature_bc_matrix.h5'\n",
    "    holder.append(sc.read_10x_h5(path_complete,\n",
    "                                gex_only=False))\n",
    "    \n",
    "    holder[-1].var_names_make_unique()\n",
    "    # Filer cells with less than 200 genes expressed\n",
    "    sc.pp.filter_cells(holder[-1], min_genes=200)\n",
    "    \n",
    "    # Filer genes expressed in less than 3 cells\n",
    "    sc.pp.filter_genes(holder[-1], min_cells=3)\n",
    "    \n",
    "    # Adding donor information\n",
    "    \n",
    "    curr_info = sample2activation[sample]\n",
    "    \n",
    "    holder[-1].obs['stimulation'] = curr_info\n",
    "    holder[-1].layers['counts'] = holder[-1].X.copy()\n",
    "    #print('this was tissue block', block, 'sample:', sample)\n",
    "    \n",
    "    # Sample information\n",
    "    holder[-1].obs['sample'] = sample\n",
    "    # In cell_id we save barcode+sample index, to be unique in the future\n",
    "    holder[-1].obs['cell_id'] = [i+'_'+j for i,j in zip(holder[-1].obs.index, holder[-1].obs['sample'])]\n",
    "    \n",
    "    # Extract mitochondial genes\n",
    "    mito_genes = [name for name in holder[-1].var_names if name.startswith('MT-')]\n",
    "    #for each cell compute fraction of counts in mito genes vs. all genes\n",
    "    #the `.A1` is only necessary, as X is sparse - it transform to a dense array after summing\n",
    "    holder[-1].obs['percent_mito'] = np.sum(\n",
    "        holder[-1][:, mito_genes].X, axis=1).A1 / np.sum(holder[-1].X, axis=1).A1\n",
    "    \n",
    "    #add the total counts per cell as observations-annotation to adata\n",
    "    holder[-1].obs['n_counts'] = holder[-1].X.sum(axis=1).A1\n",
    "    \n",
    "    holder[-1].obs['dataset'] = 'GEX+CITE-seq'\n",
    "    holder[-1].obs['technique'] = '10X'\n",
    "    \n",
    "    \n",
    "    # calling doublets on current sample's adata which is holder[-1]\n",
    "    print('going on to call doublets (write doublet scores into tables) with bertie')\n",
    "    \n",
    "    # for doublet detection we only consider GEX data\n",
    "    curr_adata_GEX = holder[-1][:, holder[-1].var[\"feature_types\"] == \"Gene Expression\"].copy()\n",
    "    \n",
    "    scores_table = bertie(curr_adata_GEX, sample)\n",
    "    if list(scores_table.index) == list(curr_adata_GEX.obs.index):\n",
    "        print('indices in current bertie table and sample adata are matching, assigning scores')\n",
    "        for meta in scorenames:\n",
    "            holder[-1].obs[meta] = scores_table[meta]\n",
    "    else:\n",
    "        print('indices in current bertie table and sample adata are NOT matching')"
   ]
  },
  {
   "cell_type": "markdown",
   "metadata": {},
   "source": [
    "____________________________________________________________________________________________________________"
   ]
  },
  {
   "cell_type": "markdown",
   "metadata": {},
   "source": [
    "Carrying on to:\n",
    "- Concatenate"
   ]
  },
  {
   "cell_type": "code",
   "execution_count": 109,
   "metadata": {},
   "outputs": [
    {
     "name": "stderr",
     "output_type": "stream",
     "text": [
      "layers concatenation is not yet available for 'outer' intersection and will be ignored.\n",
      "Observation names are not unique. To make them unique, call `.obs_names_make_unique`.\n",
      "Or pass `index_unique!=None` to `.concatenate`.\n"
     ]
    },
    {
     "name": "stdout",
     "output_type": "stream",
     "text": [
      "CPU times: user 4min 44s, sys: 1min 13s, total: 5min 58s\n",
      "Wall time: 5min 57s\n"
     ]
    }
   ],
   "source": [
    "%%time\n",
    "\n",
    "adata = holder[0].concatenate(holder[1:],join='outer',index_unique=None)\n",
    "adata.X = adata.X.tocsr()"
   ]
  },
  {
   "cell_type": "markdown",
   "metadata": {},
   "source": [
    "Carrying on to \n",
    "- Filter MT-high cells (>20%)\n",
    "- Save raw attribute\n",
    "- Make cell names (obs) and gene names (var) unique"
   ]
  },
  {
   "cell_type": "code",
   "execution_count": 110,
   "metadata": {},
   "outputs": [
    {
     "name": "stderr",
     "output_type": "stream",
     "text": [
      "Observation names are not unique. To make them unique, call `.obs_names_make_unique`.\n",
      "Observation names are not unique. To make them unique, call `.obs_names_make_unique`.\n",
      "Observation names are not unique. To make them unique, call `.obs_names_make_unique`.\n"
     ]
    }
   ],
   "source": [
    "# mt % filtering\n",
    "adata = adata[adata.obs['percent_mito'] < 0.2]\n",
    "\n",
    "# saving the raw attribute\n",
    "adata.raw = adata.copy()\n",
    "\n",
    "adata.var_names_make_unique()\n",
    "adata.obs_names_make_unique()"
   ]
  },
  {
   "cell_type": "code",
   "execution_count": 111,
   "metadata": {},
   "outputs": [],
   "source": [
    "# adding 'is_doublet' annotation by throsholding the bh_pvalue, this is not the end of doublet calling\n",
    "# this parameter can be tweaked according to how harsh the detection needs to be\n",
    "# the less it is, the less doublets it will call\n",
    "adata.obs['is_doublet'] = adata.obs['bh_pval'] < 0.1"
   ]
  },
  {
   "cell_type": "code",
   "execution_count": 115,
   "metadata": {},
   "outputs": [
    {
     "data": {
      "text/plain": [
       "AnnData object with n_obs × n_vars = 186705 × 21749 \n",
       "    obs: 'batch', 'bh_pval', 'cell_id', 'dataset', 'n_counts', 'n_genes', 'percent_mito', 'sample', 'scrublet_cluster_score', 'scrublet_score', 'stimulation', 'technique', 'is_doublet'\n",
       "    var: 'gene_ids-0', 'feature_types-0', 'genome-0', 'n_cells-0', 'gene_ids-1', 'feature_types-1', 'genome-1', 'n_cells-1', 'gene_ids-2', 'feature_types-2', 'genome-2', 'n_cells-2', 'gene_ids-3', 'feature_types-3', 'genome-3', 'n_cells-3', 'gene_ids-4', 'feature_types-4', 'genome-4', 'n_cells-4', 'gene_ids-5', 'feature_types-5', 'genome-5', 'n_cells-5', 'gene_ids-6', 'feature_types-6', 'genome-6', 'n_cells-6', 'gene_ids-7', 'feature_types-7', 'genome-7', 'n_cells-7', 'gene_ids-8', 'feature_types-8', 'genome-8', 'n_cells-8'"
      ]
     },
     "execution_count": 115,
     "metadata": {},
     "output_type": "execute_result"
    }
   ],
   "source": [
    "adata"
   ]
  },
  {
   "cell_type": "code",
   "execution_count": 117,
   "metadata": {},
   "outputs": [
    {
     "data": {
      "text/html": [
       "<div>\n",
       "<style scoped>\n",
       "    .dataframe tbody tr th:only-of-type {\n",
       "        vertical-align: middle;\n",
       "    }\n",
       "\n",
       "    .dataframe tbody tr th {\n",
       "        vertical-align: top;\n",
       "    }\n",
       "\n",
       "    .dataframe thead th {\n",
       "        text-align: right;\n",
       "    }\n",
       "</style>\n",
       "<table border=\"1\" class=\"dataframe\">\n",
       "  <thead>\n",
       "    <tr style=\"text-align: right;\">\n",
       "      <th></th>\n",
       "      <th>donor</th>\n",
       "    </tr>\n",
       "    <tr>\n",
       "      <th>cell_id</th>\n",
       "      <th></th>\n",
       "    </tr>\n",
       "  </thead>\n",
       "  <tbody>\n",
       "    <tr>\n",
       "      <th>AAACCTGAGAATGTGT-1_35008_CV005_RV9039258_and_35008_CV005_RV9039282</th>\n",
       "      <td>CVID3</td>\n",
       "    </tr>\n",
       "    <tr>\n",
       "      <th>AAACCTGAGACTAAGT-1_35008_CV005_RV9039258_and_35008_CV005_RV9039282</th>\n",
       "      <td>CONTROL4</td>\n",
       "    </tr>\n",
       "    <tr>\n",
       "      <th>AAACCTGAGCCGCCTA-1_35008_CV005_RV9039258_and_35008_CV005_RV9039282</th>\n",
       "      <td>CVID3</td>\n",
       "    </tr>\n",
       "    <tr>\n",
       "      <th>AAACCTGAGCGCCTCA-1_35008_CV005_RV9039258_and_35008_CV005_RV9039282</th>\n",
       "      <td>CVID33</td>\n",
       "    </tr>\n",
       "    <tr>\n",
       "      <th>AAACCTGAGGATGTAT-1_35008_CV005_RV9039258_and_35008_CV005_RV9039282</th>\n",
       "      <td>CVID3</td>\n",
       "    </tr>\n",
       "    <tr>\n",
       "      <th>...</th>\n",
       "      <td>...</td>\n",
       "    </tr>\n",
       "    <tr>\n",
       "      <th>TTTGTCATCCCTTGCA-1_35171_CV005_RV9039363</th>\n",
       "      <td>CVID25</td>\n",
       "    </tr>\n",
       "    <tr>\n",
       "      <th>TTTGTCATCCGCGTTT-1_35171_CV005_RV9039363</th>\n",
       "      <td>CVID23</td>\n",
       "    </tr>\n",
       "    <tr>\n",
       "      <th>TTTGTCATCGGAGGTA-1_35171_CV005_RV9039363</th>\n",
       "      <td>CVID25</td>\n",
       "    </tr>\n",
       "    <tr>\n",
       "      <th>TTTGTCATCGGCTACG-1_35171_CV005_RV9039363</th>\n",
       "      <td>CVID25</td>\n",
       "    </tr>\n",
       "    <tr>\n",
       "      <th>TTTGTCATCTTGGGTA-1_35171_CV005_RV9039363</th>\n",
       "      <td>CVID25</td>\n",
       "    </tr>\n",
       "  </tbody>\n",
       "</table>\n",
       "<p>112617 rows × 1 columns</p>\n",
       "</div>"
      ],
      "text/plain": [
       "                                                       donor\n",
       "cell_id                                                     \n",
       "AAACCTGAGAATGTGT-1_35008_CV005_RV9039258_and_35...     CVID3\n",
       "AAACCTGAGACTAAGT-1_35008_CV005_RV9039258_and_35...  CONTROL4\n",
       "AAACCTGAGCCGCCTA-1_35008_CV005_RV9039258_and_35...     CVID3\n",
       "AAACCTGAGCGCCTCA-1_35008_CV005_RV9039258_and_35...    CVID33\n",
       "AAACCTGAGGATGTAT-1_35008_CV005_RV9039258_and_35...     CVID3\n",
       "...                                                      ...\n",
       "TTTGTCATCCCTTGCA-1_35171_CV005_RV9039363              CVID25\n",
       "TTTGTCATCCGCGTTT-1_35171_CV005_RV9039363              CVID23\n",
       "TTTGTCATCGGAGGTA-1_35171_CV005_RV9039363              CVID25\n",
       "TTTGTCATCGGCTACG-1_35171_CV005_RV9039363              CVID25\n",
       "TTTGTCATCTTGGGTA-1_35171_CV005_RV9039363              CVID25\n",
       "\n",
       "[112617 rows x 1 columns]"
      ]
     },
     "execution_count": 117,
     "metadata": {},
     "output_type": "execute_result"
    }
   ],
   "source": [
    "donor_meta"
   ]
  },
  {
   "cell_type": "code",
   "execution_count": 10,
   "metadata": {},
   "outputs": [],
   "source": [
    "donor_meta = pd.read_csv(save_path + 'meta_cells_for_reanalysis_without_twins_without_BCR_activation_without_souporcell_doublets.csv',\n",
    "                        index_col=0)"
   ]
  },
  {
   "cell_type": "code",
   "execution_count": 12,
   "metadata": {},
   "outputs": [
    {
     "data": {
      "text/html": [
       "<div>\n",
       "<style scoped>\n",
       "    .dataframe tbody tr th:only-of-type {\n",
       "        vertical-align: middle;\n",
       "    }\n",
       "\n",
       "    .dataframe tbody tr th {\n",
       "        vertical-align: top;\n",
       "    }\n",
       "\n",
       "    .dataframe thead th {\n",
       "        text-align: right;\n",
       "    }\n",
       "</style>\n",
       "<table border=\"1\" class=\"dataframe\">\n",
       "  <thead>\n",
       "    <tr style=\"text-align: right;\">\n",
       "      <th></th>\n",
       "      <th>cell_id</th>\n",
       "      <th>donor</th>\n",
       "    </tr>\n",
       "  </thead>\n",
       "  <tbody>\n",
       "    <tr>\n",
       "      <th>AAACCTGAGAATGTGT-1</th>\n",
       "      <td>AAACCTGAGAATGTGT-1_35008_CV005_RV9039258_and_3...</td>\n",
       "      <td>CVID3</td>\n",
       "    </tr>\n",
       "    <tr>\n",
       "      <th>AAACCTGAGACTAAGT-1</th>\n",
       "      <td>AAACCTGAGACTAAGT-1_35008_CV005_RV9039258_and_3...</td>\n",
       "      <td>CONTROL4</td>\n",
       "    </tr>\n",
       "    <tr>\n",
       "      <th>AAACCTGAGCCGCCTA-1</th>\n",
       "      <td>AAACCTGAGCCGCCTA-1_35008_CV005_RV9039258_and_3...</td>\n",
       "      <td>CVID3</td>\n",
       "    </tr>\n",
       "    <tr>\n",
       "      <th>AAACCTGAGCGCCTCA-1</th>\n",
       "      <td>AAACCTGAGCGCCTCA-1_35008_CV005_RV9039258_and_3...</td>\n",
       "      <td>CVID33</td>\n",
       "    </tr>\n",
       "    <tr>\n",
       "      <th>AAACCTGAGGATGTAT-1</th>\n",
       "      <td>AAACCTGAGGATGTAT-1_35008_CV005_RV9039258_and_3...</td>\n",
       "      <td>CVID3</td>\n",
       "    </tr>\n",
       "    <tr>\n",
       "      <th>...</th>\n",
       "      <td>...</td>\n",
       "      <td>...</td>\n",
       "    </tr>\n",
       "    <tr>\n",
       "      <th>TTTGTCATCCCTTGCA-1-1</th>\n",
       "      <td>TTTGTCATCCCTTGCA-1_35171_CV005_RV9039363</td>\n",
       "      <td>CVID25</td>\n",
       "    </tr>\n",
       "    <tr>\n",
       "      <th>TTTGTCATCCGCGTTT-1</th>\n",
       "      <td>TTTGTCATCCGCGTTT-1_35171_CV005_RV9039363</td>\n",
       "      <td>CVID23</td>\n",
       "    </tr>\n",
       "    <tr>\n",
       "      <th>TTTGTCATCGGAGGTA-1</th>\n",
       "      <td>TTTGTCATCGGAGGTA-1_35171_CV005_RV9039363</td>\n",
       "      <td>CVID25</td>\n",
       "    </tr>\n",
       "    <tr>\n",
       "      <th>TTTGTCATCGGCTACG-1-1</th>\n",
       "      <td>TTTGTCATCGGCTACG-1_35171_CV005_RV9039363</td>\n",
       "      <td>CVID25</td>\n",
       "    </tr>\n",
       "    <tr>\n",
       "      <th>TTTGTCATCTTGGGTA-1</th>\n",
       "      <td>TTTGTCATCTTGGGTA-1_35171_CV005_RV9039363</td>\n",
       "      <td>CVID25</td>\n",
       "    </tr>\n",
       "  </tbody>\n",
       "</table>\n",
       "<p>112617 rows × 2 columns</p>\n",
       "</div>"
      ],
      "text/plain": [
       "                                                                cell_id  \\\n",
       "AAACCTGAGAATGTGT-1    AAACCTGAGAATGTGT-1_35008_CV005_RV9039258_and_3...   \n",
       "AAACCTGAGACTAAGT-1    AAACCTGAGACTAAGT-1_35008_CV005_RV9039258_and_3...   \n",
       "AAACCTGAGCCGCCTA-1    AAACCTGAGCCGCCTA-1_35008_CV005_RV9039258_and_3...   \n",
       "AAACCTGAGCGCCTCA-1    AAACCTGAGCGCCTCA-1_35008_CV005_RV9039258_and_3...   \n",
       "AAACCTGAGGATGTAT-1    AAACCTGAGGATGTAT-1_35008_CV005_RV9039258_and_3...   \n",
       "...                                                                 ...   \n",
       "TTTGTCATCCCTTGCA-1-1           TTTGTCATCCCTTGCA-1_35171_CV005_RV9039363   \n",
       "TTTGTCATCCGCGTTT-1             TTTGTCATCCGCGTTT-1_35171_CV005_RV9039363   \n",
       "TTTGTCATCGGAGGTA-1             TTTGTCATCGGAGGTA-1_35171_CV005_RV9039363   \n",
       "TTTGTCATCGGCTACG-1-1           TTTGTCATCGGCTACG-1_35171_CV005_RV9039363   \n",
       "TTTGTCATCTTGGGTA-1             TTTGTCATCTTGGGTA-1_35171_CV005_RV9039363   \n",
       "\n",
       "                         donor  \n",
       "AAACCTGAGAATGTGT-1       CVID3  \n",
       "AAACCTGAGACTAAGT-1    CONTROL4  \n",
       "AAACCTGAGCCGCCTA-1       CVID3  \n",
       "AAACCTGAGCGCCTCA-1      CVID33  \n",
       "AAACCTGAGGATGTAT-1       CVID3  \n",
       "...                        ...  \n",
       "TTTGTCATCCCTTGCA-1-1    CVID25  \n",
       "TTTGTCATCCGCGTTT-1      CVID23  \n",
       "TTTGTCATCGGAGGTA-1      CVID25  \n",
       "TTTGTCATCGGCTACG-1-1    CVID25  \n",
       "TTTGTCATCTTGGGTA-1      CVID25  \n",
       "\n",
       "[112617 rows x 2 columns]"
      ]
     },
     "execution_count": 12,
     "metadata": {},
     "output_type": "execute_result"
    }
   ],
   "source": [
    "donor_meta"
   ]
  },
  {
   "cell_type": "code",
   "execution_count": 13,
   "metadata": {},
   "outputs": [],
   "source": [
    "donor_meta.set_index('cell_id', inplace=True)"
   ]
  },
  {
   "cell_type": "code",
   "execution_count": 14,
   "metadata": {},
   "outputs": [
    {
     "data": {
      "text/html": [
       "<div>\n",
       "<style scoped>\n",
       "    .dataframe tbody tr th:only-of-type {\n",
       "        vertical-align: middle;\n",
       "    }\n",
       "\n",
       "    .dataframe tbody tr th {\n",
       "        vertical-align: top;\n",
       "    }\n",
       "\n",
       "    .dataframe thead th {\n",
       "        text-align: right;\n",
       "    }\n",
       "</style>\n",
       "<table border=\"1\" class=\"dataframe\">\n",
       "  <thead>\n",
       "    <tr style=\"text-align: right;\">\n",
       "      <th></th>\n",
       "      <th>donor</th>\n",
       "    </tr>\n",
       "    <tr>\n",
       "      <th>cell_id</th>\n",
       "      <th></th>\n",
       "    </tr>\n",
       "  </thead>\n",
       "  <tbody>\n",
       "    <tr>\n",
       "      <th>AAACCTGAGAATGTGT-1_35008_CV005_RV9039258_and_35008_CV005_RV9039282</th>\n",
       "      <td>CVID3</td>\n",
       "    </tr>\n",
       "    <tr>\n",
       "      <th>AAACCTGAGACTAAGT-1_35008_CV005_RV9039258_and_35008_CV005_RV9039282</th>\n",
       "      <td>CONTROL4</td>\n",
       "    </tr>\n",
       "    <tr>\n",
       "      <th>AAACCTGAGCCGCCTA-1_35008_CV005_RV9039258_and_35008_CV005_RV9039282</th>\n",
       "      <td>CVID3</td>\n",
       "    </tr>\n",
       "    <tr>\n",
       "      <th>AAACCTGAGCGCCTCA-1_35008_CV005_RV9039258_and_35008_CV005_RV9039282</th>\n",
       "      <td>CVID33</td>\n",
       "    </tr>\n",
       "    <tr>\n",
       "      <th>AAACCTGAGGATGTAT-1_35008_CV005_RV9039258_and_35008_CV005_RV9039282</th>\n",
       "      <td>CVID3</td>\n",
       "    </tr>\n",
       "    <tr>\n",
       "      <th>...</th>\n",
       "      <td>...</td>\n",
       "    </tr>\n",
       "    <tr>\n",
       "      <th>TTTGTCATCCCTTGCA-1_35171_CV005_RV9039363</th>\n",
       "      <td>CVID25</td>\n",
       "    </tr>\n",
       "    <tr>\n",
       "      <th>TTTGTCATCCGCGTTT-1_35171_CV005_RV9039363</th>\n",
       "      <td>CVID23</td>\n",
       "    </tr>\n",
       "    <tr>\n",
       "      <th>TTTGTCATCGGAGGTA-1_35171_CV005_RV9039363</th>\n",
       "      <td>CVID25</td>\n",
       "    </tr>\n",
       "    <tr>\n",
       "      <th>TTTGTCATCGGCTACG-1_35171_CV005_RV9039363</th>\n",
       "      <td>CVID25</td>\n",
       "    </tr>\n",
       "    <tr>\n",
       "      <th>TTTGTCATCTTGGGTA-1_35171_CV005_RV9039363</th>\n",
       "      <td>CVID25</td>\n",
       "    </tr>\n",
       "  </tbody>\n",
       "</table>\n",
       "<p>112617 rows × 1 columns</p>\n",
       "</div>"
      ],
      "text/plain": [
       "                                                       donor\n",
       "cell_id                                                     \n",
       "AAACCTGAGAATGTGT-1_35008_CV005_RV9039258_and_35...     CVID3\n",
       "AAACCTGAGACTAAGT-1_35008_CV005_RV9039258_and_35...  CONTROL4\n",
       "AAACCTGAGCCGCCTA-1_35008_CV005_RV9039258_and_35...     CVID3\n",
       "AAACCTGAGCGCCTCA-1_35008_CV005_RV9039258_and_35...    CVID33\n",
       "AAACCTGAGGATGTAT-1_35008_CV005_RV9039258_and_35...     CVID3\n",
       "...                                                      ...\n",
       "TTTGTCATCCCTTGCA-1_35171_CV005_RV9039363              CVID25\n",
       "TTTGTCATCCGCGTTT-1_35171_CV005_RV9039363              CVID23\n",
       "TTTGTCATCGGAGGTA-1_35171_CV005_RV9039363              CVID25\n",
       "TTTGTCATCGGCTACG-1_35171_CV005_RV9039363              CVID25\n",
       "TTTGTCATCTTGGGTA-1_35171_CV005_RV9039363              CVID25\n",
       "\n",
       "[112617 rows x 1 columns]"
      ]
     },
     "execution_count": 14,
     "metadata": {},
     "output_type": "execute_result"
    }
   ],
   "source": [
    "donor_meta"
   ]
  },
  {
   "cell_type": "code",
   "execution_count": 19,
   "metadata": {},
   "outputs": [],
   "source": [
    "# subsetting to only selected cells (after excluding souporcell doublets, twin data and BCR activation)\n",
    "adata = adata[adata.obs['cell_id'].isin(donor_meta.index)].copy()\n",
    "adata.obs['donor'] = list(donor_meta.loc[adata.obs['cell_id'], 'donor'])"
   ]
  },
  {
   "cell_type": "code",
   "execution_count": 22,
   "metadata": {},
   "outputs": [
    {
     "data": {
      "text/plain": [
       "AnnData object with n_obs × n_vars = 112463 × 21749 \n",
       "    obs: 'batch', 'bh_pval', 'cell_id', 'dataset', 'n_counts', 'n_genes', 'percent_mito', 'sample', 'scrublet_cluster_score', 'scrublet_score', 'stimulation', 'technique', 'is_doublet', 'donor'\n",
       "    var: 'gene_ids-0', 'feature_types-0', 'genome-0', 'n_cells-0', 'gene_ids-1', 'feature_types-1', 'genome-1', 'n_cells-1', 'gene_ids-2', 'feature_types-2', 'genome-2', 'n_cells-2', 'gene_ids-3', 'feature_types-3', 'genome-3', 'n_cells-3', 'gene_ids-4', 'feature_types-4', 'genome-4', 'n_cells-4', 'gene_ids-5', 'feature_types-5', 'genome-5', 'n_cells-5', 'gene_ids-6', 'feature_types-6', 'genome-6', 'n_cells-6', 'gene_ids-7', 'feature_types-7', 'genome-7', 'n_cells-7', 'gene_ids-8', 'feature_types-8', 'genome-8', 'n_cells-8'"
      ]
     },
     "execution_count": 22,
     "metadata": {},
     "output_type": "execute_result"
    }
   ],
   "source": [
    "adata"
   ]
  },
  {
   "cell_type": "code",
   "execution_count": 20,
   "metadata": {},
   "outputs": [
    {
     "data": {
      "text/plain": [
       "array(['CONTROL2', 'CONTROL3', 'CONTROL4', 'CONTROL5', 'CONTROL6',\n",
       "       'CONTROL7', 'CONTROL8', 'CONTROL9', 'CVID1', 'CVID18', 'CVID23',\n",
       "       'CVID25', 'CVID29', 'CVID3', 'CVID33', 'CVID34', 'CVID36',\n",
       "       'CVID37'], dtype=object)"
      ]
     },
     "execution_count": 20,
     "metadata": {},
     "output_type": "execute_result"
    }
   ],
   "source": [
    "np.unique(adata.obs['donor'])"
   ]
  },
  {
   "cell_type": "code",
   "execution_count": 21,
   "metadata": {},
   "outputs": [
    {
     "data": {
      "text/plain": [
       "'/lustre/scratch117/cellgen/team292/aa22/adata_objects/202009_CVID_revision/'"
      ]
     },
     "execution_count": 21,
     "metadata": {},
     "output_type": "execute_result"
    }
   ],
   "source": [
    "save_path"
   ]
  },
  {
   "cell_type": "code",
   "execution_count": 23,
   "metadata": {},
   "outputs": [
    {
     "name": "stderr",
     "output_type": "stream",
     "text": [
      "... storing 'donor' as categorical\n"
     ]
    }
   ],
   "source": [
    "# without BCR activation, without twins data, without souporcell doublets\n",
    "adata.write(save_path+'adata_raw_filtered_validation_cohort.h5ad')"
   ]
  },
  {
   "cell_type": "code",
   "execution_count": 24,
   "metadata": {},
   "outputs": [
    {
     "data": {
      "text/plain": [
       "array(['35008_CV005_RV9039258_and_35008_CV005_RV9039282',\n",
       "       '35008_CV005_RV9039259_and_35008_CV005_RV9039283',\n",
       "       '35008_CV005_RV9039260_and_35008_CV005_RV9039284',\n",
       "       '35008_CV005_RV9039261_and_35008_CV005_RV9039285',\n",
       "       '35008_CV005_RV9039262_and_35008_CV005_RV9039286',\n",
       "       '35008_CV005_RV9039263_and_35008_CV005_RV9039287',\n",
       "       '35171_CV005_RV9039361', '35171_CV005_RV9039362',\n",
       "       '35171_CV005_RV9039363'], dtype=object)"
      ]
     },
     "execution_count": 24,
     "metadata": {},
     "output_type": "execute_result"
    }
   ],
   "source": [
    "np.unique(adata.obs['sample'])"
   ]
  },
  {
   "cell_type": "code",
   "execution_count": 25,
   "metadata": {},
   "outputs": [
    {
     "data": {
      "text/plain": [
       "matrix([[    0.,     0.,     0., ..., 31715., 32580., 35153.]],\n",
       "       dtype=float32)"
      ]
     },
     "execution_count": 25,
     "metadata": {},
     "output_type": "execute_result"
    }
   ],
   "source": [
    "# quick check if the values are raw\n",
    "check = adata[adata.obs['sample'] == '35008_CV005_RV9039258_and_35008_CV005_RV9039282'].X.todense()\n",
    "np.unique(check)"
   ]
  },
  {
   "cell_type": "code",
   "execution_count": null,
   "metadata": {},
   "outputs": [],
   "source": []
  },
  {
   "cell_type": "code",
   "execution_count": 7,
   "metadata": {},
   "outputs": [],
   "source": [
    "# reading\n",
    "adata = sc.read(save_path+'adata_raw_filtered_validation_cohort.h5ad')"
   ]
  },
  {
   "cell_type": "code",
   "execution_count": 8,
   "metadata": {},
   "outputs": [
    {
     "data": {
      "text/plain": [
       "AnnData object with n_obs × n_vars = 112463 × 21749 \n",
       "    obs: 'batch', 'bh_pval', 'cell_id', 'dataset', 'n_counts', 'n_genes', 'percent_mito', 'sample', 'scrublet_cluster_score', 'scrublet_score', 'stimulation', 'technique', 'is_doublet', 'donor'\n",
       "    var: 'gene_ids-0', 'feature_types-0', 'genome-0', 'n_cells-0', 'gene_ids-1', 'feature_types-1', 'genome-1', 'n_cells-1', 'gene_ids-2', 'feature_types-2', 'genome-2', 'n_cells-2', 'gene_ids-3', 'feature_types-3', 'genome-3', 'n_cells-3', 'gene_ids-4', 'feature_types-4', 'genome-4', 'n_cells-4', 'gene_ids-5', 'feature_types-5', 'genome-5', 'n_cells-5', 'gene_ids-6', 'feature_types-6', 'genome-6', 'n_cells-6', 'gene_ids-7', 'feature_types-7', 'genome-7', 'n_cells-7', 'gene_ids-8', 'feature_types-8', 'genome-8', 'n_cells-8'"
      ]
     },
     "execution_count": 8,
     "metadata": {},
     "output_type": "execute_result"
    }
   ],
   "source": [
    "adata"
   ]
  },
  {
   "cell_type": "code",
   "execution_count": 9,
   "metadata": {},
   "outputs": [
    {
     "data": {
      "text/plain": [
       "array([nan, nan, nan, ..., nan, nan, nan], dtype=object)"
      ]
     },
     "execution_count": 9,
     "metadata": {},
     "output_type": "execute_result"
    }
   ],
   "source": [
    "np.unique(adata.obs['donor'])"
   ]
  },
  {
   "cell_type": "code",
   "execution_count": 134,
   "metadata": {},
   "outputs": [
    {
     "data": {
      "text/html": [
       "<div>\n",
       "<style scoped>\n",
       "    .dataframe tbody tr th:only-of-type {\n",
       "        vertical-align: middle;\n",
       "    }\n",
       "\n",
       "    .dataframe tbody tr th {\n",
       "        vertical-align: top;\n",
       "    }\n",
       "\n",
       "    .dataframe thead th {\n",
       "        text-align: right;\n",
       "    }\n",
       "</style>\n",
       "<table border=\"1\" class=\"dataframe\">\n",
       "  <thead>\n",
       "    <tr style=\"text-align: right;\">\n",
       "      <th></th>\n",
       "      <th>batch</th>\n",
       "      <th>bh_pval</th>\n",
       "      <th>cell_id</th>\n",
       "      <th>dataset</th>\n",
       "      <th>n_counts</th>\n",
       "      <th>n_genes</th>\n",
       "      <th>percent_mito</th>\n",
       "      <th>sample</th>\n",
       "      <th>scrublet_cluster_score</th>\n",
       "      <th>scrublet_score</th>\n",
       "      <th>stimulation</th>\n",
       "      <th>technique</th>\n",
       "      <th>is_doublet</th>\n",
       "      <th>donor</th>\n",
       "    </tr>\n",
       "    <tr>\n",
       "      <th>index</th>\n",
       "      <th></th>\n",
       "      <th></th>\n",
       "      <th></th>\n",
       "      <th></th>\n",
       "      <th></th>\n",
       "      <th></th>\n",
       "      <th></th>\n",
       "      <th></th>\n",
       "      <th></th>\n",
       "      <th></th>\n",
       "      <th></th>\n",
       "      <th></th>\n",
       "      <th></th>\n",
       "      <th></th>\n",
       "    </tr>\n",
       "  </thead>\n",
       "  <tbody>\n",
       "    <tr>\n",
       "      <th>AAACCTGAGAATGTGT-1</th>\n",
       "      <td>0</td>\n",
       "      <td>0.889727</td>\n",
       "      <td>AAACCTGAGAATGTGT-1_35008_CV005_RV9039258_and_3...</td>\n",
       "      <td>GEX+CITE-seq</td>\n",
       "      <td>7290.0</td>\n",
       "      <td>2702</td>\n",
       "      <td>0.018107</td>\n",
       "      <td>35008_CV005_RV9039258_and_35008_CV005_RV9039282</td>\n",
       "      <td>0.121951</td>\n",
       "      <td>0.228916</td>\n",
       "      <td>unstim</td>\n",
       "      <td>10X</td>\n",
       "      <td>False</td>\n",
       "      <td>NaN</td>\n",
       "    </tr>\n",
       "    <tr>\n",
       "      <th>AAACCTGAGACTAAGT-1</th>\n",
       "      <td>0</td>\n",
       "      <td>0.889727</td>\n",
       "      <td>AAACCTGAGACTAAGT-1_35008_CV005_RV9039258_and_3...</td>\n",
       "      <td>GEX+CITE-seq</td>\n",
       "      <td>12742.0</td>\n",
       "      <td>3009</td>\n",
       "      <td>0.039083</td>\n",
       "      <td>35008_CV005_RV9039258_and_35008_CV005_RV9039282</td>\n",
       "      <td>0.101341</td>\n",
       "      <td>0.109890</td>\n",
       "      <td>unstim</td>\n",
       "      <td>10X</td>\n",
       "      <td>False</td>\n",
       "      <td>NaN</td>\n",
       "    </tr>\n",
       "    <tr>\n",
       "      <th>AAACCTGAGCCGCCTA-1</th>\n",
       "      <td>0</td>\n",
       "      <td>0.889727</td>\n",
       "      <td>AAACCTGAGCCGCCTA-1_35008_CV005_RV9039258_and_3...</td>\n",
       "      <td>GEX+CITE-seq</td>\n",
       "      <td>1274.0</td>\n",
       "      <td>630</td>\n",
       "      <td>0.039246</td>\n",
       "      <td>35008_CV005_RV9039258_and_35008_CV005_RV9039282</td>\n",
       "      <td>0.097384</td>\n",
       "      <td>0.045720</td>\n",
       "      <td>unstim</td>\n",
       "      <td>10X</td>\n",
       "      <td>False</td>\n",
       "      <td>NaN</td>\n",
       "    </tr>\n",
       "    <tr>\n",
       "      <th>AAACCTGAGCGCCTCA-1</th>\n",
       "      <td>0</td>\n",
       "      <td>0.889727</td>\n",
       "      <td>AAACCTGAGCGCCTCA-1_35008_CV005_RV9039258_and_3...</td>\n",
       "      <td>GEX+CITE-seq</td>\n",
       "      <td>1137.0</td>\n",
       "      <td>629</td>\n",
       "      <td>0.028144</td>\n",
       "      <td>35008_CV005_RV9039258_and_35008_CV005_RV9039282</td>\n",
       "      <td>0.081753</td>\n",
       "      <td>0.142056</td>\n",
       "      <td>unstim</td>\n",
       "      <td>10X</td>\n",
       "      <td>False</td>\n",
       "      <td>NaN</td>\n",
       "    </tr>\n",
       "    <tr>\n",
       "      <th>AAACCTGAGGATGTAT-1</th>\n",
       "      <td>0</td>\n",
       "      <td>0.889727</td>\n",
       "      <td>AAACCTGAGGATGTAT-1_35008_CV005_RV9039258_and_3...</td>\n",
       "      <td>GEX+CITE-seq</td>\n",
       "      <td>1045.0</td>\n",
       "      <td>571</td>\n",
       "      <td>0.015311</td>\n",
       "      <td>35008_CV005_RV9039258_and_35008_CV005_RV9039282</td>\n",
       "      <td>0.072961</td>\n",
       "      <td>0.044019</td>\n",
       "      <td>unstim</td>\n",
       "      <td>10X</td>\n",
       "      <td>False</td>\n",
       "      <td>NaN</td>\n",
       "    </tr>\n",
       "    <tr>\n",
       "      <th>...</th>\n",
       "      <td>...</td>\n",
       "      <td>...</td>\n",
       "      <td>...</td>\n",
       "      <td>...</td>\n",
       "      <td>...</td>\n",
       "      <td>...</td>\n",
       "      <td>...</td>\n",
       "      <td>...</td>\n",
       "      <td>...</td>\n",
       "      <td>...</td>\n",
       "      <td>...</td>\n",
       "      <td>...</td>\n",
       "      <td>...</td>\n",
       "      <td>...</td>\n",
       "    </tr>\n",
       "    <tr>\n",
       "      <th>TTTGTCATCCCTTGCA-1-1</th>\n",
       "      <td>8</td>\n",
       "      <td>0.871054</td>\n",
       "      <td>TTTGTCATCCCTTGCA-1_35171_CV005_RV9039363</td>\n",
       "      <td>GEX+CITE-seq</td>\n",
       "      <td>10308.0</td>\n",
       "      <td>2240</td>\n",
       "      <td>0.052581</td>\n",
       "      <td>35171_CV005_RV9039363</td>\n",
       "      <td>0.097230</td>\n",
       "      <td>0.584296</td>\n",
       "      <td>CD3</td>\n",
       "      <td>10X</td>\n",
       "      <td>False</td>\n",
       "      <td>NaN</td>\n",
       "    </tr>\n",
       "    <tr>\n",
       "      <th>TTTGTCATCCGCGTTT-1</th>\n",
       "      <td>8</td>\n",
       "      <td>0.949569</td>\n",
       "      <td>TTTGTCATCCGCGTTT-1_35171_CV005_RV9039363</td>\n",
       "      <td>GEX+CITE-seq</td>\n",
       "      <td>3022.0</td>\n",
       "      <td>1066</td>\n",
       "      <td>0.014229</td>\n",
       "      <td>35171_CV005_RV9039363</td>\n",
       "      <td>0.076029</td>\n",
       "      <td>0.024129</td>\n",
       "      <td>CD3</td>\n",
       "      <td>10X</td>\n",
       "      <td>False</td>\n",
       "      <td>NaN</td>\n",
       "    </tr>\n",
       "    <tr>\n",
       "      <th>TTTGTCATCGGAGGTA-1</th>\n",
       "      <td>8</td>\n",
       "      <td>0.949569</td>\n",
       "      <td>TTTGTCATCGGAGGTA-1_35171_CV005_RV9039363</td>\n",
       "      <td>GEX+CITE-seq</td>\n",
       "      <td>3058.0</td>\n",
       "      <td>1076</td>\n",
       "      <td>0.010137</td>\n",
       "      <td>35171_CV005_RV9039363</td>\n",
       "      <td>0.038408</td>\n",
       "      <td>0.020513</td>\n",
       "      <td>CD3</td>\n",
       "      <td>10X</td>\n",
       "      <td>False</td>\n",
       "      <td>NaN</td>\n",
       "    </tr>\n",
       "    <tr>\n",
       "      <th>TTTGTCATCGGCTACG-1-1</th>\n",
       "      <td>8</td>\n",
       "      <td>0.949569</td>\n",
       "      <td>TTTGTCATCGGCTACG-1_35171_CV005_RV9039363</td>\n",
       "      <td>GEX+CITE-seq</td>\n",
       "      <td>3490.0</td>\n",
       "      <td>1109</td>\n",
       "      <td>0.008309</td>\n",
       "      <td>35171_CV005_RV9039363</td>\n",
       "      <td>0.043255</td>\n",
       "      <td>0.036153</td>\n",
       "      <td>CD3</td>\n",
       "      <td>10X</td>\n",
       "      <td>False</td>\n",
       "      <td>NaN</td>\n",
       "    </tr>\n",
       "    <tr>\n",
       "      <th>TTTGTCATCTTGGGTA-1</th>\n",
       "      <td>8</td>\n",
       "      <td>0.949569</td>\n",
       "      <td>TTTGTCATCTTGGGTA-1_35171_CV005_RV9039363</td>\n",
       "      <td>GEX+CITE-seq</td>\n",
       "      <td>3320.0</td>\n",
       "      <td>1070</td>\n",
       "      <td>0.038855</td>\n",
       "      <td>35171_CV005_RV9039363</td>\n",
       "      <td>0.076029</td>\n",
       "      <td>0.085537</td>\n",
       "      <td>CD3</td>\n",
       "      <td>10X</td>\n",
       "      <td>False</td>\n",
       "      <td>NaN</td>\n",
       "    </tr>\n",
       "  </tbody>\n",
       "</table>\n",
       "<p>112463 rows × 14 columns</p>\n",
       "</div>"
      ],
      "text/plain": [
       "                     batch   bh_pval  \\\n",
       "index                                  \n",
       "AAACCTGAGAATGTGT-1       0  0.889727   \n",
       "AAACCTGAGACTAAGT-1       0  0.889727   \n",
       "AAACCTGAGCCGCCTA-1       0  0.889727   \n",
       "AAACCTGAGCGCCTCA-1       0  0.889727   \n",
       "AAACCTGAGGATGTAT-1       0  0.889727   \n",
       "...                    ...       ...   \n",
       "TTTGTCATCCCTTGCA-1-1     8  0.871054   \n",
       "TTTGTCATCCGCGTTT-1       8  0.949569   \n",
       "TTTGTCATCGGAGGTA-1       8  0.949569   \n",
       "TTTGTCATCGGCTACG-1-1     8  0.949569   \n",
       "TTTGTCATCTTGGGTA-1       8  0.949569   \n",
       "\n",
       "                                                                cell_id  \\\n",
       "index                                                                     \n",
       "AAACCTGAGAATGTGT-1    AAACCTGAGAATGTGT-1_35008_CV005_RV9039258_and_3...   \n",
       "AAACCTGAGACTAAGT-1    AAACCTGAGACTAAGT-1_35008_CV005_RV9039258_and_3...   \n",
       "AAACCTGAGCCGCCTA-1    AAACCTGAGCCGCCTA-1_35008_CV005_RV9039258_and_3...   \n",
       "AAACCTGAGCGCCTCA-1    AAACCTGAGCGCCTCA-1_35008_CV005_RV9039258_and_3...   \n",
       "AAACCTGAGGATGTAT-1    AAACCTGAGGATGTAT-1_35008_CV005_RV9039258_and_3...   \n",
       "...                                                                 ...   \n",
       "TTTGTCATCCCTTGCA-1-1           TTTGTCATCCCTTGCA-1_35171_CV005_RV9039363   \n",
       "TTTGTCATCCGCGTTT-1             TTTGTCATCCGCGTTT-1_35171_CV005_RV9039363   \n",
       "TTTGTCATCGGAGGTA-1             TTTGTCATCGGAGGTA-1_35171_CV005_RV9039363   \n",
       "TTTGTCATCGGCTACG-1-1           TTTGTCATCGGCTACG-1_35171_CV005_RV9039363   \n",
       "TTTGTCATCTTGGGTA-1             TTTGTCATCTTGGGTA-1_35171_CV005_RV9039363   \n",
       "\n",
       "                           dataset  n_counts  n_genes  percent_mito  \\\n",
       "index                                                                 \n",
       "AAACCTGAGAATGTGT-1    GEX+CITE-seq    7290.0     2702      0.018107   \n",
       "AAACCTGAGACTAAGT-1    GEX+CITE-seq   12742.0     3009      0.039083   \n",
       "AAACCTGAGCCGCCTA-1    GEX+CITE-seq    1274.0      630      0.039246   \n",
       "AAACCTGAGCGCCTCA-1    GEX+CITE-seq    1137.0      629      0.028144   \n",
       "AAACCTGAGGATGTAT-1    GEX+CITE-seq    1045.0      571      0.015311   \n",
       "...                            ...       ...      ...           ...   \n",
       "TTTGTCATCCCTTGCA-1-1  GEX+CITE-seq   10308.0     2240      0.052581   \n",
       "TTTGTCATCCGCGTTT-1    GEX+CITE-seq    3022.0     1066      0.014229   \n",
       "TTTGTCATCGGAGGTA-1    GEX+CITE-seq    3058.0     1076      0.010137   \n",
       "TTTGTCATCGGCTACG-1-1  GEX+CITE-seq    3490.0     1109      0.008309   \n",
       "TTTGTCATCTTGGGTA-1    GEX+CITE-seq    3320.0     1070      0.038855   \n",
       "\n",
       "                                                               sample  \\\n",
       "index                                                                   \n",
       "AAACCTGAGAATGTGT-1    35008_CV005_RV9039258_and_35008_CV005_RV9039282   \n",
       "AAACCTGAGACTAAGT-1    35008_CV005_RV9039258_and_35008_CV005_RV9039282   \n",
       "AAACCTGAGCCGCCTA-1    35008_CV005_RV9039258_and_35008_CV005_RV9039282   \n",
       "AAACCTGAGCGCCTCA-1    35008_CV005_RV9039258_and_35008_CV005_RV9039282   \n",
       "AAACCTGAGGATGTAT-1    35008_CV005_RV9039258_and_35008_CV005_RV9039282   \n",
       "...                                                               ...   \n",
       "TTTGTCATCCCTTGCA-1-1                            35171_CV005_RV9039363   \n",
       "TTTGTCATCCGCGTTT-1                              35171_CV005_RV9039363   \n",
       "TTTGTCATCGGAGGTA-1                              35171_CV005_RV9039363   \n",
       "TTTGTCATCGGCTACG-1-1                            35171_CV005_RV9039363   \n",
       "TTTGTCATCTTGGGTA-1                              35171_CV005_RV9039363   \n",
       "\n",
       "                      scrublet_cluster_score  scrublet_score stimulation  \\\n",
       "index                                                                      \n",
       "AAACCTGAGAATGTGT-1                  0.121951        0.228916      unstim   \n",
       "AAACCTGAGACTAAGT-1                  0.101341        0.109890      unstim   \n",
       "AAACCTGAGCCGCCTA-1                  0.097384        0.045720      unstim   \n",
       "AAACCTGAGCGCCTCA-1                  0.081753        0.142056      unstim   \n",
       "AAACCTGAGGATGTAT-1                  0.072961        0.044019      unstim   \n",
       "...                                      ...             ...         ...   \n",
       "TTTGTCATCCCTTGCA-1-1                0.097230        0.584296         CD3   \n",
       "TTTGTCATCCGCGTTT-1                  0.076029        0.024129         CD3   \n",
       "TTTGTCATCGGAGGTA-1                  0.038408        0.020513         CD3   \n",
       "TTTGTCATCGGCTACG-1-1                0.043255        0.036153         CD3   \n",
       "TTTGTCATCTTGGGTA-1                  0.076029        0.085537         CD3   \n",
       "\n",
       "                     technique  is_doublet donor  \n",
       "index                                             \n",
       "AAACCTGAGAATGTGT-1         10X       False   NaN  \n",
       "AAACCTGAGACTAAGT-1         10X       False   NaN  \n",
       "AAACCTGAGCCGCCTA-1         10X       False   NaN  \n",
       "AAACCTGAGCGCCTCA-1         10X       False   NaN  \n",
       "AAACCTGAGGATGTAT-1         10X       False   NaN  \n",
       "...                        ...         ...   ...  \n",
       "TTTGTCATCCCTTGCA-1-1       10X       False   NaN  \n",
       "TTTGTCATCCGCGTTT-1         10X       False   NaN  \n",
       "TTTGTCATCGGAGGTA-1         10X       False   NaN  \n",
       "TTTGTCATCGGCTACG-1-1       10X       False   NaN  \n",
       "TTTGTCATCTTGGGTA-1         10X       False   NaN  \n",
       "\n",
       "[112463 rows x 14 columns]"
      ]
     },
     "execution_count": 134,
     "metadata": {},
     "output_type": "execute_result"
    }
   ],
   "source": [
    "adata.obs"
   ]
  },
  {
   "cell_type": "code",
   "execution_count": 135,
   "metadata": {},
   "outputs": [
    {
     "data": {
      "text/plain": [
       "Gene Expression     17254\n",
       "nan                  4303\n",
       "Antibody Capture      192\n",
       "Name: feature_types-0, dtype: int64"
      ]
     },
     "execution_count": 135,
     "metadata": {},
     "output_type": "execute_result"
    }
   ],
   "source": [
    "adata.var['feature_types-0'].value_counts()"
   ]
  },
  {
   "cell_type": "code",
   "execution_count": null,
   "metadata": {},
   "outputs": [],
   "source": []
  },
  {
   "cell_type": "markdown",
   "metadata": {},
   "source": [
    "# Producing a QC table"
   ]
  },
  {
   "cell_type": "code",
   "execution_count": 125,
   "metadata": {},
   "outputs": [
    {
     "name": "stdout",
     "output_type": "stream",
     "text": [
      "35008_CV005_RV9039258_and_35008_CV005_RV9039282\n",
      "35008_CV005_RV9039259_and_35008_CV005_RV9039283\n",
      "35008_CV005_RV9039260_and_35008_CV005_RV9039284\n",
      "35008_CV005_RV9039261_and_35008_CV005_RV9039285\n",
      "35008_CV005_RV9039262_and_35008_CV005_RV9039286\n",
      "35008_CV005_RV9039263_and_35008_CV005_RV9039287\n",
      "35171_CV005_RV9039361\n",
      "35171_CV005_RV9039362\n",
      "35171_CV005_RV9039363\n"
     ]
    }
   ],
   "source": [
    "tables = {}\n",
    "\n",
    "for sample in samples:\n",
    "    print(sample)\n",
    "    path = '/lustre/scratch117/cellgen/team292/aa22/data/202009_CVID_revision/cellranger302_count_'+sample+'_GRCh38-1_2_0/'\n",
    "    tables[sample] = pd.read_csv(path + 'metrics_summary.csv')"
   ]
  },
  {
   "cell_type": "code",
   "execution_count": 126,
   "metadata": {},
   "outputs": [],
   "source": [
    "table_merged = pd.DataFrame(columns = list(tables.values())[0].columns,\n",
    "                           index = samples)"
   ]
  },
  {
   "cell_type": "code",
   "execution_count": 127,
   "metadata": {},
   "outputs": [
    {
     "name": "stdout",
     "output_type": "stream",
     "text": [
      "35008_CV005_RV9039258_and_35008_CV005_RV9039282\n",
      "35008_CV005_RV9039259_and_35008_CV005_RV9039283\n",
      "35008_CV005_RV9039260_and_35008_CV005_RV9039284\n",
      "35008_CV005_RV9039261_and_35008_CV005_RV9039285\n",
      "35008_CV005_RV9039262_and_35008_CV005_RV9039286\n",
      "35008_CV005_RV9039263_and_35008_CV005_RV9039287\n",
      "35171_CV005_RV9039361\n",
      "35171_CV005_RV9039362\n",
      "35171_CV005_RV9039363\n"
     ]
    }
   ],
   "source": [
    "for sample in samples:\n",
    "    print(sample)\n",
    "    table_merged.loc[sample,:] = list(tables[sample].loc[0,:])"
   ]
  },
  {
   "cell_type": "code",
   "execution_count": 128,
   "metadata": {},
   "outputs": [],
   "source": [
    "table_merged.to_csv('./QC_metrics_cellranger_all_samples.csv')"
   ]
  },
  {
   "cell_type": "code",
   "execution_count": 129,
   "metadata": {},
   "outputs": [],
   "source": [
    "# number of cell called by cellranger\n",
    "num_of_cells = [int(elem.split(',')[0]+elem.split(',')[1]) for elem in list(table_merged['Estimated Number of Cells'])]"
   ]
  },
  {
   "cell_type": "code",
   "execution_count": 130,
   "metadata": {},
   "outputs": [
    {
     "data": {
      "text/plain": [
       "[17720, 19435, 12415, 19832, 22268, 20522, 21465, 23553, 29947]"
      ]
     },
     "execution_count": 130,
     "metadata": {},
     "output_type": "execute_result"
    }
   ],
   "source": [
    "num_of_cells"
   ]
  },
  {
   "cell_type": "code",
   "execution_count": 131,
   "metadata": {},
   "outputs": [],
   "source": [
    "num_of_cells_total = np.sum(num_of_cells)"
   ]
  },
  {
   "cell_type": "code",
   "execution_count": 132,
   "metadata": {},
   "outputs": [
    {
     "data": {
      "text/plain": [
       "187157"
      ]
     },
     "execution_count": 132,
     "metadata": {},
     "output_type": "execute_result"
    }
   ],
   "source": [
    "num_of_cells_total"
   ]
  },
  {
   "cell_type": "code",
   "execution_count": null,
   "metadata": {},
   "outputs": [],
   "source": []
  }
 ],
 "metadata": {
  "kernelspec": {
   "display_name": "Python 3",
   "language": "python",
   "name": "python3"
  },
  "language_info": {
   "codemirror_mode": {
    "name": "ipython",
    "version": 3
   },
   "file_extension": ".py",
   "mimetype": "text/x-python",
   "name": "python",
   "nbconvert_exporter": "python",
   "pygments_lexer": "ipython3",
   "version": "3.8.6"
  }
 },
 "nbformat": 4,
 "nbformat_minor": 4
}
