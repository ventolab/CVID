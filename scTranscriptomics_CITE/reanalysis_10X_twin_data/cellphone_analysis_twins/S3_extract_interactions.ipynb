{
 "cells": [
  {
   "cell_type": "markdown",
   "metadata": {},
   "source": [
    "# Extract database - run cellphone without statistical analysis to get all the L/R interactions"
   ]
  },
  {
   "cell_type": "code",
   "execution_count": 1,
   "metadata": {},
   "outputs": [],
   "source": [
    "%%bash\n",
    "\n",
    "source ~/notebooks/Vento_Lab/CVID/202009_new_analysis_revision/CITE_all_samples_analysis/CVID/scTranscriptomics_CITE/cellphonedb_analysis/cpdb-venv/bin/activate"
   ]
  },
  {
   "cell_type": "code",
   "execution_count": 2,
   "metadata": {},
   "outputs": [
    {
     "name": "stdout",
     "output_type": "stream",
     "text": [
      "/home/jovyan/notebooks/Vento_Lab/CVID/202009_new_analysis_revision/CITE_all_samples_analysis/CVID/scTranscriptomics_CITE/reanalysis_10X_twin_data/cellphone_analysis_twins\n"
     ]
    }
   ],
   "source": [
    "%%bash\n",
    "\n",
    "pwd"
   ]
  },
  {
   "cell_type": "code",
   "execution_count": 4,
   "metadata": {},
   "outputs": [
    {
     "name": "stdout",
     "output_type": "stream",
     "text": [
      "[ ][APP][22/03/21-15:49:33][WARNING] User selected database `/home/jovyan/notebooks/Vento_Lab/CVID/202009_new_analysis_revision/CITE_all_samples_analysis/CVID/scTranscriptomics_CITE/cellphonedb_analysis/database_20210218/cellphonedb_user_2021-02-18-14_26.db` is available, using it\n",
      "[ ][CORE][22/03/21-15:49:33][INFO] Initializing SqlAlchemy CellPhoneDB Core\n",
      "[ ][CORE][22/03/21-15:49:33][INFO] Using custom database at /home/jovyan/notebooks/Vento_Lab/CVID/202009_new_analysis_revision/CITE_all_samples_analysis/CVID/scTranscriptomics_CITE/cellphonedb_analysis/database_20210218/cellphonedb_user_2021-02-18-14_26.db\n",
      "[ ][APP][22/03/21-15:49:33][INFO] Launching Method cpdb_analysis_local_method_launcher\n",
      "[ ][APP][22/03/21-15:49:33][INFO] Launching Method _set_paths\n",
      "[ ][APP][22/03/21-15:49:33][INFO] Launching Method _load_meta_counts\n",
      "[ ][CORE][22/03/21-15:52:58][INFO] Launching Method cpdb_method_analysis_launcher\n",
      "[ ][CORE][22/03/21-15:52:58][INFO] Launching Method _counts_validations\n",
      "[ ][CORE][22/03/21-15:53:05][INFO] [Non Statistical Method] Threshold:0.0 Precision:3\n",
      "[ ][CORE][22/03/21-15:53:21][INFO] Running Real Analysis\n",
      "[ ][CORE][22/03/21-15:53:53][INFO] Building results\n"
     ]
    },
    {
     "name": "stderr",
     "output_type": "stream",
     "text": [
      "/opt/conda/lib/python3.8/site-packages/sklearn/utils/deprecation.py:144: FutureWarning: The sklearn.cluster.k_means_ module is  deprecated in version 0.22 and will be removed in version 0.24. The corresponding classes / functions should instead be imported from sklearn.cluster. Anything that cannot be imported from sklearn.cluster is now part of the private API.\n",
      "  warnings.warn(message, FutureWarning)\n"
     ]
    }
   ],
   "source": [
    "%%bash\n",
    "\n",
    "cellphonedb method analysis \\\n",
    "    /lustre/scratch117/cellgen/team292/aa22/adata_objects/202009_CVID_revision/202102_twins_reanalysis/20210322_cellphonedb_meta.tsv \\\n",
    "    /lustre/scratch117/cellgen/team292/aa22/adata_objects/202009_CVID_revision/202102_twins_reanalysis/20210322_cellphonedb_counts.csv \\\n",
    "    --database /home/jovyan/notebooks/Vento_Lab/CVID/202009_new_analysis_revision/CITE_all_samples_analysis/CVID/scTranscriptomics_CITE/cellphonedb_analysis/database_20210218/cellphonedb_user_2021-02-18-14_26.db \\\n",
    "    --counts-data hgnc_symbol \\\n",
    "    --output-path /home/jovyan/notebooks/Vento_Lab/CVID/202009_new_analysis_revision/CITE_all_samples_analysis/CVID/scTranscriptomics_CITE/reanalysis_10X_twin_data/cellphone_analysis_twins/out_20210322/ \\\n",
    "    --threshold 0"
   ]
  },
  {
   "cell_type": "code",
   "execution_count": null,
   "metadata": {},
   "outputs": [],
   "source": []
  },
  {
   "cell_type": "code",
   "execution_count": null,
   "metadata": {},
   "outputs": [],
   "source": []
  },
  {
   "cell_type": "code",
   "execution_count": null,
   "metadata": {},
   "outputs": [],
   "source": []
  }
 ],
 "metadata": {
  "kernelspec": {
   "display_name": "Python 3",
   "language": "python",
   "name": "python3"
  },
  "language_info": {
   "codemirror_mode": {
    "name": "ipython",
    "version": 3
   },
   "file_extension": ".py",
   "mimetype": "text/x-python",
   "name": "python",
   "nbconvert_exporter": "python",
   "pygments_lexer": "ipython3",
   "version": "3.8.6"
  }
 },
 "nbformat": 4,
 "nbformat_minor": 4
}
