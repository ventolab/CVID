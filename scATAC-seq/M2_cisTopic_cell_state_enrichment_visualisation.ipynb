{
 "cells": [
  {
   "cell_type": "markdown",
   "metadata": {},
   "source": [
    "# cisTopic visualisation: enrichment of B cell states in topics"
   ]
  },
  {
   "cell_type": "code",
   "execution_count": 1,
   "metadata": {},
   "outputs": [],
   "source": [
    "import numpy as np\n",
    "import pandas as pd\n",
    "import seaborn as sns\n",
    "from glob import iglob\n",
    "import matplotlib as mpl\n",
    "import math\n",
    "import scipy\n",
    "import matplotlib.pyplot as plt"
   ]
  },
  {
   "cell_type": "code",
   "execution_count": 2,
   "metadata": {},
   "outputs": [],
   "source": [
    "topic_number = 18"
   ]
  },
  {
   "cell_type": "code",
   "execution_count": 3,
   "metadata": {},
   "outputs": [],
   "source": [
    "# 3 B cell states - Naive, US-mem (USM) and S-mem (SM)\n",
    "celltype_number = 3"
   ]
  },
  {
   "cell_type": "code",
   "execution_count": 4,
   "metadata": {},
   "outputs": [],
   "source": [
    "# table with normalised AUC values for each cell and each topic\n",
    "\n",
    "cisTopic_18 = pd.read_csv('./cisTopic_cell_enrichment.csv',sep='\\t')\n"
   ]
  },
  {
   "cell_type": "code",
   "execution_count": 5,
   "metadata": {},
   "outputs": [
    {
     "data": {
      "text/html": [
       "<div>\n",
       "<style scoped>\n",
       "    .dataframe tbody tr th:only-of-type {\n",
       "        vertical-align: middle;\n",
       "    }\n",
       "\n",
       "    .dataframe tbody tr th {\n",
       "        vertical-align: top;\n",
       "    }\n",
       "\n",
       "    .dataframe thead th {\n",
       "        text-align: right;\n",
       "    }\n",
       "</style>\n",
       "<table border=\"1\" class=\"dataframe\">\n",
       "  <thead>\n",
       "    <tr style=\"text-align: right;\">\n",
       "      <th></th>\n",
       "      <th>Topic1</th>\n",
       "      <th>Topic2</th>\n",
       "      <th>Topic3</th>\n",
       "      <th>Topic4</th>\n",
       "      <th>Topic5</th>\n",
       "      <th>Topic6</th>\n",
       "      <th>Topic7</th>\n",
       "      <th>Topic8</th>\n",
       "      <th>Topic9</th>\n",
       "      <th>Topic10</th>\n",
       "      <th>Topic11</th>\n",
       "      <th>Topic12</th>\n",
       "      <th>Topic13</th>\n",
       "      <th>Topic14</th>\n",
       "      <th>Topic15</th>\n",
       "      <th>Topic16</th>\n",
       "      <th>Topic17</th>\n",
       "      <th>Topic18</th>\n",
       "      <th>celltype</th>\n",
       "      <th>TREATMENT</th>\n",
       "    </tr>\n",
       "  </thead>\n",
       "  <tbody>\n",
       "    <tr>\n",
       "      <th>Immunodeficiency7827658</th>\n",
       "      <td>0.036440</td>\n",
       "      <td>0.158369</td>\n",
       "      <td>0.032220</td>\n",
       "      <td>0.015038</td>\n",
       "      <td>0.044126</td>\n",
       "      <td>0.021067</td>\n",
       "      <td>0.055731</td>\n",
       "      <td>0.168165</td>\n",
       "      <td>0.093712</td>\n",
       "      <td>0.023478</td>\n",
       "      <td>0.059951</td>\n",
       "      <td>0.041866</td>\n",
       "      <td>0.058896</td>\n",
       "      <td>0.049100</td>\n",
       "      <td>0.021067</td>\n",
       "      <td>0.012627</td>\n",
       "      <td>0.084820</td>\n",
       "      <td>0.023327</td>\n",
       "      <td>SM B-cells</td>\n",
       "      <td>CONTROL</td>\n",
       "    </tr>\n",
       "    <tr>\n",
       "      <th>Immunodeficiency7827659</th>\n",
       "      <td>0.047065</td>\n",
       "      <td>0.118838</td>\n",
       "      <td>0.040874</td>\n",
       "      <td>0.035259</td>\n",
       "      <td>0.046777</td>\n",
       "      <td>0.033171</td>\n",
       "      <td>0.066142</td>\n",
       "      <td>0.118694</td>\n",
       "      <td>0.085651</td>\n",
       "      <td>0.023812</td>\n",
       "      <td>0.057503</td>\n",
       "      <td>0.039506</td>\n",
       "      <td>0.065206</td>\n",
       "      <td>0.051528</td>\n",
       "      <td>0.014454</td>\n",
       "      <td>0.038282</td>\n",
       "      <td>0.078668</td>\n",
       "      <td>0.038570</td>\n",
       "      <td>USM B-cells</td>\n",
       "      <td>CONTROL</td>\n",
       "    </tr>\n",
       "    <tr>\n",
       "      <th>Immunodeficiency7827660</th>\n",
       "      <td>0.031559</td>\n",
       "      <td>0.120284</td>\n",
       "      <td>0.036105</td>\n",
       "      <td>0.037647</td>\n",
       "      <td>0.044385</td>\n",
       "      <td>0.033264</td>\n",
       "      <td>0.044304</td>\n",
       "      <td>0.130187</td>\n",
       "      <td>0.072066</td>\n",
       "      <td>0.023685</td>\n",
       "      <td>0.048768</td>\n",
       "      <td>0.095201</td>\n",
       "      <td>0.055100</td>\n",
       "      <td>0.048038</td>\n",
       "      <td>0.015324</td>\n",
       "      <td>0.042680</td>\n",
       "      <td>0.082700</td>\n",
       "      <td>0.038703</td>\n",
       "      <td>SM B-cells</td>\n",
       "      <td>CONTROL</td>\n",
       "    </tr>\n",
       "    <tr>\n",
       "      <th>Immunodeficiency7827661</th>\n",
       "      <td>0.025938</td>\n",
       "      <td>0.149434</td>\n",
       "      <td>0.041552</td>\n",
       "      <td>0.020765</td>\n",
       "      <td>0.038636</td>\n",
       "      <td>0.019825</td>\n",
       "      <td>0.041740</td>\n",
       "      <td>0.136642</td>\n",
       "      <td>0.089238</td>\n",
       "      <td>0.053967</td>\n",
       "      <td>0.020577</td>\n",
       "      <td>0.011266</td>\n",
       "      <td>0.067981</td>\n",
       "      <td>0.051051</td>\n",
       "      <td>0.037601</td>\n",
       "      <td>0.042116</td>\n",
       "      <td>0.099960</td>\n",
       "      <td>0.051710</td>\n",
       "      <td>USM B-cells</td>\n",
       "      <td>CONTROL</td>\n",
       "    </tr>\n",
       "    <tr>\n",
       "      <th>Immunodeficiency7827662</th>\n",
       "      <td>0.036432</td>\n",
       "      <td>0.120838</td>\n",
       "      <td>0.043674</td>\n",
       "      <td>0.032328</td>\n",
       "      <td>0.040536</td>\n",
       "      <td>0.026213</td>\n",
       "      <td>0.056870</td>\n",
       "      <td>0.133873</td>\n",
       "      <td>0.082699</td>\n",
       "      <td>0.011247</td>\n",
       "      <td>0.056065</td>\n",
       "      <td>0.053812</td>\n",
       "      <td>0.069181</td>\n",
       "      <td>0.052203</td>\n",
       "      <td>0.014546</td>\n",
       "      <td>0.035788</td>\n",
       "      <td>0.085676</td>\n",
       "      <td>0.048019</td>\n",
       "      <td>SM B-cells</td>\n",
       "      <td>CONTROL</td>\n",
       "    </tr>\n",
       "  </tbody>\n",
       "</table>\n",
       "</div>"
      ],
      "text/plain": [
       "                           Topic1    Topic2    Topic3    Topic4    Topic5  \\\n",
       "Immunodeficiency7827658  0.036440  0.158369  0.032220  0.015038  0.044126   \n",
       "Immunodeficiency7827659  0.047065  0.118838  0.040874  0.035259  0.046777   \n",
       "Immunodeficiency7827660  0.031559  0.120284  0.036105  0.037647  0.044385   \n",
       "Immunodeficiency7827661  0.025938  0.149434  0.041552  0.020765  0.038636   \n",
       "Immunodeficiency7827662  0.036432  0.120838  0.043674  0.032328  0.040536   \n",
       "\n",
       "                           Topic6    Topic7    Topic8    Topic9   Topic10  \\\n",
       "Immunodeficiency7827658  0.021067  0.055731  0.168165  0.093712  0.023478   \n",
       "Immunodeficiency7827659  0.033171  0.066142  0.118694  0.085651  0.023812   \n",
       "Immunodeficiency7827660  0.033264  0.044304  0.130187  0.072066  0.023685   \n",
       "Immunodeficiency7827661  0.019825  0.041740  0.136642  0.089238  0.053967   \n",
       "Immunodeficiency7827662  0.026213  0.056870  0.133873  0.082699  0.011247   \n",
       "\n",
       "                          Topic11   Topic12   Topic13   Topic14   Topic15  \\\n",
       "Immunodeficiency7827658  0.059951  0.041866  0.058896  0.049100  0.021067   \n",
       "Immunodeficiency7827659  0.057503  0.039506  0.065206  0.051528  0.014454   \n",
       "Immunodeficiency7827660  0.048768  0.095201  0.055100  0.048038  0.015324   \n",
       "Immunodeficiency7827661  0.020577  0.011266  0.067981  0.051051  0.037601   \n",
       "Immunodeficiency7827662  0.056065  0.053812  0.069181  0.052203  0.014546   \n",
       "\n",
       "                          Topic16   Topic17   Topic18     celltype TREATMENT  \n",
       "Immunodeficiency7827658  0.012627  0.084820  0.023327   SM B-cells   CONTROL  \n",
       "Immunodeficiency7827659  0.038282  0.078668  0.038570  USM B-cells   CONTROL  \n",
       "Immunodeficiency7827660  0.042680  0.082700  0.038703   SM B-cells   CONTROL  \n",
       "Immunodeficiency7827661  0.042116  0.099960  0.051710  USM B-cells   CONTROL  \n",
       "Immunodeficiency7827662  0.035788  0.085676  0.048019   SM B-cells   CONTROL  "
      ]
     },
     "execution_count": 5,
     "metadata": {},
     "output_type": "execute_result"
    }
   ],
   "source": [
    "cisTopic_18.head()"
   ]
  },
  {
   "cell_type": "code",
   "execution_count": 6,
   "metadata": {},
   "outputs": [],
   "source": [
    "# CONTROL enrichment tables\n",
    "\n",
    "cisTopic_18_control_naive = cisTopic_18[(cisTopic_18['celltype'] == 'Naive B-cells')\n",
    "                                       & (cisTopic_18['TREATMENT'] == 'CONTROL')]\n",
    "cisTopic_18_control_naive = cisTopic_18_control_naive[cisTopic_18_control_naive.columns[0:18]].astype(float)\n",
    "\n",
    "\n",
    "cisTopic_18_control_usm = cisTopic_18[(cisTopic_18['celltype'] == 'USM B-cells')\n",
    "                                       & (cisTopic_18['TREATMENT'] == 'CONTROL')]\n",
    "cisTopic_18_control_usm = cisTopic_18_control_usm[cisTopic_18_control_usm.columns[0:18]].astype(float)\n",
    "\n",
    "\n",
    "cisTopic_18_control_sm = cisTopic_18[(cisTopic_18['celltype'] == 'SM B-cells')\n",
    "                                       & (cisTopic_18['TREATMENT'] == 'CONTROL')]\n",
    "cisTopic_18_control_sm = cisTopic_18_control_sm[cisTopic_18_control_sm.columns[0:18]].astype(float)\n",
    "\n",
    "\n",
    "# CVID enrichment tables\n",
    "\n",
    "cisTopic_18_cvid_naive = cisTopic_18[(cisTopic_18['celltype'] == 'Naive B-cells')\n",
    "                                       & (cisTopic_18['TREATMENT'] == 'CVID')]\n",
    "cisTopic_18_cvid_naive = cisTopic_18_cvid_naive[cisTopic_18_cvid_naive.columns[0:18]].astype(float)\n",
    "\n",
    "\n",
    "cisTopic_18_cvid_usm = cisTopic_18[(cisTopic_18['celltype'] == 'USM B-cells')\n",
    "                                       & (cisTopic_18['TREATMENT'] == 'CVID')]\n",
    "cisTopic_18_cvid_usm = cisTopic_18_cvid_usm[cisTopic_18_cvid_usm.columns[0:18]].astype(float)\n",
    "\n",
    "\n",
    "cisTopic_18_cvid_sm = cisTopic_18[(cisTopic_18['celltype'] == 'SM B-cells')\n",
    "                                       & (cisTopic_18['TREATMENT'] == 'CVID')]\n",
    "cisTopic_18_cvid_sm = cisTopic_18_cvid_sm[cisTopic_18_cvid_sm.columns[0:18]].astype(float)\n"
   ]
  },
  {
   "cell_type": "code",
   "execution_count": 7,
   "metadata": {},
   "outputs": [],
   "source": [
    "# means table | pseudobulks\n",
    "cistopic_means_18 = pd.DataFrame(data = {'Naive CONTROL': [np.mean(cisTopic_18_control_naive[cisTopic_18_control_naive.columns[i]]) for i in range(len(cisTopic_18_control_naive.columns))],\n",
    "                                         'Naive CVID': [np.mean(cisTopic_18_cvid_naive[cisTopic_18_cvid_naive.columns[i]]) for i in range(len(cisTopic_18_cvid_naive.columns))],\n",
    "                                         'USM CONTROL': [np.mean(cisTopic_18_control_usm[cisTopic_18_control_usm.columns[i]]) for i in range(len(cisTopic_18_control_usm.columns))],\n",
    "                                         'USM CVID': [np.mean(cisTopic_18_cvid_usm[cisTopic_18_cvid_usm.columns[i]]) for i in range(len(cisTopic_18_cvid_usm.columns))],\n",
    "                                         'SM CONTROL': [np.mean(cisTopic_18_control_sm[cisTopic_18_control_sm.columns[i]]) for i in range(len(cisTopic_18_control_sm.columns))],\n",
    "                                         'SM CVID': [np.mean(cisTopic_18_cvid_sm[cisTopic_18_cvid_sm.columns[i]]) for i in range(len(cisTopic_18_cvid_sm.columns))]\n",
    "                                        })"
   ]
  },
  {
   "cell_type": "code",
   "execution_count": 8,
   "metadata": {},
   "outputs": [],
   "source": [
    "cistopic_means_18.index = [i for i in range(1,19)]"
   ]
  },
  {
   "cell_type": "code",
   "execution_count": 9,
   "metadata": {},
   "outputs": [],
   "source": [
    "# p-values\n",
    "\n",
    "pvals_Naive = {}\n",
    "pvals_USM = {}\n",
    "pvals_SM = {}\n",
    "\n",
    "for i in range(cisTopic_18_control_naive.shape[1]):\n",
    "    #print(cisTopic_18_control_naive.columns[i])\n",
    "    curr_pval_Naive = scipy.stats.mannwhitneyu(list(cisTopic_18_control_naive[cisTopic_18_control_naive.columns[i]]),\n",
    "                                         list(cisTopic_18_cvid_naive[cisTopic_18_cvid_naive.columns[i]]))[1]\n",
    "    pvals_Naive[cisTopic_18_control_naive.columns[i]] = curr_pval_Naive\n",
    "    \n",
    "    curr_pval_USM = scipy.stats.mannwhitneyu(list(cisTopic_18_control_usm[cisTopic_18_control_usm.columns[i]]),\n",
    "                                         list(cisTopic_18_cvid_usm[cisTopic_18_cvid_usm.columns[i]]))[1]\n",
    "    pvals_USM[cisTopic_18_control_naive.columns[i]] = curr_pval_USM\n",
    "    \n",
    "    curr_pval_SM = scipy.stats.mannwhitneyu(list(cisTopic_18_control_sm[cisTopic_18_control_sm.columns[i]]),\n",
    "                                         list(cisTopic_18_cvid_sm[cisTopic_18_cvid_sm.columns[i]]))[1]\n",
    "    pvals_SM[cisTopic_18_control_naive.columns[i]] = curr_pval_SM\n",
    "\n",
    "    \n",
    "    \n",
    "    \n",
    "    "
   ]
  },
  {
   "cell_type": "code",
   "execution_count": 10,
   "metadata": {},
   "outputs": [],
   "source": [
    "# from p-values to -log10(p-value)\n",
    "neglog_pvals_Naive = {}\n",
    "neglog_pvals_USM = {}\n",
    "neglog_pvals_SM = {}\n",
    "\n",
    "for i in range(topic_number):\n",
    "    #print(pvals_Naive[list(pvals_Naive.keys())[i]])\n",
    "    neglog_pvals_Naive['Topic'+str(i+1)] = -1*math.log(pvals_Naive[list(pvals_Naive.keys())[i]],10)\n",
    "    neglog_pvals_USM['Topic'+str(i+1)] = -1*math.log(pvals_USM[list(pvals_USM.keys())[i]],10)\n",
    "    neglog_pvals_SM['Topic'+str(i+1)] = -1*math.log(pvals_SM[list(pvals_SM.keys())[i]],10)\n"
   ]
  },
  {
   "cell_type": "code",
   "execution_count": 11,
   "metadata": {},
   "outputs": [],
   "source": [
    "cisTopic_x = [[i+1 for i in range(celltype_number)] for j in range(topic_number)]"
   ]
  },
  {
   "cell_type": "code",
   "execution_count": 12,
   "metadata": {},
   "outputs": [
    {
     "data": {
      "text/plain": [
       "[[1, 2, 3],\n",
       " [1, 2, 3],\n",
       " [1, 2, 3],\n",
       " [1, 2, 3],\n",
       " [1, 2, 3],\n",
       " [1, 2, 3],\n",
       " [1, 2, 3],\n",
       " [1, 2, 3],\n",
       " [1, 2, 3],\n",
       " [1, 2, 3],\n",
       " [1, 2, 3],\n",
       " [1, 2, 3],\n",
       " [1, 2, 3],\n",
       " [1, 2, 3],\n",
       " [1, 2, 3],\n",
       " [1, 2, 3],\n",
       " [1, 2, 3],\n",
       " [1, 2, 3]]"
      ]
     },
     "execution_count": 12,
     "metadata": {},
     "output_type": "execute_result"
    }
   ],
   "source": [
    "cisTopic_x"
   ]
  },
  {
   "cell_type": "code",
   "execution_count": 13,
   "metadata": {},
   "outputs": [],
   "source": [
    "cisTopic_x = [item for sublist in cisTopic_x for item in sublist]"
   ]
  },
  {
   "cell_type": "code",
   "execution_count": 14,
   "metadata": {},
   "outputs": [],
   "source": [
    "cisTopic_y = [[i+1]*celltype_number for i in range(topic_number)]"
   ]
  },
  {
   "cell_type": "code",
   "execution_count": 15,
   "metadata": {},
   "outputs": [
    {
     "data": {
      "text/plain": [
       "[[1, 1, 1],\n",
       " [2, 2, 2],\n",
       " [3, 3, 3],\n",
       " [4, 4, 4],\n",
       " [5, 5, 5],\n",
       " [6, 6, 6],\n",
       " [7, 7, 7],\n",
       " [8, 8, 8],\n",
       " [9, 9, 9],\n",
       " [10, 10, 10],\n",
       " [11, 11, 11],\n",
       " [12, 12, 12],\n",
       " [13, 13, 13],\n",
       " [14, 14, 14],\n",
       " [15, 15, 15],\n",
       " [16, 16, 16],\n",
       " [17, 17, 17],\n",
       " [18, 18, 18]]"
      ]
     },
     "execution_count": 15,
     "metadata": {},
     "output_type": "execute_result"
    }
   ],
   "source": [
    "cisTopic_y"
   ]
  },
  {
   "cell_type": "code",
   "execution_count": 16,
   "metadata": {},
   "outputs": [],
   "source": [
    "cisTopic_y = [item for sublist in cisTopic_y for item in sublist]"
   ]
  },
  {
   "cell_type": "code",
   "execution_count": 28,
   "metadata": {},
   "outputs": [],
   "source": [
    "cistopic_means_18['Naive CVID vs CONTROL'] = (cistopic_means_18['Naive CVID'] - cistopic_means_18['Naive CONTROL'])\n",
    "cistopic_means_18['USM CVID vs CONTROL'] = (cistopic_means_18['USM CVID'] - cistopic_means_18['USM CONTROL'])\n",
    "cistopic_means_18['SM CVID vs CONTROL'] = (cistopic_means_18['SM CVID'] - cistopic_means_18['SM CONTROL'])\n"
   ]
  },
  {
   "cell_type": "code",
   "execution_count": 19,
   "metadata": {},
   "outputs": [],
   "source": [
    "diff_df = pd.DataFrame(data={'Naive CVID vs CONTROL': (cistopic_means_18['Naive CVID'] - cistopic_means_18['Naive CONTROL']),\n",
    "                             'USM CVID vs CONTROL': (cistopic_means_18['USM CVID'] - cistopic_means_18['USM CONTROL']),\n",
    "                             'SM CVID vs CONTROL': (cistopic_means_18['SM CVID'] - cistopic_means_18['SM CONTROL'])}\n",
    "                      )\n",
    "                             "
   ]
  },
  {
   "cell_type": "markdown",
   "metadata": {},
   "source": [
    "_________"
   ]
  },
  {
   "cell_type": "markdown",
   "metadata": {},
   "source": [
    "## Plotting 5th and 95th percentiles"
   ]
  },
  {
   "cell_type": "code",
   "execution_count": 20,
   "metadata": {},
   "outputs": [
    {
     "data": {
      "text/html": [
       "<div>\n",
       "<style scoped>\n",
       "    .dataframe tbody tr th:only-of-type {\n",
       "        vertical-align: middle;\n",
       "    }\n",
       "\n",
       "    .dataframe tbody tr th {\n",
       "        vertical-align: top;\n",
       "    }\n",
       "\n",
       "    .dataframe thead th {\n",
       "        text-align: right;\n",
       "    }\n",
       "</style>\n",
       "<table border=\"1\" class=\"dataframe\">\n",
       "  <thead>\n",
       "    <tr style=\"text-align: right;\">\n",
       "      <th></th>\n",
       "      <th>Naive CVID vs CONTROL</th>\n",
       "      <th>USM CVID vs CONTROL</th>\n",
       "      <th>SM CVID vs CONTROL</th>\n",
       "    </tr>\n",
       "  </thead>\n",
       "  <tbody>\n",
       "    <tr>\n",
       "      <th>1</th>\n",
       "      <td>0.001666</td>\n",
       "      <td>0.007228</td>\n",
       "      <td>-0.001197</td>\n",
       "    </tr>\n",
       "    <tr>\n",
       "      <th>2</th>\n",
       "      <td>-0.004988</td>\n",
       "      <td>-0.005243</td>\n",
       "      <td>-0.018130</td>\n",
       "    </tr>\n",
       "    <tr>\n",
       "      <th>3</th>\n",
       "      <td>0.001482</td>\n",
       "      <td>0.001721</td>\n",
       "      <td>0.006141</td>\n",
       "    </tr>\n",
       "    <tr>\n",
       "      <th>4</th>\n",
       "      <td>0.001105</td>\n",
       "      <td>0.000783</td>\n",
       "      <td>0.009785</td>\n",
       "    </tr>\n",
       "    <tr>\n",
       "      <th>5</th>\n",
       "      <td>0.000715</td>\n",
       "      <td>0.000783</td>\n",
       "      <td>0.009710</td>\n",
       "    </tr>\n",
       "    <tr>\n",
       "      <th>6</th>\n",
       "      <td>0.001189</td>\n",
       "      <td>0.001106</td>\n",
       "      <td>0.012497</td>\n",
       "    </tr>\n",
       "    <tr>\n",
       "      <th>7</th>\n",
       "      <td>-0.002007</td>\n",
       "      <td>0.002443</td>\n",
       "      <td>-0.012027</td>\n",
       "    </tr>\n",
       "    <tr>\n",
       "      <th>8</th>\n",
       "      <td>-0.005694</td>\n",
       "      <td>-0.006860</td>\n",
       "      <td>-0.019758</td>\n",
       "    </tr>\n",
       "    <tr>\n",
       "      <th>9</th>\n",
       "      <td>-0.002218</td>\n",
       "      <td>-0.003730</td>\n",
       "      <td>-0.006390</td>\n",
       "    </tr>\n",
       "    <tr>\n",
       "      <th>10</th>\n",
       "      <td>0.002462</td>\n",
       "      <td>-0.003839</td>\n",
       "      <td>0.001829</td>\n",
       "    </tr>\n",
       "    <tr>\n",
       "      <th>11</th>\n",
       "      <td>-0.001104</td>\n",
       "      <td>0.006858</td>\n",
       "      <td>-0.006664</td>\n",
       "    </tr>\n",
       "    <tr>\n",
       "      <th>12</th>\n",
       "      <td>-0.000344</td>\n",
       "      <td>-0.000276</td>\n",
       "      <td>0.008640</td>\n",
       "    </tr>\n",
       "    <tr>\n",
       "      <th>13</th>\n",
       "      <td>0.000232</td>\n",
       "      <td>0.001599</td>\n",
       "      <td>-0.001869</td>\n",
       "    </tr>\n",
       "    <tr>\n",
       "      <th>14</th>\n",
       "      <td>0.001260</td>\n",
       "      <td>-0.000306</td>\n",
       "      <td>0.004568</td>\n",
       "    </tr>\n",
       "    <tr>\n",
       "      <th>15</th>\n",
       "      <td>0.003862</td>\n",
       "      <td>0.000512</td>\n",
       "      <td>0.006776</td>\n",
       "    </tr>\n",
       "    <tr>\n",
       "      <th>16</th>\n",
       "      <td>0.002271</td>\n",
       "      <td>-0.000406</td>\n",
       "      <td>0.008899</td>\n",
       "    </tr>\n",
       "    <tr>\n",
       "      <th>17</th>\n",
       "      <td>-0.001856</td>\n",
       "      <td>-0.003846</td>\n",
       "      <td>-0.005124</td>\n",
       "    </tr>\n",
       "    <tr>\n",
       "      <th>18</th>\n",
       "      <td>0.001968</td>\n",
       "      <td>0.001472</td>\n",
       "      <td>0.002315</td>\n",
       "    </tr>\n",
       "  </tbody>\n",
       "</table>\n",
       "</div>"
      ],
      "text/plain": [
       "    Naive CVID vs CONTROL  USM CVID vs CONTROL  SM CVID vs CONTROL\n",
       "1                0.001666             0.007228           -0.001197\n",
       "2               -0.004988            -0.005243           -0.018130\n",
       "3                0.001482             0.001721            0.006141\n",
       "4                0.001105             0.000783            0.009785\n",
       "5                0.000715             0.000783            0.009710\n",
       "6                0.001189             0.001106            0.012497\n",
       "7               -0.002007             0.002443           -0.012027\n",
       "8               -0.005694            -0.006860           -0.019758\n",
       "9               -0.002218            -0.003730           -0.006390\n",
       "10               0.002462            -0.003839            0.001829\n",
       "11              -0.001104             0.006858           -0.006664\n",
       "12              -0.000344            -0.000276            0.008640\n",
       "13               0.000232             0.001599           -0.001869\n",
       "14               0.001260            -0.000306            0.004568\n",
       "15               0.003862             0.000512            0.006776\n",
       "16               0.002271            -0.000406            0.008899\n",
       "17              -0.001856            -0.003846           -0.005124\n",
       "18               0.001968             0.001472            0.002315"
      ]
     },
     "execution_count": 20,
     "metadata": {},
     "output_type": "execute_result"
    }
   ],
   "source": [
    "diff_df"
   ]
  },
  {
   "cell_type": "code",
   "execution_count": 21,
   "metadata": {},
   "outputs": [],
   "source": [
    "# difference (CVID vs CONTROL) values for all 3 cell states\n",
    "all_3_diff = diff_df.values"
   ]
  },
  {
   "cell_type": "code",
   "execution_count": 22,
   "metadata": {},
   "outputs": [],
   "source": [
    "all_3_diff = [item for sublist in all_3_diff for item in sublist]"
   ]
  },
  {
   "cell_type": "code",
   "execution_count": 27,
   "metadata": {},
   "outputs": [
    {
     "data": {
      "image/png": "[encoded data removed]",
      "text/plain": [
       "<Figure size 504x504 with 1 Axes>"
      ]
     },
     "metadata": {
      "needs_background": "light"
     },
     "output_type": "display_data"
    }
   ],
   "source": [
    "plt.figure(figsize=[7,7])\n",
    "plt.scatter(list(diff_df.index), diff_df['Naive CVID vs CONTROL'], c='#D0004A', s=17, label='Naive')\n",
    "plt.scatter(list(diff_df.index), diff_df['USM CVID vs CONTROL'], c='#245032', s=17, label='USM')\n",
    "plt.scatter(list(diff_df.index), diff_df['SM CVID vs CONTROL'], c='#0060CC', s=17, label='SM')\n",
    "\n",
    "plt.xticks([i+1 for i in range(len(diff_df.index))])\n",
    "\n",
    "\n",
    "plt.axhline(y=np.percentile(all_3_diff, 5), c='grey')\n",
    "plt.axhline(y=np.percentile(all_3_diff, 95), c='grey')\n",
    "\n",
    "plt.ylim(top=-min(all_3_diff)+0.003)  # adjust the top leaving bottom unchanged\n",
    "plt.ylim(bottom=min(all_3_diff)-0.003)  # adjust the bottom leaving top unchanged\n",
    "\n",
    "plt.xlabel('Topic')\n",
    "\n",
    "\n",
    "\n",
    "plt.legend()\n",
    "\n",
    "\n",
    "plt.ylabel('Diff. Normalised AUC Score \\n (CVID vs control)')\n",
    "\n",
    "\n",
    "plt.savefig('./figures/cisTopic_percentile_topics_cell_states.pdf',bbox_inches='tight')"
   ]
  },
  {
   "cell_type": "markdown",
   "metadata": {},
   "source": [
    "So at the extremes of differences in topic enrichment between CVID and CONTROL we see topics 2,7,8 and 4,5,6"
   ]
  },
  {
   "cell_type": "markdown",
   "metadata": {},
   "source": [
    "_________"
   ]
  },
  {
   "cell_type": "code",
   "execution_count": 32,
   "metadata": {},
   "outputs": [],
   "source": [
    "cisTopic_colors = []\n",
    "for i in range(topic_number):\n",
    "    cisTopic_colors.append(list(diff_df.loc[i+1,:]))"
   ]
  },
  {
   "cell_type": "code",
   "execution_count": 33,
   "metadata": {},
   "outputs": [],
   "source": [
    "cisTopic_colors = [item for sublist in cisTopic_colors for item in sublist]"
   ]
  },
  {
   "cell_type": "code",
   "execution_count": 34,
   "metadata": {},
   "outputs": [],
   "source": [
    "cisTopic_sizes = []\n",
    "for i in range(topic_number):\n",
    "    cisTopic_sizes.append(neglog_pvals_Naive['Topic'+str(i+1)])\n",
    "    cisTopic_sizes.append(neglog_pvals_USM['Topic'+str(i+1)])\n",
    "    cisTopic_sizes.append(neglog_pvals_SM['Topic'+str(i+1)])\n"
   ]
  },
  {
   "cell_type": "code",
   "execution_count": 43,
   "metadata": {},
   "outputs": [],
   "source": [
    "# bigger dots for easier visual assessment\n",
    "cisTopic_sizes_15 = [elem*15 for elem in cisTopic_sizes]"
   ]
  },
  {
   "cell_type": "code",
   "execution_count": 37,
   "metadata": {},
   "outputs": [],
   "source": [
    "dot_sequence_int_15 = [elem*15 for elem in [0.1, 2, 5, 10]]"
   ]
  },
  {
   "cell_type": "code",
   "execution_count": 39,
   "metadata": {},
   "outputs": [
    {
     "data": {
      "text/plain": [
       "0.012496660837816219"
      ]
     },
     "execution_count": 39,
     "metadata": {},
     "output_type": "execute_result"
    }
   ],
   "source": [
    "max(cisTopic_colors)"
   ]
  },
  {
   "cell_type": "code",
   "execution_count": 40,
   "metadata": {},
   "outputs": [
    {
     "data": {
      "text/plain": [
       "-0.01975810304866636"
      ]
     },
     "execution_count": 40,
     "metadata": {},
     "output_type": "execute_result"
    }
   ],
   "source": [
    "min(cisTopic_colors)"
   ]
  },
  {
   "cell_type": "code",
   "execution_count": 46,
   "metadata": {},
   "outputs": [
    {
     "data": {
      "image/png": "[encoded data removed]",
      "text/plain": [
       "<Figure size 288x720 with 2 Axes>"
      ]
     },
     "metadata": {
      "needs_background": "light"
     },
     "output_type": "display_data"
    },
    {
     "data": {
      "image/png": "[encoded data removed]",
      "text/plain": [
       "<Figure size 216x144 with 1 Axes>"
      ]
     },
     "metadata": {
      "needs_background": "light"
     },
     "output_type": "display_data"
    }
   ],
   "source": [
    "from mpl_toolkits.axes_grid1.inset_locator import inset_axes\n",
    "\n",
    "fig1 = plt.figure(figsize=[4,10])\n",
    "ax1 = plt.subplot(111)\n",
    "\n",
    "x = cisTopic_x # celltype+condition variable (6 total)\n",
    "y = cisTopic_y # topics\n",
    "#x = np.random.random()\n",
    "#y = np.random.random()\n",
    "c = cisTopic_colors  # color of points\n",
    "s = cisTopic_sizes_15  # size of points\n",
    "\n",
    "#plt.title('|\\u0394''(Normalised AUC score)| between CVID and control',fontsize=16)\n",
    "\n",
    "im1 = ax1.scatter(x, y, c=c, s=s, cmap='coolwarm', vmin=min(cisTopic_colors), vmax=-min(cisTopic_colors))\n",
    "\n",
    "# Add a colorbar\n",
    "cbar = plt.colorbar(im1, ax=ax1)\n",
    "#cbar = plt.clim(min(cisTopic_colors), -min(cisTopic_colors))\n",
    "\n",
    "cbar.set_label('\\u0394''(Normalised AUC score) between CVID and control',fontsize=16)\n",
    "\n",
    "# set the color limits - not necessary here, but good to know how.\n",
    "im1.set_clim(min(cisTopic_colors), -min(cisTopic_colors))\n",
    "\n",
    "plt.xlabel('Cell State',fontsize=20)\n",
    "plt.ylabel('Topic',fontsize=20)\n",
    "\n",
    "plt.xticks([1,2,3], ('Naive', 'USM', 'SM'))\n",
    "plt.yticks([i+1 for i in range(18)],tuple([i+1 for i in range(18)]))\n",
    "\n",
    "plt.tick_params(axis='x',labelsize=16, labelrotation=60)\n",
    "\n",
    "plt.xlim(0.4, 3.6)\n",
    "plt.ylim(0, 19)\n",
    "\n",
    "\n",
    "\n",
    "\n",
    "\n",
    "fig2 = plt.figure(figsize=[3,2])\n",
    "ax2 = plt.subplot()\n",
    "\n",
    "x_dots = [1,1,1,1]\n",
    "y_dots = [1,2,3,4]\n",
    "\n",
    "im2 = ax2.scatter(x_dots, y_dots, c='black', s=dot_sequence_int_15, cmap='YlOrRd')\n",
    "\n",
    "plt.text(1.1,1,'0.1',fontsize=14)\n",
    "plt.text(1.1,2,'2',fontsize=14)\n",
    "plt.text(1.1,3,'5',fontsize=14)\n",
    "plt.text(1.1,4,r'$\\geqslant 10$',fontsize=14)\n",
    "\n",
    "plt.text(0.83, 5.1, r'$-\\log_{10} (p-value)$', fontsize=14)\n",
    "\n",
    "plt.axis('off')\n",
    "\n",
    "plt.xlim(0.8, 1.5)\n",
    "plt.ylim(0, 6)\n",
    "\n",
    "#plt.show()\n",
    "\n",
    "\n",
    "\n",
    "import matplotlib.backends.backend_pdf\n",
    "pdf = matplotlib.backends.backend_pdf.PdfPages(\"./figures/cisTopic_dotplot_cell_state.pdf\")\n",
    "for fig in [fig1, fig2]: ## will open an empty extra figure :(\n",
    "    pdf.savefig(fig, bbox_inches='tight')\n",
    "pdf.close()"
   ]
  },
  {
   "cell_type": "code",
   "execution_count": null,
   "metadata": {},
   "outputs": [],
   "source": []
  },
  {
   "cell_type": "code",
   "execution_count": null,
   "metadata": {},
   "outputs": [],
   "source": []
  }
 ],
 "metadata": {
  "kernelspec": {
   "display_name": "Python 3",
   "language": "python",
   "name": "python3"
  },
  "language_info": {
   "codemirror_mode": {
    "name": "ipython",
    "version": 3
   },
   "file_extension": ".py",
   "mimetype": "text/x-python",
   "name": "python",
   "nbconvert_exporter": "python",
   "pygments_lexer": "ipython3",
   "version": "3.7.3"
  }
 },
 "nbformat": 4,
 "nbformat_minor": 4
}
