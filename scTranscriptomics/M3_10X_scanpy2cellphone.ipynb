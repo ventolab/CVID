{
 "cells": [
  {
   "cell_type": "markdown",
   "metadata": {},
   "source": [
    "This code loads an scapny object and extracts the normalized gene expression matrix for CellphoneDB.\n",
    "Optionally, it also generates the metadata table.\n",
    "\n",
    "\n",
    "**Input:** \n",
    "1. Path to the scanpy object. The scanpy anndata object should contain:\n",
    "    - `adata.uns[\"cellphoneDB\"]` or `adata.raw.X`\n",
    "        - `adata.uns[\"cellphoneDB\"]` should be a filtered and normalized gene expression matrix where cells are **rows** and genes **columns**.\n",
    "        - `adata.raw.X` should be a filtered and normalized gene expression matrix where cells are **rows** and genes **columns**.\n",
    "    - `adata.obs` containing cell ids as index. Cell ids should match the ids used in the metadata file.\n",
    "    - `adata.raw.var` containing gene ids as index. These should be either Ensembl IDs or gene names.\n",
    "2. Optional. The name of the `adata.obs` column containg the cell-cluster classification.\n",
    "\n",
    "\n",
    "**Output**\n",
    "1. A pandas dataframe containing the gene expression values, with cells as columns and genes as rows (`df_expr_matrix`).\n",
    "2. Optional.  A pandas dataframe containing the metadata. The format of the metadata is a two columns dataframe where the first column is the cell id and the second column the cluster id (`df_meta`)."
   ]
  },
  {
   "cell_type": "code",
   "execution_count": 12,
   "metadata": {},
   "outputs": [],
   "source": [
    "import pandas as pd\n",
    "import scanpy as sc\n",
    "import anndata\n",
    "import numpy as np"
   ]
  },
  {
   "cell_type": "code",
   "execution_count": 13,
   "metadata": {},
   "outputs": [],
   "source": [
    "# normalised but not log transformed data \n",
    "path_to_scanpy = \"./adata_activation_for_cellphoneDB.h5ad\"\n",
    "celltype_variable_name = 'annotation'"
   ]
  },
  {
   "cell_type": "markdown",
   "metadata": {},
   "source": [
    "### Extract count matrix"
   ]
  },
  {
   "cell_type": "markdown",
   "metadata": {},
   "source": [
    "Load the scanpy object and extract normalized matrix, transpose it and format it as pandas dataframe"
   ]
  },
  {
   "cell_type": "code",
   "execution_count": 14,
   "metadata": {},
   "outputs": [
    {
     "name": "stdout",
     "output_type": "stream",
     "text": [
      "adata.uns[\"cellphoneDB\"] not found\n",
      "Using adata.raw.X matrix. This assumes cell-normalized and log transformed data.\n"
     ]
    }
   ],
   "source": [
    "adata = sc.read(path_to_scanpy)\n",
    "\n",
    "if 'cellphoneDB' in adata.uns:\n",
    "    print('using adata.uns[\"cellphoneDB\"] as expression matrix')\n",
    "    df_expr_matrix = adata.uns[\"cellphoneDB\"]\n",
    "    df_expr_matrix = df_expr_matrix.T\n",
    "    df_expr_matrix = pd.DataFrame(df_expr_matrix.toarray())\n",
    "    # Set cell ids as column index\n",
    "    df_expr_matrix.columns = adata.obs.index\n",
    "    # Set gene ids as row index\n",
    "    df_expr_matrix.set_index(adata.raw.var.index, inplace=True)\n",
    "else:\n",
    "    print('adata.uns[\"cellphoneDB\"] not found\\nUsing adata.raw.X matrix. This assumes cell-normalized NOT log transformed data.')\n",
    "    adata_count = anndata.AnnData(X=adata.raw.X, var=adata.raw.var, obs=adata.obs)\n",
    "    t = adata_count.X.toarray().T\n",
    "    # Set cell ids as column index and gene ids as row index\n",
    "    df_expr_matrix = pd.DataFrame(data=t, columns= adata_count.obs.index, index=adata_count.var_names)"
   ]
  },
  {
   "cell_type": "markdown",
   "metadata": {},
   "source": [
    "### Extract meta (optional)"
   ]
  },
  {
   "cell_type": "code",
   "execution_count": 15,
   "metadata": {},
   "outputs": [],
   "source": [
    "df_meta = pd.DataFrame(data={'Cell':list(adata.obs.index),\n",
    "'cell_type':[ 'celltype_'+str(i) for i in adata.obs[celltype_variable_name]] })\n",
    "df_meta.set_index('Cell', inplace=True)"
   ]
  },
  {
   "cell_type": "markdown",
   "metadata": {},
   "source": [
    "## Save \n",
    "if needed"
   ]
  },
  {
   "cell_type": "code",
   "execution_count": 18,
   "metadata": {},
   "outputs": [],
   "source": [
    "savepath_counts = './counts.csv'\n",
    "df_expr_matrix.to_csv(savepath_counts)\n",
    "savepath_meta = './meta.tsv'\n",
    "df_meta.to_csv(savepath_meta, sep = '\\t')"
   ]
  },
  {
   "cell_type": "code",
   "execution_count": null,
   "metadata": {},
   "outputs": [],
   "source": []
  }
 ],
 "metadata": {
  "kernelspec": {
   "display_name": "Python [conda env:myenv]",
   "language": "python",
   "name": "conda-env-myenv-py"
  },
  "language_info": {
   "codemirror_mode": {
    "name": "ipython",
    "version": 3
   },
   "file_extension": ".py",
   "mimetype": "text/x-python",
   "name": "python",
   "nbconvert_exporter": "python",
   "pygments_lexer": "ipython3",
   "version": "3.7.2"
  }
 },
 "nbformat": 4,
 "nbformat_minor": 4
}
